{
  "nbformat": 4,
  "nbformat_minor": 0,
  "metadata": {
    "colab": {
      "provenance": []
    },
    "kernelspec": {
      "name": "python3",
      "display_name": "Python 3"
    },
    "language_info": {
      "name": "python"
    },
    "accelerator": "GPU",
    "gpuClass": "standard",
    "widgets": {
      "application/vnd.jupyter.widget-state+json": {
        "a188881b41e04e689e35ec5b0d921741": {
          "model_module": "@jupyter-widgets/controls",
          "model_name": "HBoxModel",
          "model_module_version": "1.5.0",
          "state": {
            "_dom_classes": [],
            "_model_module": "@jupyter-widgets/controls",
            "_model_module_version": "1.5.0",
            "_model_name": "HBoxModel",
            "_view_count": null,
            "_view_module": "@jupyter-widgets/controls",
            "_view_module_version": "1.5.0",
            "_view_name": "HBoxView",
            "box_style": "",
            "children": [
              "IPY_MODEL_4eabb486e5d84ae3a11351bd6606fd09",
              "IPY_MODEL_81e3349c103248d08a2c3e8035cce2cd",
              "IPY_MODEL_40d930bcbea94f8fbedf405be35bf406"
            ],
            "layout": "IPY_MODEL_13472a543c3e4cc99956cd63114b1b78"
          }
        },
        "4eabb486e5d84ae3a11351bd6606fd09": {
          "model_module": "@jupyter-widgets/controls",
          "model_name": "HTMLModel",
          "model_module_version": "1.5.0",
          "state": {
            "_dom_classes": [],
            "_model_module": "@jupyter-widgets/controls",
            "_model_module_version": "1.5.0",
            "_model_name": "HTMLModel",
            "_view_count": null,
            "_view_module": "@jupyter-widgets/controls",
            "_view_module_version": "1.5.0",
            "_view_name": "HTMLView",
            "description": "",
            "description_tooltip": null,
            "layout": "IPY_MODEL_1b1b4672704e4fcb93b99d10e87761df",
            "placeholder": "​",
            "style": "IPY_MODEL_c882767f04e64ed0b14b52b4cffc1a76",
            "value": "Downloading (…)lve/main/config.json: 100%"
          }
        },
        "81e3349c103248d08a2c3e8035cce2cd": {
          "model_module": "@jupyter-widgets/controls",
          "model_name": "FloatProgressModel",
          "model_module_version": "1.5.0",
          "state": {
            "_dom_classes": [],
            "_model_module": "@jupyter-widgets/controls",
            "_model_module_version": "1.5.0",
            "_model_name": "FloatProgressModel",
            "_view_count": null,
            "_view_module": "@jupyter-widgets/controls",
            "_view_module_version": "1.5.0",
            "_view_name": "ProgressView",
            "bar_style": "success",
            "description": "",
            "description_tooltip": null,
            "layout": "IPY_MODEL_86f5a4dc8e2941a399469fa1d93f5b90",
            "max": 929,
            "min": 0,
            "orientation": "horizontal",
            "style": "IPY_MODEL_44093ce7603c46c7a69430bd5308ec67",
            "value": 929
          }
        },
        "40d930bcbea94f8fbedf405be35bf406": {
          "model_module": "@jupyter-widgets/controls",
          "model_name": "HTMLModel",
          "model_module_version": "1.5.0",
          "state": {
            "_dom_classes": [],
            "_model_module": "@jupyter-widgets/controls",
            "_model_module_version": "1.5.0",
            "_model_name": "HTMLModel",
            "_view_count": null,
            "_view_module": "@jupyter-widgets/controls",
            "_view_module_version": "1.5.0",
            "_view_name": "HTMLView",
            "description": "",
            "description_tooltip": null,
            "layout": "IPY_MODEL_b77be3536fe14e88b54bc37dda2d5736",
            "placeholder": "​",
            "style": "IPY_MODEL_b8e6b034f8fa4a4888812a86f494a58e",
            "value": " 929/929 [00:00&lt;00:00, 29.7kB/s]"
          }
        },
        "13472a543c3e4cc99956cd63114b1b78": {
          "model_module": "@jupyter-widgets/base",
          "model_name": "LayoutModel",
          "model_module_version": "1.2.0",
          "state": {
            "_model_module": "@jupyter-widgets/base",
            "_model_module_version": "1.2.0",
            "_model_name": "LayoutModel",
            "_view_count": null,
            "_view_module": "@jupyter-widgets/base",
            "_view_module_version": "1.2.0",
            "_view_name": "LayoutView",
            "align_content": null,
            "align_items": null,
            "align_self": null,
            "border": null,
            "bottom": null,
            "display": null,
            "flex": null,
            "flex_flow": null,
            "grid_area": null,
            "grid_auto_columns": null,
            "grid_auto_flow": null,
            "grid_auto_rows": null,
            "grid_column": null,
            "grid_gap": null,
            "grid_row": null,
            "grid_template_areas": null,
            "grid_template_columns": null,
            "grid_template_rows": null,
            "height": null,
            "justify_content": null,
            "justify_items": null,
            "left": null,
            "margin": null,
            "max_height": null,
            "max_width": null,
            "min_height": null,
            "min_width": null,
            "object_fit": null,
            "object_position": null,
            "order": null,
            "overflow": null,
            "overflow_x": null,
            "overflow_y": null,
            "padding": null,
            "right": null,
            "top": null,
            "visibility": null,
            "width": null
          }
        },
        "1b1b4672704e4fcb93b99d10e87761df": {
          "model_module": "@jupyter-widgets/base",
          "model_name": "LayoutModel",
          "model_module_version": "1.2.0",
          "state": {
            "_model_module": "@jupyter-widgets/base",
            "_model_module_version": "1.2.0",
            "_model_name": "LayoutModel",
            "_view_count": null,
            "_view_module": "@jupyter-widgets/base",
            "_view_module_version": "1.2.0",
            "_view_name": "LayoutView",
            "align_content": null,
            "align_items": null,
            "align_self": null,
            "border": null,
            "bottom": null,
            "display": null,
            "flex": null,
            "flex_flow": null,
            "grid_area": null,
            "grid_auto_columns": null,
            "grid_auto_flow": null,
            "grid_auto_rows": null,
            "grid_column": null,
            "grid_gap": null,
            "grid_row": null,
            "grid_template_areas": null,
            "grid_template_columns": null,
            "grid_template_rows": null,
            "height": null,
            "justify_content": null,
            "justify_items": null,
            "left": null,
            "margin": null,
            "max_height": null,
            "max_width": null,
            "min_height": null,
            "min_width": null,
            "object_fit": null,
            "object_position": null,
            "order": null,
            "overflow": null,
            "overflow_x": null,
            "overflow_y": null,
            "padding": null,
            "right": null,
            "top": null,
            "visibility": null,
            "width": null
          }
        },
        "c882767f04e64ed0b14b52b4cffc1a76": {
          "model_module": "@jupyter-widgets/controls",
          "model_name": "DescriptionStyleModel",
          "model_module_version": "1.5.0",
          "state": {
            "_model_module": "@jupyter-widgets/controls",
            "_model_module_version": "1.5.0",
            "_model_name": "DescriptionStyleModel",
            "_view_count": null,
            "_view_module": "@jupyter-widgets/base",
            "_view_module_version": "1.2.0",
            "_view_name": "StyleView",
            "description_width": ""
          }
        },
        "86f5a4dc8e2941a399469fa1d93f5b90": {
          "model_module": "@jupyter-widgets/base",
          "model_name": "LayoutModel",
          "model_module_version": "1.2.0",
          "state": {
            "_model_module": "@jupyter-widgets/base",
            "_model_module_version": "1.2.0",
            "_model_name": "LayoutModel",
            "_view_count": null,
            "_view_module": "@jupyter-widgets/base",
            "_view_module_version": "1.2.0",
            "_view_name": "LayoutView",
            "align_content": null,
            "align_items": null,
            "align_self": null,
            "border": null,
            "bottom": null,
            "display": null,
            "flex": null,
            "flex_flow": null,
            "grid_area": null,
            "grid_auto_columns": null,
            "grid_auto_flow": null,
            "grid_auto_rows": null,
            "grid_column": null,
            "grid_gap": null,
            "grid_row": null,
            "grid_template_areas": null,
            "grid_template_columns": null,
            "grid_template_rows": null,
            "height": null,
            "justify_content": null,
            "justify_items": null,
            "left": null,
            "margin": null,
            "max_height": null,
            "max_width": null,
            "min_height": null,
            "min_width": null,
            "object_fit": null,
            "object_position": null,
            "order": null,
            "overflow": null,
            "overflow_x": null,
            "overflow_y": null,
            "padding": null,
            "right": null,
            "top": null,
            "visibility": null,
            "width": null
          }
        },
        "44093ce7603c46c7a69430bd5308ec67": {
          "model_module": "@jupyter-widgets/controls",
          "model_name": "ProgressStyleModel",
          "model_module_version": "1.5.0",
          "state": {
            "_model_module": "@jupyter-widgets/controls",
            "_model_module_version": "1.5.0",
            "_model_name": "ProgressStyleModel",
            "_view_count": null,
            "_view_module": "@jupyter-widgets/base",
            "_view_module_version": "1.2.0",
            "_view_name": "StyleView",
            "bar_color": null,
            "description_width": ""
          }
        },
        "b77be3536fe14e88b54bc37dda2d5736": {
          "model_module": "@jupyter-widgets/base",
          "model_name": "LayoutModel",
          "model_module_version": "1.2.0",
          "state": {
            "_model_module": "@jupyter-widgets/base",
            "_model_module_version": "1.2.0",
            "_model_name": "LayoutModel",
            "_view_count": null,
            "_view_module": "@jupyter-widgets/base",
            "_view_module_version": "1.2.0",
            "_view_name": "LayoutView",
            "align_content": null,
            "align_items": null,
            "align_self": null,
            "border": null,
            "bottom": null,
            "display": null,
            "flex": null,
            "flex_flow": null,
            "grid_area": null,
            "grid_auto_columns": null,
            "grid_auto_flow": null,
            "grid_auto_rows": null,
            "grid_column": null,
            "grid_gap": null,
            "grid_row": null,
            "grid_template_areas": null,
            "grid_template_columns": null,
            "grid_template_rows": null,
            "height": null,
            "justify_content": null,
            "justify_items": null,
            "left": null,
            "margin": null,
            "max_height": null,
            "max_width": null,
            "min_height": null,
            "min_width": null,
            "object_fit": null,
            "object_position": null,
            "order": null,
            "overflow": null,
            "overflow_x": null,
            "overflow_y": null,
            "padding": null,
            "right": null,
            "top": null,
            "visibility": null,
            "width": null
          }
        },
        "b8e6b034f8fa4a4888812a86f494a58e": {
          "model_module": "@jupyter-widgets/controls",
          "model_name": "DescriptionStyleModel",
          "model_module_version": "1.5.0",
          "state": {
            "_model_module": "@jupyter-widgets/controls",
            "_model_module_version": "1.5.0",
            "_model_name": "DescriptionStyleModel",
            "_view_count": null,
            "_view_module": "@jupyter-widgets/base",
            "_view_module_version": "1.2.0",
            "_view_name": "StyleView",
            "description_width": ""
          }
        },
        "07d4307eae0b4383b2fd35ab4fa636b7": {
          "model_module": "@jupyter-widgets/controls",
          "model_name": "HBoxModel",
          "model_module_version": "1.5.0",
          "state": {
            "_dom_classes": [],
            "_model_module": "@jupyter-widgets/controls",
            "_model_module_version": "1.5.0",
            "_model_name": "HBoxModel",
            "_view_count": null,
            "_view_module": "@jupyter-widgets/controls",
            "_view_module_version": "1.5.0",
            "_view_name": "HBoxView",
            "box_style": "",
            "children": [
              "IPY_MODEL_8cc81ffba14c4d75a5beb3d23e1d9df8",
              "IPY_MODEL_39d7e94dd34b4123ba2c1cdb0126f9ea",
              "IPY_MODEL_d457f77367154d00876099319528b64b"
            ],
            "layout": "IPY_MODEL_17fd5c6413ba4e71b7e5a35fe1b62e95"
          }
        },
        "8cc81ffba14c4d75a5beb3d23e1d9df8": {
          "model_module": "@jupyter-widgets/controls",
          "model_name": "HTMLModel",
          "model_module_version": "1.5.0",
          "state": {
            "_dom_classes": [],
            "_model_module": "@jupyter-widgets/controls",
            "_model_module_version": "1.5.0",
            "_model_name": "HTMLModel",
            "_view_count": null,
            "_view_module": "@jupyter-widgets/controls",
            "_view_module_version": "1.5.0",
            "_view_name": "HTMLView",
            "description": "",
            "description_tooltip": null,
            "layout": "IPY_MODEL_b102c6a1164b487a98f26a41f8c9a6a8",
            "placeholder": "​",
            "style": "IPY_MODEL_33e8dd10ea7e493f8b6403b5833e99de",
            "value": "Downloading (…)olve/main/vocab.json: 100%"
          }
        },
        "39d7e94dd34b4123ba2c1cdb0126f9ea": {
          "model_module": "@jupyter-widgets/controls",
          "model_name": "FloatProgressModel",
          "model_module_version": "1.5.0",
          "state": {
            "_dom_classes": [],
            "_model_module": "@jupyter-widgets/controls",
            "_model_module_version": "1.5.0",
            "_model_name": "FloatProgressModel",
            "_view_count": null,
            "_view_module": "@jupyter-widgets/controls",
            "_view_module_version": "1.5.0",
            "_view_name": "ProgressView",
            "bar_style": "success",
            "description": "",
            "description_tooltip": null,
            "layout": "IPY_MODEL_6ef302bcabd8451c855dacee889b294b",
            "max": 898822,
            "min": 0,
            "orientation": "horizontal",
            "style": "IPY_MODEL_af2a58248772491aa282514855eba9c9",
            "value": 898822
          }
        },
        "d457f77367154d00876099319528b64b": {
          "model_module": "@jupyter-widgets/controls",
          "model_name": "HTMLModel",
          "model_module_version": "1.5.0",
          "state": {
            "_dom_classes": [],
            "_model_module": "@jupyter-widgets/controls",
            "_model_module_version": "1.5.0",
            "_model_name": "HTMLModel",
            "_view_count": null,
            "_view_module": "@jupyter-widgets/controls",
            "_view_module_version": "1.5.0",
            "_view_name": "HTMLView",
            "description": "",
            "description_tooltip": null,
            "layout": "IPY_MODEL_9955c6ccfa79498c835a23fa0be0daa6",
            "placeholder": "​",
            "style": "IPY_MODEL_b1d5a6dfbe1b4b8a9a74417ecf219391",
            "value": " 899k/899k [00:01&lt;00:00, 797kB/s]"
          }
        },
        "17fd5c6413ba4e71b7e5a35fe1b62e95": {
          "model_module": "@jupyter-widgets/base",
          "model_name": "LayoutModel",
          "model_module_version": "1.2.0",
          "state": {
            "_model_module": "@jupyter-widgets/base",
            "_model_module_version": "1.2.0",
            "_model_name": "LayoutModel",
            "_view_count": null,
            "_view_module": "@jupyter-widgets/base",
            "_view_module_version": "1.2.0",
            "_view_name": "LayoutView",
            "align_content": null,
            "align_items": null,
            "align_self": null,
            "border": null,
            "bottom": null,
            "display": null,
            "flex": null,
            "flex_flow": null,
            "grid_area": null,
            "grid_auto_columns": null,
            "grid_auto_flow": null,
            "grid_auto_rows": null,
            "grid_column": null,
            "grid_gap": null,
            "grid_row": null,
            "grid_template_areas": null,
            "grid_template_columns": null,
            "grid_template_rows": null,
            "height": null,
            "justify_content": null,
            "justify_items": null,
            "left": null,
            "margin": null,
            "max_height": null,
            "max_width": null,
            "min_height": null,
            "min_width": null,
            "object_fit": null,
            "object_position": null,
            "order": null,
            "overflow": null,
            "overflow_x": null,
            "overflow_y": null,
            "padding": null,
            "right": null,
            "top": null,
            "visibility": null,
            "width": null
          }
        },
        "b102c6a1164b487a98f26a41f8c9a6a8": {
          "model_module": "@jupyter-widgets/base",
          "model_name": "LayoutModel",
          "model_module_version": "1.2.0",
          "state": {
            "_model_module": "@jupyter-widgets/base",
            "_model_module_version": "1.2.0",
            "_model_name": "LayoutModel",
            "_view_count": null,
            "_view_module": "@jupyter-widgets/base",
            "_view_module_version": "1.2.0",
            "_view_name": "LayoutView",
            "align_content": null,
            "align_items": null,
            "align_self": null,
            "border": null,
            "bottom": null,
            "display": null,
            "flex": null,
            "flex_flow": null,
            "grid_area": null,
            "grid_auto_columns": null,
            "grid_auto_flow": null,
            "grid_auto_rows": null,
            "grid_column": null,
            "grid_gap": null,
            "grid_row": null,
            "grid_template_areas": null,
            "grid_template_columns": null,
            "grid_template_rows": null,
            "height": null,
            "justify_content": null,
            "justify_items": null,
            "left": null,
            "margin": null,
            "max_height": null,
            "max_width": null,
            "min_height": null,
            "min_width": null,
            "object_fit": null,
            "object_position": null,
            "order": null,
            "overflow": null,
            "overflow_x": null,
            "overflow_y": null,
            "padding": null,
            "right": null,
            "top": null,
            "visibility": null,
            "width": null
          }
        },
        "33e8dd10ea7e493f8b6403b5833e99de": {
          "model_module": "@jupyter-widgets/controls",
          "model_name": "DescriptionStyleModel",
          "model_module_version": "1.5.0",
          "state": {
            "_model_module": "@jupyter-widgets/controls",
            "_model_module_version": "1.5.0",
            "_model_name": "DescriptionStyleModel",
            "_view_count": null,
            "_view_module": "@jupyter-widgets/base",
            "_view_module_version": "1.2.0",
            "_view_name": "StyleView",
            "description_width": ""
          }
        },
        "6ef302bcabd8451c855dacee889b294b": {
          "model_module": "@jupyter-widgets/base",
          "model_name": "LayoutModel",
          "model_module_version": "1.2.0",
          "state": {
            "_model_module": "@jupyter-widgets/base",
            "_model_module_version": "1.2.0",
            "_model_name": "LayoutModel",
            "_view_count": null,
            "_view_module": "@jupyter-widgets/base",
            "_view_module_version": "1.2.0",
            "_view_name": "LayoutView",
            "align_content": null,
            "align_items": null,
            "align_self": null,
            "border": null,
            "bottom": null,
            "display": null,
            "flex": null,
            "flex_flow": null,
            "grid_area": null,
            "grid_auto_columns": null,
            "grid_auto_flow": null,
            "grid_auto_rows": null,
            "grid_column": null,
            "grid_gap": null,
            "grid_row": null,
            "grid_template_areas": null,
            "grid_template_columns": null,
            "grid_template_rows": null,
            "height": null,
            "justify_content": null,
            "justify_items": null,
            "left": null,
            "margin": null,
            "max_height": null,
            "max_width": null,
            "min_height": null,
            "min_width": null,
            "object_fit": null,
            "object_position": null,
            "order": null,
            "overflow": null,
            "overflow_x": null,
            "overflow_y": null,
            "padding": null,
            "right": null,
            "top": null,
            "visibility": null,
            "width": null
          }
        },
        "af2a58248772491aa282514855eba9c9": {
          "model_module": "@jupyter-widgets/controls",
          "model_name": "ProgressStyleModel",
          "model_module_version": "1.5.0",
          "state": {
            "_model_module": "@jupyter-widgets/controls",
            "_model_module_version": "1.5.0",
            "_model_name": "ProgressStyleModel",
            "_view_count": null,
            "_view_module": "@jupyter-widgets/base",
            "_view_module_version": "1.2.0",
            "_view_name": "StyleView",
            "bar_color": null,
            "description_width": ""
          }
        },
        "9955c6ccfa79498c835a23fa0be0daa6": {
          "model_module": "@jupyter-widgets/base",
          "model_name": "LayoutModel",
          "model_module_version": "1.2.0",
          "state": {
            "_model_module": "@jupyter-widgets/base",
            "_model_module_version": "1.2.0",
            "_model_name": "LayoutModel",
            "_view_count": null,
            "_view_module": "@jupyter-widgets/base",
            "_view_module_version": "1.2.0",
            "_view_name": "LayoutView",
            "align_content": null,
            "align_items": null,
            "align_self": null,
            "border": null,
            "bottom": null,
            "display": null,
            "flex": null,
            "flex_flow": null,
            "grid_area": null,
            "grid_auto_columns": null,
            "grid_auto_flow": null,
            "grid_auto_rows": null,
            "grid_column": null,
            "grid_gap": null,
            "grid_row": null,
            "grid_template_areas": null,
            "grid_template_columns": null,
            "grid_template_rows": null,
            "height": null,
            "justify_content": null,
            "justify_items": null,
            "left": null,
            "margin": null,
            "max_height": null,
            "max_width": null,
            "min_height": null,
            "min_width": null,
            "object_fit": null,
            "object_position": null,
            "order": null,
            "overflow": null,
            "overflow_x": null,
            "overflow_y": null,
            "padding": null,
            "right": null,
            "top": null,
            "visibility": null,
            "width": null
          }
        },
        "b1d5a6dfbe1b4b8a9a74417ecf219391": {
          "model_module": "@jupyter-widgets/controls",
          "model_name": "DescriptionStyleModel",
          "model_module_version": "1.5.0",
          "state": {
            "_model_module": "@jupyter-widgets/controls",
            "_model_module_version": "1.5.0",
            "_model_name": "DescriptionStyleModel",
            "_view_count": null,
            "_view_module": "@jupyter-widgets/base",
            "_view_module_version": "1.2.0",
            "_view_name": "StyleView",
            "description_width": ""
          }
        },
        "b00f4a2513db4b219c8e030cb2114871": {
          "model_module": "@jupyter-widgets/controls",
          "model_name": "HBoxModel",
          "model_module_version": "1.5.0",
          "state": {
            "_dom_classes": [],
            "_model_module": "@jupyter-widgets/controls",
            "_model_module_version": "1.5.0",
            "_model_name": "HBoxModel",
            "_view_count": null,
            "_view_module": "@jupyter-widgets/controls",
            "_view_module_version": "1.5.0",
            "_view_name": "HBoxView",
            "box_style": "",
            "children": [
              "IPY_MODEL_358421031a4a4e2dae9e5dea973ad338",
              "IPY_MODEL_dcf2a69e563446e8abf32226f60f066a",
              "IPY_MODEL_9f2f86894db749319daa0ce4c3532d0e"
            ],
            "layout": "IPY_MODEL_6997978919264ce6bb26707cda254a68"
          }
        },
        "358421031a4a4e2dae9e5dea973ad338": {
          "model_module": "@jupyter-widgets/controls",
          "model_name": "HTMLModel",
          "model_module_version": "1.5.0",
          "state": {
            "_dom_classes": [],
            "_model_module": "@jupyter-widgets/controls",
            "_model_module_version": "1.5.0",
            "_model_name": "HTMLModel",
            "_view_count": null,
            "_view_module": "@jupyter-widgets/controls",
            "_view_module_version": "1.5.0",
            "_view_name": "HTMLView",
            "description": "",
            "description_tooltip": null,
            "layout": "IPY_MODEL_b555865e0e5545c38727de9ec6deed23",
            "placeholder": "​",
            "style": "IPY_MODEL_e8a35b4a3c2d4ca898901eb99a34ac34",
            "value": "Downloading (…)olve/main/merges.txt: 100%"
          }
        },
        "dcf2a69e563446e8abf32226f60f066a": {
          "model_module": "@jupyter-widgets/controls",
          "model_name": "FloatProgressModel",
          "model_module_version": "1.5.0",
          "state": {
            "_dom_classes": [],
            "_model_module": "@jupyter-widgets/controls",
            "_model_module_version": "1.5.0",
            "_model_name": "FloatProgressModel",
            "_view_count": null,
            "_view_module": "@jupyter-widgets/controls",
            "_view_module_version": "1.5.0",
            "_view_name": "ProgressView",
            "bar_style": "success",
            "description": "",
            "description_tooltip": null,
            "layout": "IPY_MODEL_1f3bc22ed8d2484a89f74b99b2a17fbc",
            "max": 456318,
            "min": 0,
            "orientation": "horizontal",
            "style": "IPY_MODEL_e50a9a76305547d3831c928f93888776",
            "value": 456318
          }
        },
        "9f2f86894db749319daa0ce4c3532d0e": {
          "model_module": "@jupyter-widgets/controls",
          "model_name": "HTMLModel",
          "model_module_version": "1.5.0",
          "state": {
            "_dom_classes": [],
            "_model_module": "@jupyter-widgets/controls",
            "_model_module_version": "1.5.0",
            "_model_name": "HTMLModel",
            "_view_count": null,
            "_view_module": "@jupyter-widgets/controls",
            "_view_module_version": "1.5.0",
            "_view_name": "HTMLView",
            "description": "",
            "description_tooltip": null,
            "layout": "IPY_MODEL_a0e4ab8a5dfe491692aedfb3008df7fb",
            "placeholder": "​",
            "style": "IPY_MODEL_9dee1e4cf9ea49a79d5200a12c7ceb70",
            "value": " 456k/456k [00:01&lt;00:00, 410kB/s]"
          }
        },
        "6997978919264ce6bb26707cda254a68": {
          "model_module": "@jupyter-widgets/base",
          "model_name": "LayoutModel",
          "model_module_version": "1.2.0",
          "state": {
            "_model_module": "@jupyter-widgets/base",
            "_model_module_version": "1.2.0",
            "_model_name": "LayoutModel",
            "_view_count": null,
            "_view_module": "@jupyter-widgets/base",
            "_view_module_version": "1.2.0",
            "_view_name": "LayoutView",
            "align_content": null,
            "align_items": null,
            "align_self": null,
            "border": null,
            "bottom": null,
            "display": null,
            "flex": null,
            "flex_flow": null,
            "grid_area": null,
            "grid_auto_columns": null,
            "grid_auto_flow": null,
            "grid_auto_rows": null,
            "grid_column": null,
            "grid_gap": null,
            "grid_row": null,
            "grid_template_areas": null,
            "grid_template_columns": null,
            "grid_template_rows": null,
            "height": null,
            "justify_content": null,
            "justify_items": null,
            "left": null,
            "margin": null,
            "max_height": null,
            "max_width": null,
            "min_height": null,
            "min_width": null,
            "object_fit": null,
            "object_position": null,
            "order": null,
            "overflow": null,
            "overflow_x": null,
            "overflow_y": null,
            "padding": null,
            "right": null,
            "top": null,
            "visibility": null,
            "width": null
          }
        },
        "b555865e0e5545c38727de9ec6deed23": {
          "model_module": "@jupyter-widgets/base",
          "model_name": "LayoutModel",
          "model_module_version": "1.2.0",
          "state": {
            "_model_module": "@jupyter-widgets/base",
            "_model_module_version": "1.2.0",
            "_model_name": "LayoutModel",
            "_view_count": null,
            "_view_module": "@jupyter-widgets/base",
            "_view_module_version": "1.2.0",
            "_view_name": "LayoutView",
            "align_content": null,
            "align_items": null,
            "align_self": null,
            "border": null,
            "bottom": null,
            "display": null,
            "flex": null,
            "flex_flow": null,
            "grid_area": null,
            "grid_auto_columns": null,
            "grid_auto_flow": null,
            "grid_auto_rows": null,
            "grid_column": null,
            "grid_gap": null,
            "grid_row": null,
            "grid_template_areas": null,
            "grid_template_columns": null,
            "grid_template_rows": null,
            "height": null,
            "justify_content": null,
            "justify_items": null,
            "left": null,
            "margin": null,
            "max_height": null,
            "max_width": null,
            "min_height": null,
            "min_width": null,
            "object_fit": null,
            "object_position": null,
            "order": null,
            "overflow": null,
            "overflow_x": null,
            "overflow_y": null,
            "padding": null,
            "right": null,
            "top": null,
            "visibility": null,
            "width": null
          }
        },
        "e8a35b4a3c2d4ca898901eb99a34ac34": {
          "model_module": "@jupyter-widgets/controls",
          "model_name": "DescriptionStyleModel",
          "model_module_version": "1.5.0",
          "state": {
            "_model_module": "@jupyter-widgets/controls",
            "_model_module_version": "1.5.0",
            "_model_name": "DescriptionStyleModel",
            "_view_count": null,
            "_view_module": "@jupyter-widgets/base",
            "_view_module_version": "1.2.0",
            "_view_name": "StyleView",
            "description_width": ""
          }
        },
        "1f3bc22ed8d2484a89f74b99b2a17fbc": {
          "model_module": "@jupyter-widgets/base",
          "model_name": "LayoutModel",
          "model_module_version": "1.2.0",
          "state": {
            "_model_module": "@jupyter-widgets/base",
            "_model_module_version": "1.2.0",
            "_model_name": "LayoutModel",
            "_view_count": null,
            "_view_module": "@jupyter-widgets/base",
            "_view_module_version": "1.2.0",
            "_view_name": "LayoutView",
            "align_content": null,
            "align_items": null,
            "align_self": null,
            "border": null,
            "bottom": null,
            "display": null,
            "flex": null,
            "flex_flow": null,
            "grid_area": null,
            "grid_auto_columns": null,
            "grid_auto_flow": null,
            "grid_auto_rows": null,
            "grid_column": null,
            "grid_gap": null,
            "grid_row": null,
            "grid_template_areas": null,
            "grid_template_columns": null,
            "grid_template_rows": null,
            "height": null,
            "justify_content": null,
            "justify_items": null,
            "left": null,
            "margin": null,
            "max_height": null,
            "max_width": null,
            "min_height": null,
            "min_width": null,
            "object_fit": null,
            "object_position": null,
            "order": null,
            "overflow": null,
            "overflow_x": null,
            "overflow_y": null,
            "padding": null,
            "right": null,
            "top": null,
            "visibility": null,
            "width": null
          }
        },
        "e50a9a76305547d3831c928f93888776": {
          "model_module": "@jupyter-widgets/controls",
          "model_name": "ProgressStyleModel",
          "model_module_version": "1.5.0",
          "state": {
            "_model_module": "@jupyter-widgets/controls",
            "_model_module_version": "1.5.0",
            "_model_name": "ProgressStyleModel",
            "_view_count": null,
            "_view_module": "@jupyter-widgets/base",
            "_view_module_version": "1.2.0",
            "_view_name": "StyleView",
            "bar_color": null,
            "description_width": ""
          }
        },
        "a0e4ab8a5dfe491692aedfb3008df7fb": {
          "model_module": "@jupyter-widgets/base",
          "model_name": "LayoutModel",
          "model_module_version": "1.2.0",
          "state": {
            "_model_module": "@jupyter-widgets/base",
            "_model_module_version": "1.2.0",
            "_model_name": "LayoutModel",
            "_view_count": null,
            "_view_module": "@jupyter-widgets/base",
            "_view_module_version": "1.2.0",
            "_view_name": "LayoutView",
            "align_content": null,
            "align_items": null,
            "align_self": null,
            "border": null,
            "bottom": null,
            "display": null,
            "flex": null,
            "flex_flow": null,
            "grid_area": null,
            "grid_auto_columns": null,
            "grid_auto_flow": null,
            "grid_auto_rows": null,
            "grid_column": null,
            "grid_gap": null,
            "grid_row": null,
            "grid_template_areas": null,
            "grid_template_columns": null,
            "grid_template_rows": null,
            "height": null,
            "justify_content": null,
            "justify_items": null,
            "left": null,
            "margin": null,
            "max_height": null,
            "max_width": null,
            "min_height": null,
            "min_width": null,
            "object_fit": null,
            "object_position": null,
            "order": null,
            "overflow": null,
            "overflow_x": null,
            "overflow_y": null,
            "padding": null,
            "right": null,
            "top": null,
            "visibility": null,
            "width": null
          }
        },
        "9dee1e4cf9ea49a79d5200a12c7ceb70": {
          "model_module": "@jupyter-widgets/controls",
          "model_name": "DescriptionStyleModel",
          "model_module_version": "1.5.0",
          "state": {
            "_model_module": "@jupyter-widgets/controls",
            "_model_module_version": "1.5.0",
            "_model_name": "DescriptionStyleModel",
            "_view_count": null,
            "_view_module": "@jupyter-widgets/base",
            "_view_module_version": "1.2.0",
            "_view_name": "StyleView",
            "description_width": ""
          }
        },
        "e8002ecd0094491a8e0d895e13b9c3d2": {
          "model_module": "@jupyter-widgets/controls",
          "model_name": "HBoxModel",
          "model_module_version": "1.5.0",
          "state": {
            "_dom_classes": [],
            "_model_module": "@jupyter-widgets/controls",
            "_model_module_version": "1.5.0",
            "_model_name": "HBoxModel",
            "_view_count": null,
            "_view_module": "@jupyter-widgets/controls",
            "_view_module_version": "1.5.0",
            "_view_name": "HBoxView",
            "box_style": "",
            "children": [
              "IPY_MODEL_4cb79ec259b24e64a3984fa8dfea4f70",
              "IPY_MODEL_168fd1c432c04a479e72c580c4764dd7",
              "IPY_MODEL_416e89042c314a0cbe4a6b9a99e66768"
            ],
            "layout": "IPY_MODEL_6c99551a8f4d435eb365d59e4327eb03"
          }
        },
        "4cb79ec259b24e64a3984fa8dfea4f70": {
          "model_module": "@jupyter-widgets/controls",
          "model_name": "HTMLModel",
          "model_module_version": "1.5.0",
          "state": {
            "_dom_classes": [],
            "_model_module": "@jupyter-widgets/controls",
            "_model_module_version": "1.5.0",
            "_model_name": "HTMLModel",
            "_view_count": null,
            "_view_module": "@jupyter-widgets/controls",
            "_view_module_version": "1.5.0",
            "_view_name": "HTMLView",
            "description": "",
            "description_tooltip": null,
            "layout": "IPY_MODEL_c4f591f7d68f4e74bdf31971bd628249",
            "placeholder": "​",
            "style": "IPY_MODEL_b363ef3bec964b368c573a3439b055f2",
            "value": "Downloading (…)cial_tokens_map.json: 100%"
          }
        },
        "168fd1c432c04a479e72c580c4764dd7": {
          "model_module": "@jupyter-widgets/controls",
          "model_name": "FloatProgressModel",
          "model_module_version": "1.5.0",
          "state": {
            "_dom_classes": [],
            "_model_module": "@jupyter-widgets/controls",
            "_model_module_version": "1.5.0",
            "_model_name": "FloatProgressModel",
            "_view_count": null,
            "_view_module": "@jupyter-widgets/controls",
            "_view_module_version": "1.5.0",
            "_view_name": "ProgressView",
            "bar_style": "success",
            "description": "",
            "description_tooltip": null,
            "layout": "IPY_MODEL_5ffcd992fc584580b3f75a8d1be57d02",
            "max": 239,
            "min": 0,
            "orientation": "horizontal",
            "style": "IPY_MODEL_1ac8881359d5452ab4c839cee5a0d17b",
            "value": 239
          }
        },
        "416e89042c314a0cbe4a6b9a99e66768": {
          "model_module": "@jupyter-widgets/controls",
          "model_name": "HTMLModel",
          "model_module_version": "1.5.0",
          "state": {
            "_dom_classes": [],
            "_model_module": "@jupyter-widgets/controls",
            "_model_module_version": "1.5.0",
            "_model_name": "HTMLModel",
            "_view_count": null,
            "_view_module": "@jupyter-widgets/controls",
            "_view_module_version": "1.5.0",
            "_view_name": "HTMLView",
            "description": "",
            "description_tooltip": null,
            "layout": "IPY_MODEL_f8d158d6cbf5450fadb76994bb218fcc",
            "placeholder": "​",
            "style": "IPY_MODEL_d08c240241ce4648a460407f483c097c",
            "value": " 239/239 [00:00&lt;00:00, 14.6kB/s]"
          }
        },
        "6c99551a8f4d435eb365d59e4327eb03": {
          "model_module": "@jupyter-widgets/base",
          "model_name": "LayoutModel",
          "model_module_version": "1.2.0",
          "state": {
            "_model_module": "@jupyter-widgets/base",
            "_model_module_version": "1.2.0",
            "_model_name": "LayoutModel",
            "_view_count": null,
            "_view_module": "@jupyter-widgets/base",
            "_view_module_version": "1.2.0",
            "_view_name": "LayoutView",
            "align_content": null,
            "align_items": null,
            "align_self": null,
            "border": null,
            "bottom": null,
            "display": null,
            "flex": null,
            "flex_flow": null,
            "grid_area": null,
            "grid_auto_columns": null,
            "grid_auto_flow": null,
            "grid_auto_rows": null,
            "grid_column": null,
            "grid_gap": null,
            "grid_row": null,
            "grid_template_areas": null,
            "grid_template_columns": null,
            "grid_template_rows": null,
            "height": null,
            "justify_content": null,
            "justify_items": null,
            "left": null,
            "margin": null,
            "max_height": null,
            "max_width": null,
            "min_height": null,
            "min_width": null,
            "object_fit": null,
            "object_position": null,
            "order": null,
            "overflow": null,
            "overflow_x": null,
            "overflow_y": null,
            "padding": null,
            "right": null,
            "top": null,
            "visibility": null,
            "width": null
          }
        },
        "c4f591f7d68f4e74bdf31971bd628249": {
          "model_module": "@jupyter-widgets/base",
          "model_name": "LayoutModel",
          "model_module_version": "1.2.0",
          "state": {
            "_model_module": "@jupyter-widgets/base",
            "_model_module_version": "1.2.0",
            "_model_name": "LayoutModel",
            "_view_count": null,
            "_view_module": "@jupyter-widgets/base",
            "_view_module_version": "1.2.0",
            "_view_name": "LayoutView",
            "align_content": null,
            "align_items": null,
            "align_self": null,
            "border": null,
            "bottom": null,
            "display": null,
            "flex": null,
            "flex_flow": null,
            "grid_area": null,
            "grid_auto_columns": null,
            "grid_auto_flow": null,
            "grid_auto_rows": null,
            "grid_column": null,
            "grid_gap": null,
            "grid_row": null,
            "grid_template_areas": null,
            "grid_template_columns": null,
            "grid_template_rows": null,
            "height": null,
            "justify_content": null,
            "justify_items": null,
            "left": null,
            "margin": null,
            "max_height": null,
            "max_width": null,
            "min_height": null,
            "min_width": null,
            "object_fit": null,
            "object_position": null,
            "order": null,
            "overflow": null,
            "overflow_x": null,
            "overflow_y": null,
            "padding": null,
            "right": null,
            "top": null,
            "visibility": null,
            "width": null
          }
        },
        "b363ef3bec964b368c573a3439b055f2": {
          "model_module": "@jupyter-widgets/controls",
          "model_name": "DescriptionStyleModel",
          "model_module_version": "1.5.0",
          "state": {
            "_model_module": "@jupyter-widgets/controls",
            "_model_module_version": "1.5.0",
            "_model_name": "DescriptionStyleModel",
            "_view_count": null,
            "_view_module": "@jupyter-widgets/base",
            "_view_module_version": "1.2.0",
            "_view_name": "StyleView",
            "description_width": ""
          }
        },
        "5ffcd992fc584580b3f75a8d1be57d02": {
          "model_module": "@jupyter-widgets/base",
          "model_name": "LayoutModel",
          "model_module_version": "1.2.0",
          "state": {
            "_model_module": "@jupyter-widgets/base",
            "_model_module_version": "1.2.0",
            "_model_name": "LayoutModel",
            "_view_count": null,
            "_view_module": "@jupyter-widgets/base",
            "_view_module_version": "1.2.0",
            "_view_name": "LayoutView",
            "align_content": null,
            "align_items": null,
            "align_self": null,
            "border": null,
            "bottom": null,
            "display": null,
            "flex": null,
            "flex_flow": null,
            "grid_area": null,
            "grid_auto_columns": null,
            "grid_auto_flow": null,
            "grid_auto_rows": null,
            "grid_column": null,
            "grid_gap": null,
            "grid_row": null,
            "grid_template_areas": null,
            "grid_template_columns": null,
            "grid_template_rows": null,
            "height": null,
            "justify_content": null,
            "justify_items": null,
            "left": null,
            "margin": null,
            "max_height": null,
            "max_width": null,
            "min_height": null,
            "min_width": null,
            "object_fit": null,
            "object_position": null,
            "order": null,
            "overflow": null,
            "overflow_x": null,
            "overflow_y": null,
            "padding": null,
            "right": null,
            "top": null,
            "visibility": null,
            "width": null
          }
        },
        "1ac8881359d5452ab4c839cee5a0d17b": {
          "model_module": "@jupyter-widgets/controls",
          "model_name": "ProgressStyleModel",
          "model_module_version": "1.5.0",
          "state": {
            "_model_module": "@jupyter-widgets/controls",
            "_model_module_version": "1.5.0",
            "_model_name": "ProgressStyleModel",
            "_view_count": null,
            "_view_module": "@jupyter-widgets/base",
            "_view_module_version": "1.2.0",
            "_view_name": "StyleView",
            "bar_color": null,
            "description_width": ""
          }
        },
        "f8d158d6cbf5450fadb76994bb218fcc": {
          "model_module": "@jupyter-widgets/base",
          "model_name": "LayoutModel",
          "model_module_version": "1.2.0",
          "state": {
            "_model_module": "@jupyter-widgets/base",
            "_model_module_version": "1.2.0",
            "_model_name": "LayoutModel",
            "_view_count": null,
            "_view_module": "@jupyter-widgets/base",
            "_view_module_version": "1.2.0",
            "_view_name": "LayoutView",
            "align_content": null,
            "align_items": null,
            "align_self": null,
            "border": null,
            "bottom": null,
            "display": null,
            "flex": null,
            "flex_flow": null,
            "grid_area": null,
            "grid_auto_columns": null,
            "grid_auto_flow": null,
            "grid_auto_rows": null,
            "grid_column": null,
            "grid_gap": null,
            "grid_row": null,
            "grid_template_areas": null,
            "grid_template_columns": null,
            "grid_template_rows": null,
            "height": null,
            "justify_content": null,
            "justify_items": null,
            "left": null,
            "margin": null,
            "max_height": null,
            "max_width": null,
            "min_height": null,
            "min_width": null,
            "object_fit": null,
            "object_position": null,
            "order": null,
            "overflow": null,
            "overflow_x": null,
            "overflow_y": null,
            "padding": null,
            "right": null,
            "top": null,
            "visibility": null,
            "width": null
          }
        },
        "d08c240241ce4648a460407f483c097c": {
          "model_module": "@jupyter-widgets/controls",
          "model_name": "DescriptionStyleModel",
          "model_module_version": "1.5.0",
          "state": {
            "_model_module": "@jupyter-widgets/controls",
            "_model_module_version": "1.5.0",
            "_model_name": "DescriptionStyleModel",
            "_view_count": null,
            "_view_module": "@jupyter-widgets/base",
            "_view_module_version": "1.2.0",
            "_view_name": "StyleView",
            "description_width": ""
          }
        },
        "ecdf8abf6a49496793708af2c0cdf4bf": {
          "model_module": "@jupyter-widgets/controls",
          "model_name": "HBoxModel",
          "model_module_version": "1.5.0",
          "state": {
            "_dom_classes": [],
            "_model_module": "@jupyter-widgets/controls",
            "_model_module_version": "1.5.0",
            "_model_name": "HBoxModel",
            "_view_count": null,
            "_view_module": "@jupyter-widgets/controls",
            "_view_module_version": "1.5.0",
            "_view_name": "HBoxView",
            "box_style": "",
            "children": [
              "IPY_MODEL_cc8e26ae01494aaf9f5778b65f656f75",
              "IPY_MODEL_9212ab08b15c42978712897689497c9b",
              "IPY_MODEL_3be38bd8f27545d8a7d6ada74a47a656"
            ],
            "layout": "IPY_MODEL_660a6d8f8bc5405eb5057e05e978caf6"
          }
        },
        "cc8e26ae01494aaf9f5778b65f656f75": {
          "model_module": "@jupyter-widgets/controls",
          "model_name": "HTMLModel",
          "model_module_version": "1.5.0",
          "state": {
            "_dom_classes": [],
            "_model_module": "@jupyter-widgets/controls",
            "_model_module_version": "1.5.0",
            "_model_name": "HTMLModel",
            "_view_count": null,
            "_view_module": "@jupyter-widgets/controls",
            "_view_module_version": "1.5.0",
            "_view_name": "HTMLView",
            "description": "",
            "description_tooltip": null,
            "layout": "IPY_MODEL_96ffa86cb19e4a4393bddba3c29206fb",
            "placeholder": "​",
            "style": "IPY_MODEL_63f366078a6e4b509851e31c800b22d0",
            "value": "Downloading (…)&quot;tf_model.h5&quot;;: 100%"
          }
        },
        "9212ab08b15c42978712897689497c9b": {
          "model_module": "@jupyter-widgets/controls",
          "model_name": "FloatProgressModel",
          "model_module_version": "1.5.0",
          "state": {
            "_dom_classes": [],
            "_model_module": "@jupyter-widgets/controls",
            "_model_module_version": "1.5.0",
            "_model_name": "FloatProgressModel",
            "_view_count": null,
            "_view_module": "@jupyter-widgets/controls",
            "_view_module_version": "1.5.0",
            "_view_name": "ProgressView",
            "bar_style": "success",
            "description": "",
            "description_tooltip": null,
            "layout": "IPY_MODEL_d28f3a2f882040e189f04a59c1c59543",
            "max": 498845224,
            "min": 0,
            "orientation": "horizontal",
            "style": "IPY_MODEL_31881b3c3ba84449a4666fad1f35dde8",
            "value": 498845224
          }
        },
        "3be38bd8f27545d8a7d6ada74a47a656": {
          "model_module": "@jupyter-widgets/controls",
          "model_name": "HTMLModel",
          "model_module_version": "1.5.0",
          "state": {
            "_dom_classes": [],
            "_model_module": "@jupyter-widgets/controls",
            "_model_module_version": "1.5.0",
            "_model_name": "HTMLModel",
            "_view_count": null,
            "_view_module": "@jupyter-widgets/controls",
            "_view_module_version": "1.5.0",
            "_view_name": "HTMLView",
            "description": "",
            "description_tooltip": null,
            "layout": "IPY_MODEL_d85b9983f2fc4dd8ae78a55bb4de79a8",
            "placeholder": "​",
            "style": "IPY_MODEL_6e8e543dff204a3199f66332aedb7d66",
            "value": " 499M/499M [00:32&lt;00:00, 16.8MB/s]"
          }
        },
        "660a6d8f8bc5405eb5057e05e978caf6": {
          "model_module": "@jupyter-widgets/base",
          "model_name": "LayoutModel",
          "model_module_version": "1.2.0",
          "state": {
            "_model_module": "@jupyter-widgets/base",
            "_model_module_version": "1.2.0",
            "_model_name": "LayoutModel",
            "_view_count": null,
            "_view_module": "@jupyter-widgets/base",
            "_view_module_version": "1.2.0",
            "_view_name": "LayoutView",
            "align_content": null,
            "align_items": null,
            "align_self": null,
            "border": null,
            "bottom": null,
            "display": null,
            "flex": null,
            "flex_flow": null,
            "grid_area": null,
            "grid_auto_columns": null,
            "grid_auto_flow": null,
            "grid_auto_rows": null,
            "grid_column": null,
            "grid_gap": null,
            "grid_row": null,
            "grid_template_areas": null,
            "grid_template_columns": null,
            "grid_template_rows": null,
            "height": null,
            "justify_content": null,
            "justify_items": null,
            "left": null,
            "margin": null,
            "max_height": null,
            "max_width": null,
            "min_height": null,
            "min_width": null,
            "object_fit": null,
            "object_position": null,
            "order": null,
            "overflow": null,
            "overflow_x": null,
            "overflow_y": null,
            "padding": null,
            "right": null,
            "top": null,
            "visibility": null,
            "width": null
          }
        },
        "96ffa86cb19e4a4393bddba3c29206fb": {
          "model_module": "@jupyter-widgets/base",
          "model_name": "LayoutModel",
          "model_module_version": "1.2.0",
          "state": {
            "_model_module": "@jupyter-widgets/base",
            "_model_module_version": "1.2.0",
            "_model_name": "LayoutModel",
            "_view_count": null,
            "_view_module": "@jupyter-widgets/base",
            "_view_module_version": "1.2.0",
            "_view_name": "LayoutView",
            "align_content": null,
            "align_items": null,
            "align_self": null,
            "border": null,
            "bottom": null,
            "display": null,
            "flex": null,
            "flex_flow": null,
            "grid_area": null,
            "grid_auto_columns": null,
            "grid_auto_flow": null,
            "grid_auto_rows": null,
            "grid_column": null,
            "grid_gap": null,
            "grid_row": null,
            "grid_template_areas": null,
            "grid_template_columns": null,
            "grid_template_rows": null,
            "height": null,
            "justify_content": null,
            "justify_items": null,
            "left": null,
            "margin": null,
            "max_height": null,
            "max_width": null,
            "min_height": null,
            "min_width": null,
            "object_fit": null,
            "object_position": null,
            "order": null,
            "overflow": null,
            "overflow_x": null,
            "overflow_y": null,
            "padding": null,
            "right": null,
            "top": null,
            "visibility": null,
            "width": null
          }
        },
        "63f366078a6e4b509851e31c800b22d0": {
          "model_module": "@jupyter-widgets/controls",
          "model_name": "DescriptionStyleModel",
          "model_module_version": "1.5.0",
          "state": {
            "_model_module": "@jupyter-widgets/controls",
            "_model_module_version": "1.5.0",
            "_model_name": "DescriptionStyleModel",
            "_view_count": null,
            "_view_module": "@jupyter-widgets/base",
            "_view_module_version": "1.2.0",
            "_view_name": "StyleView",
            "description_width": ""
          }
        },
        "d28f3a2f882040e189f04a59c1c59543": {
          "model_module": "@jupyter-widgets/base",
          "model_name": "LayoutModel",
          "model_module_version": "1.2.0",
          "state": {
            "_model_module": "@jupyter-widgets/base",
            "_model_module_version": "1.2.0",
            "_model_name": "LayoutModel",
            "_view_count": null,
            "_view_module": "@jupyter-widgets/base",
            "_view_module_version": "1.2.0",
            "_view_name": "LayoutView",
            "align_content": null,
            "align_items": null,
            "align_self": null,
            "border": null,
            "bottom": null,
            "display": null,
            "flex": null,
            "flex_flow": null,
            "grid_area": null,
            "grid_auto_columns": null,
            "grid_auto_flow": null,
            "grid_auto_rows": null,
            "grid_column": null,
            "grid_gap": null,
            "grid_row": null,
            "grid_template_areas": null,
            "grid_template_columns": null,
            "grid_template_rows": null,
            "height": null,
            "justify_content": null,
            "justify_items": null,
            "left": null,
            "margin": null,
            "max_height": null,
            "max_width": null,
            "min_height": null,
            "min_width": null,
            "object_fit": null,
            "object_position": null,
            "order": null,
            "overflow": null,
            "overflow_x": null,
            "overflow_y": null,
            "padding": null,
            "right": null,
            "top": null,
            "visibility": null,
            "width": null
          }
        },
        "31881b3c3ba84449a4666fad1f35dde8": {
          "model_module": "@jupyter-widgets/controls",
          "model_name": "ProgressStyleModel",
          "model_module_version": "1.5.0",
          "state": {
            "_model_module": "@jupyter-widgets/controls",
            "_model_module_version": "1.5.0",
            "_model_name": "ProgressStyleModel",
            "_view_count": null,
            "_view_module": "@jupyter-widgets/base",
            "_view_module_version": "1.2.0",
            "_view_name": "StyleView",
            "bar_color": null,
            "description_width": ""
          }
        },
        "d85b9983f2fc4dd8ae78a55bb4de79a8": {
          "model_module": "@jupyter-widgets/base",
          "model_name": "LayoutModel",
          "model_module_version": "1.2.0",
          "state": {
            "_model_module": "@jupyter-widgets/base",
            "_model_module_version": "1.2.0",
            "_model_name": "LayoutModel",
            "_view_count": null,
            "_view_module": "@jupyter-widgets/base",
            "_view_module_version": "1.2.0",
            "_view_name": "LayoutView",
            "align_content": null,
            "align_items": null,
            "align_self": null,
            "border": null,
            "bottom": null,
            "display": null,
            "flex": null,
            "flex_flow": null,
            "grid_area": null,
            "grid_auto_columns": null,
            "grid_auto_flow": null,
            "grid_auto_rows": null,
            "grid_column": null,
            "grid_gap": null,
            "grid_row": null,
            "grid_template_areas": null,
            "grid_template_columns": null,
            "grid_template_rows": null,
            "height": null,
            "justify_content": null,
            "justify_items": null,
            "left": null,
            "margin": null,
            "max_height": null,
            "max_width": null,
            "min_height": null,
            "min_width": null,
            "object_fit": null,
            "object_position": null,
            "order": null,
            "overflow": null,
            "overflow_x": null,
            "overflow_y": null,
            "padding": null,
            "right": null,
            "top": null,
            "visibility": null,
            "width": null
          }
        },
        "6e8e543dff204a3199f66332aedb7d66": {
          "model_module": "@jupyter-widgets/controls",
          "model_name": "DescriptionStyleModel",
          "model_module_version": "1.5.0",
          "state": {
            "_model_module": "@jupyter-widgets/controls",
            "_model_module_version": "1.5.0",
            "_model_name": "DescriptionStyleModel",
            "_view_count": null,
            "_view_module": "@jupyter-widgets/base",
            "_view_module_version": "1.2.0",
            "_view_name": "StyleView",
            "description_width": ""
          }
        }
      }
    }
  },
  "cells": [
    {
      "cell_type": "code",
      "source": [
        "from google.colab import drive\n",
        "drive.mount('/content/drive/')"
      ],
      "metadata": {
        "_uuid": "8f2839f25d086af736a60e9eeb907d3b93b6e0e5",
        "_cell_guid": "b1076dfc-b9ad-4769-8c92-a6c4dae69d19",
        "_kg_hide-input": true,
        "execution": {
          "iopub.status.busy": "2023-02-10T16:02:30.771361Z",
          "iopub.execute_input": "2023-02-10T16:02:30.771667Z",
          "iopub.status.idle": "2023-02-10T16:02:30.808828Z",
          "shell.execute_reply.started": "2023-02-10T16:02:30.771585Z",
          "shell.execute_reply": "2023-02-10T16:02:30.808114Z"
        },
        "trusted": true,
        "colab": {
          "base_uri": "https://localhost:8080/"
        },
        "id": "pwjllrtVF_oC",
        "outputId": "2d36cae2-1025-4f3d-cbca-9098570f3285"
      },
      "execution_count": null,
      "outputs": [
        {
          "output_type": "stream",
          "name": "stdout",
          "text": [
            "Mounted at /content/drive/\n"
          ]
        }
      ]
    },
    {
      "cell_type": "code",
      "source": [
        "!pip install transformers"
      ],
      "metadata": {
        "colab": {
          "base_uri": "https://localhost:8080/"
        },
        "id": "1f8cqSxZHMLe",
        "outputId": "bdd7a612-3c20-415c-9a2b-dbbac23efb10"
      },
      "execution_count": null,
      "outputs": [
        {
          "output_type": "stream",
          "name": "stdout",
          "text": [
            "Looking in indexes: https://pypi.org/simple, https://us-python.pkg.dev/colab-wheels/public/simple/\n",
            "Collecting transformers\n",
            "  Downloading transformers-4.26.1-py3-none-any.whl (6.3 MB)\n",
            "\u001b[2K     \u001b[90m━━━━━━━━━━━━━━━━━━━━━━━━━━━━━━━━━━━━━━━━\u001b[0m \u001b[32m6.3/6.3 MB\u001b[0m \u001b[31m96.1 MB/s\u001b[0m eta \u001b[36m0:00:00\u001b[0m\n",
            "\u001b[?25hRequirement already satisfied: packaging>=20.0 in /usr/local/lib/python3.8/dist-packages (from transformers) (23.0)\n",
            "Requirement already satisfied: pyyaml>=5.1 in /usr/local/lib/python3.8/dist-packages (from transformers) (6.0)\n",
            "Requirement already satisfied: regex!=2019.12.17 in /usr/local/lib/python3.8/dist-packages (from transformers) (2022.6.2)\n",
            "Requirement already satisfied: tqdm>=4.27 in /usr/local/lib/python3.8/dist-packages (from transformers) (4.64.1)\n",
            "Requirement already satisfied: filelock in /usr/local/lib/python3.8/dist-packages (from transformers) (3.9.0)\n",
            "Collecting huggingface-hub<1.0,>=0.11.0\n",
            "  Downloading huggingface_hub-0.12.0-py3-none-any.whl (190 kB)\n",
            "\u001b[2K     \u001b[90m━━━━━━━━━━━━━━━━━━━━━━━━━━━━━━━━━━━━━━\u001b[0m \u001b[32m190.3/190.3 KB\u001b[0m \u001b[31m24.9 MB/s\u001b[0m eta \u001b[36m0:00:00\u001b[0m\n",
            "\u001b[?25hCollecting tokenizers!=0.11.3,<0.14,>=0.11.1\n",
            "  Downloading tokenizers-0.13.2-cp38-cp38-manylinux_2_17_x86_64.manylinux2014_x86_64.whl (7.6 MB)\n",
            "\u001b[2K     \u001b[90m━━━━━━━━━━━━━━━━━━━━━━━━━━━━━━━━━━━━━━━━\u001b[0m \u001b[32m7.6/7.6 MB\u001b[0m \u001b[31m118.2 MB/s\u001b[0m eta \u001b[36m0:00:00\u001b[0m\n",
            "\u001b[?25hRequirement already satisfied: numpy>=1.17 in /usr/local/lib/python3.8/dist-packages (from transformers) (1.21.6)\n",
            "Requirement already satisfied: requests in /usr/local/lib/python3.8/dist-packages (from transformers) (2.25.1)\n",
            "Requirement already satisfied: typing-extensions>=3.7.4.3 in /usr/local/lib/python3.8/dist-packages (from huggingface-hub<1.0,>=0.11.0->transformers) (4.4.0)\n",
            "Requirement already satisfied: certifi>=2017.4.17 in /usr/local/lib/python3.8/dist-packages (from requests->transformers) (2022.12.7)\n",
            "Requirement already satisfied: urllib3<1.27,>=1.21.1 in /usr/local/lib/python3.8/dist-packages (from requests->transformers) (1.24.3)\n",
            "Requirement already satisfied: chardet<5,>=3.0.2 in /usr/local/lib/python3.8/dist-packages (from requests->transformers) (4.0.0)\n",
            "Requirement already satisfied: idna<3,>=2.5 in /usr/local/lib/python3.8/dist-packages (from requests->transformers) (2.10)\n",
            "Installing collected packages: tokenizers, huggingface-hub, transformers\n",
            "Successfully installed huggingface-hub-0.12.0 tokenizers-0.13.2 transformers-4.26.1\n"
          ]
        }
      ]
    },
    {
      "cell_type": "code",
      "source": [
        "#general purpose packages\n",
        "import numpy as np\n",
        "import pandas as pd\n",
        "import tensorflow as tf\n",
        "import matplotlib.pyplot as plt\n",
        "import seaborn as sns\n",
        "\n",
        "#data processing\n",
        "import re, string\n",
        "import nltk\n",
        "\n",
        "from sklearn import preprocessing\n",
        "from imblearn.over_sampling import RandomOverSampler\n",
        "from sklearn.model_selection import train_test_split\n",
        "\n",
        "\n",
        "#Naive Bayes\n",
        "from sklearn.feature_extraction.text import CountVectorizer\n",
        "from sklearn.feature_extraction.text import TfidfTransformer\n",
        "from sklearn.naive_bayes import MultinomialNB\n",
        "\n",
        "#transformers\n",
        "from transformers import BertTokenizerFast\n",
        "from transformers import TFBertModel\n",
        "from transformers import RobertaTokenizerFast\n",
        "from transformers import TFRobertaModel\n",
        "\n",
        "from transformers import AutoModelForSequenceClassification\n",
        "from transformers import TFAutoModelForSequenceClassification\n",
        "from transformers import AutoTokenizer\n",
        "\n",
        "#keras\n",
        "import tensorflow as tf\n",
        "from tensorflow import keras\n",
        "\n",
        "\n",
        "#metrics\n",
        "from sklearn.metrics import accuracy_score, f1_score\n",
        "from sklearn.metrics import classification_report, confusion_matrix\n",
        "\n",
        "#set seed for reproducibility\n",
        "seed=42\n",
        "\n",
        "#set style for plots\n",
        "sns.set_style(\"whitegrid\")\n",
        "sns.despine()\n",
        "plt.style.use(\"seaborn-whitegrid\")\n",
        "plt.rc(\"figure\", autolayout=True)\n",
        "plt.rc(\"axes\", labelweight=\"bold\", labelsize=\"large\", titleweight=\"bold\", titlepad=10)\n"
      ],
      "metadata": {
        "execution": {
          "iopub.status.busy": "2023-02-10T16:02:44.420848Z",
          "iopub.execute_input": "2023-02-10T16:02:44.421109Z",
          "iopub.status.idle": "2023-02-10T16:02:52.793798Z",
          "shell.execute_reply.started": "2023-02-10T16:02:44.421080Z",
          "shell.execute_reply": "2023-02-10T16:02:52.793096Z"
        },
        "trusted": true,
        "colab": {
          "base_uri": "https://localhost:8080/",
          "height": 35
        },
        "id": "7iqt7n0tF_oI",
        "outputId": "ed85ec0e-5d42-4abc-93e4-e9090568ce5d"
      },
      "execution_count": null,
      "outputs": [
        {
          "output_type": "display_data",
          "data": {
            "text/plain": [
              "<Figure size 432x288 with 0 Axes>"
            ]
          },
          "metadata": {}
        }
      ]
    },
    {
      "cell_type": "markdown",
      "source": [
        "## Custom functions definition:"
      ],
      "metadata": {
        "id": "NbO6JbNoF_oL"
      }
    },
    {
      "cell_type": "code",
      "source": [
        "def conf_matrix(y, y_pred, title):\n",
        "    fig, ax =plt.subplots(figsize=(5,5))\n",
        "    labels=['Negative', 'Neutral', 'Positive']\n",
        "    ax=sns.heatmap(confusion_matrix(y, y_pred), annot=True, cmap=\"Blues\", fmt='g', cbar=False, annot_kws={\"size\":25})\n",
        "    plt.title(title, fontsize=20)\n",
        "    ax.xaxis.set_ticklabels(labels, fontsize=17) \n",
        "    ax.yaxis.set_ticklabels(labels, fontsize=17)\n",
        "    ax.set_ylabel('Test', fontsize=20)\n",
        "    ax.set_xlabel('Predicted', fontsize=20)\n",
        "    plt.show()"
      ],
      "metadata": {
        "_kg_hide-input": true,
        "execution": {
          "iopub.status.busy": "2023-02-10T16:02:59.385902Z",
          "iopub.execute_input": "2023-02-10T16:02:59.386164Z",
          "iopub.status.idle": "2023-02-10T16:02:59.393027Z",
          "shell.execute_reply.started": "2023-02-10T16:02:59.386134Z",
          "shell.execute_reply": "2023-02-10T16:02:59.392276Z"
        },
        "trusted": true,
        "id": "T6E865n4F_oM"
      },
      "execution_count": null,
      "outputs": []
    },
    {
      "cell_type": "markdown",
      "source": [
        "# Loading the data"
      ],
      "metadata": {
        "id": "ryF8VBtfF_oO"
      }
    },
    {
      "cell_type": "code",
      "source": [
        "dff = pd.read_csv('/content/drive/MyDrive/annotated_3cat_3_random.csv')"
      ],
      "metadata": {
        "execution": {
          "iopub.status.busy": "2023-02-10T16:03:45.659904Z",
          "iopub.execute_input": "2023-02-10T16:03:45.660165Z",
          "iopub.status.idle": "2023-02-10T16:03:45.737525Z",
          "shell.execute_reply.started": "2023-02-10T16:03:45.660136Z",
          "shell.execute_reply": "2023-02-10T16:03:45.736700Z"
        },
        "trusted": true,
        "id": "4EeBIoBBF_oO"
      },
      "execution_count": null,
      "outputs": []
    },
    {
      "cell_type": "code",
      "source": [
        "dff.dropna(inplace=True)\n",
        "dff"
      ],
      "metadata": {
        "colab": {
          "base_uri": "https://localhost:8080/",
          "height": 423
        },
        "id": "qCid_h2qICd9",
        "outputId": "6269a24a-f81c-4dd2-d373-3ad87bf12b46"
      },
      "execution_count": null,
      "outputs": [
        {
          "output_type": "execute_result",
          "data": {
            "text/plain": [
              "                                                    text Sentiment\n",
              "0      Bitcoin is unfolding like the dot com crash ju...   Neutral\n",
              "1      XEM Price is 0 00003330 0 00000044 BTC 0 28641...  Negative\n",
              "2      RT Bitcoin daily snapshot 24hr CHANGE 6 4 OUTL...   Neutral\n",
              "3      Dutch Court Finds Bitcoin A Legitimate Transfe...   Neutral\n",
              "4      BTC STEEM AskRate 0 00024274 Bittrex STEEM STE...  Positive\n",
              "...                                                  ...       ...\n",
              "25098  The Image MASSter Solo 101 Forensic Hard Drive...  Negative\n",
              "25099  Buy Bitcoin Bitcoin Cash Monero Zcash or Litec...  Positive\n",
              "25100  In April 2016 computer technicians at the Demo...   Neutral\n",
              "25101  The Gentlemen of Crypto EP 129 Bitcoin Blackli...   Neutral\n",
              "25102  Follow this private group before they close fr...  Negative\n",
              "\n",
              "[25101 rows x 2 columns]"
            ],
            "text/html": [
              "\n",
              "  <div id=\"df-c84a9664-7315-4794-b96e-a852bb1fba3d\">\n",
              "    <div class=\"colab-df-container\">\n",
              "      <div>\n",
              "<style scoped>\n",
              "    .dataframe tbody tr th:only-of-type {\n",
              "        vertical-align: middle;\n",
              "    }\n",
              "\n",
              "    .dataframe tbody tr th {\n",
              "        vertical-align: top;\n",
              "    }\n",
              "\n",
              "    .dataframe thead th {\n",
              "        text-align: right;\n",
              "    }\n",
              "</style>\n",
              "<table border=\"1\" class=\"dataframe\">\n",
              "  <thead>\n",
              "    <tr style=\"text-align: right;\">\n",
              "      <th></th>\n",
              "      <th>text</th>\n",
              "      <th>Sentiment</th>\n",
              "    </tr>\n",
              "  </thead>\n",
              "  <tbody>\n",
              "    <tr>\n",
              "      <th>0</th>\n",
              "      <td>Bitcoin is unfolding like the dot com crash ju...</td>\n",
              "      <td>Neutral</td>\n",
              "    </tr>\n",
              "    <tr>\n",
              "      <th>1</th>\n",
              "      <td>XEM Price is 0 00003330 0 00000044 BTC 0 28641...</td>\n",
              "      <td>Negative</td>\n",
              "    </tr>\n",
              "    <tr>\n",
              "      <th>2</th>\n",
              "      <td>RT Bitcoin daily snapshot 24hr CHANGE 6 4 OUTL...</td>\n",
              "      <td>Neutral</td>\n",
              "    </tr>\n",
              "    <tr>\n",
              "      <th>3</th>\n",
              "      <td>Dutch Court Finds Bitcoin A Legitimate Transfe...</td>\n",
              "      <td>Neutral</td>\n",
              "    </tr>\n",
              "    <tr>\n",
              "      <th>4</th>\n",
              "      <td>BTC STEEM AskRate 0 00024274 Bittrex STEEM STE...</td>\n",
              "      <td>Positive</td>\n",
              "    </tr>\n",
              "    <tr>\n",
              "      <th>...</th>\n",
              "      <td>...</td>\n",
              "      <td>...</td>\n",
              "    </tr>\n",
              "    <tr>\n",
              "      <th>25098</th>\n",
              "      <td>The Image MASSter Solo 101 Forensic Hard Drive...</td>\n",
              "      <td>Negative</td>\n",
              "    </tr>\n",
              "    <tr>\n",
              "      <th>25099</th>\n",
              "      <td>Buy Bitcoin Bitcoin Cash Monero Zcash or Litec...</td>\n",
              "      <td>Positive</td>\n",
              "    </tr>\n",
              "    <tr>\n",
              "      <th>25100</th>\n",
              "      <td>In April 2016 computer technicians at the Demo...</td>\n",
              "      <td>Neutral</td>\n",
              "    </tr>\n",
              "    <tr>\n",
              "      <th>25101</th>\n",
              "      <td>The Gentlemen of Crypto EP 129 Bitcoin Blackli...</td>\n",
              "      <td>Neutral</td>\n",
              "    </tr>\n",
              "    <tr>\n",
              "      <th>25102</th>\n",
              "      <td>Follow this private group before they close fr...</td>\n",
              "      <td>Negative</td>\n",
              "    </tr>\n",
              "  </tbody>\n",
              "</table>\n",
              "<p>25101 rows × 2 columns</p>\n",
              "</div>\n",
              "      <button class=\"colab-df-convert\" onclick=\"convertToInteractive('df-c84a9664-7315-4794-b96e-a852bb1fba3d')\"\n",
              "              title=\"Convert this dataframe to an interactive table.\"\n",
              "              style=\"display:none;\">\n",
              "        \n",
              "  <svg xmlns=\"http://www.w3.org/2000/svg\" height=\"24px\"viewBox=\"0 0 24 24\"\n",
              "       width=\"24px\">\n",
              "    <path d=\"M0 0h24v24H0V0z\" fill=\"none\"/>\n",
              "    <path d=\"M18.56 5.44l.94 2.06.94-2.06 2.06-.94-2.06-.94-.94-2.06-.94 2.06-2.06.94zm-11 1L8.5 8.5l.94-2.06 2.06-.94-2.06-.94L8.5 2.5l-.94 2.06-2.06.94zm10 10l.94 2.06.94-2.06 2.06-.94-2.06-.94-.94-2.06-.94 2.06-2.06.94z\"/><path d=\"M17.41 7.96l-1.37-1.37c-.4-.4-.92-.59-1.43-.59-.52 0-1.04.2-1.43.59L10.3 9.45l-7.72 7.72c-.78.78-.78 2.05 0 2.83L4 21.41c.39.39.9.59 1.41.59.51 0 1.02-.2 1.41-.59l7.78-7.78 2.81-2.81c.8-.78.8-2.07 0-2.86zM5.41 20L4 18.59l7.72-7.72 1.47 1.35L5.41 20z\"/>\n",
              "  </svg>\n",
              "      </button>\n",
              "      \n",
              "  <style>\n",
              "    .colab-df-container {\n",
              "      display:flex;\n",
              "      flex-wrap:wrap;\n",
              "      gap: 12px;\n",
              "    }\n",
              "\n",
              "    .colab-df-convert {\n",
              "      background-color: #E8F0FE;\n",
              "      border: none;\n",
              "      border-radius: 50%;\n",
              "      cursor: pointer;\n",
              "      display: none;\n",
              "      fill: #1967D2;\n",
              "      height: 32px;\n",
              "      padding: 0 0 0 0;\n",
              "      width: 32px;\n",
              "    }\n",
              "\n",
              "    .colab-df-convert:hover {\n",
              "      background-color: #E2EBFA;\n",
              "      box-shadow: 0px 1px 2px rgba(60, 64, 67, 0.3), 0px 1px 3px 1px rgba(60, 64, 67, 0.15);\n",
              "      fill: #174EA6;\n",
              "    }\n",
              "\n",
              "    [theme=dark] .colab-df-convert {\n",
              "      background-color: #3B4455;\n",
              "      fill: #D2E3FC;\n",
              "    }\n",
              "\n",
              "    [theme=dark] .colab-df-convert:hover {\n",
              "      background-color: #434B5C;\n",
              "      box-shadow: 0px 1px 3px 1px rgba(0, 0, 0, 0.15);\n",
              "      filter: drop-shadow(0px 1px 2px rgba(0, 0, 0, 0.3));\n",
              "      fill: #FFFFFF;\n",
              "    }\n",
              "  </style>\n",
              "\n",
              "      <script>\n",
              "        const buttonEl =\n",
              "          document.querySelector('#df-c84a9664-7315-4794-b96e-a852bb1fba3d button.colab-df-convert');\n",
              "        buttonEl.style.display =\n",
              "          google.colab.kernel.accessAllowed ? 'block' : 'none';\n",
              "\n",
              "        async function convertToInteractive(key) {\n",
              "          const element = document.querySelector('#df-c84a9664-7315-4794-b96e-a852bb1fba3d');\n",
              "          const dataTable =\n",
              "            await google.colab.kernel.invokeFunction('convertToInteractive',\n",
              "                                                     [key], {});\n",
              "          if (!dataTable) return;\n",
              "\n",
              "          const docLinkHtml = 'Like what you see? Visit the ' +\n",
              "            '<a target=\"_blank\" href=https://colab.research.google.com/notebooks/data_table.ipynb>data table notebook</a>'\n",
              "            + ' to learn more about interactive tables.';\n",
              "          element.innerHTML = '';\n",
              "          dataTable['output_type'] = 'display_data';\n",
              "          await google.colab.output.renderOutput(dataTable, element);\n",
              "          const docLink = document.createElement('div');\n",
              "          docLink.innerHTML = docLinkHtml;\n",
              "          element.appendChild(docLink);\n",
              "        }\n",
              "      </script>\n",
              "    </div>\n",
              "  </div>\n",
              "  "
            ]
          },
          "metadata": {},
          "execution_count": 6
        }
      ]
    },
    {
      "cell_type": "code",
      "source": [
        "df, df_test = train_test_split(dff, random_state=42, test_size=0.1)"
      ],
      "metadata": {
        "id": "5QPUwSKWGsst"
      },
      "execution_count": null,
      "outputs": []
    },
    {
      "cell_type": "code",
      "source": [
        "df"
      ],
      "metadata": {
        "execution": {
          "iopub.status.busy": "2023-02-10T16:03:51.408692Z",
          "iopub.execute_input": "2023-02-10T16:03:51.408948Z",
          "iopub.status.idle": "2023-02-10T16:03:51.425219Z",
          "shell.execute_reply.started": "2023-02-10T16:03:51.408920Z",
          "shell.execute_reply": "2023-02-10T16:03:51.424259Z"
        },
        "trusted": true,
        "colab": {
          "base_uri": "https://localhost:8080/",
          "height": 423
        },
        "id": "2a9zNpLqF_oQ",
        "outputId": "a142b280-bad1-45c6-a584-a9d525a4fd75"
      },
      "execution_count": null,
      "outputs": [
        {
          "output_type": "execute_result",
          "data": {
            "text/plain": [
              "                                                    text Sentiment\n",
              "16432  RT A new survey of Americans has shown that cr...  Positive\n",
              "7614                                            Fantatic   Neutral\n",
              "3789   64 How to get started with google adsense affi...   Neutral\n",
              "24483  RT New post Leaked Documents Reveals NSA Attem...  Positive\n",
              "18080   AtlantaCyberAttack WHAT IN THE WORLD IS GOING ON   Neutral\n",
              "...                                                  ...       ...\n",
              "21576                                               Also  Negative\n",
              "5391   RT Japan s electric power provider partnered w...   Neutral\n",
              "860    Bitcoin BTG OFFICIAL Bitcoin Gold go becomes p...  Positive\n",
              "15796  Block Number 577 049 Time 5 21 2019 7 13 14 AM...  Negative\n",
              "23656  RT Our Announcement of payment integration blo...   Neutral\n",
              "\n",
              "[22590 rows x 2 columns]"
            ],
            "text/html": [
              "\n",
              "  <div id=\"df-48bf1e29-b2c5-4d03-bd84-1b1ed908d2cf\">\n",
              "    <div class=\"colab-df-container\">\n",
              "      <div>\n",
              "<style scoped>\n",
              "    .dataframe tbody tr th:only-of-type {\n",
              "        vertical-align: middle;\n",
              "    }\n",
              "\n",
              "    .dataframe tbody tr th {\n",
              "        vertical-align: top;\n",
              "    }\n",
              "\n",
              "    .dataframe thead th {\n",
              "        text-align: right;\n",
              "    }\n",
              "</style>\n",
              "<table border=\"1\" class=\"dataframe\">\n",
              "  <thead>\n",
              "    <tr style=\"text-align: right;\">\n",
              "      <th></th>\n",
              "      <th>text</th>\n",
              "      <th>Sentiment</th>\n",
              "    </tr>\n",
              "  </thead>\n",
              "  <tbody>\n",
              "    <tr>\n",
              "      <th>16432</th>\n",
              "      <td>RT A new survey of Americans has shown that cr...</td>\n",
              "      <td>Positive</td>\n",
              "    </tr>\n",
              "    <tr>\n",
              "      <th>7614</th>\n",
              "      <td>Fantatic</td>\n",
              "      <td>Neutral</td>\n",
              "    </tr>\n",
              "    <tr>\n",
              "      <th>3789</th>\n",
              "      <td>64 How to get started with google adsense affi...</td>\n",
              "      <td>Neutral</td>\n",
              "    </tr>\n",
              "    <tr>\n",
              "      <th>24483</th>\n",
              "      <td>RT New post Leaked Documents Reveals NSA Attem...</td>\n",
              "      <td>Positive</td>\n",
              "    </tr>\n",
              "    <tr>\n",
              "      <th>18080</th>\n",
              "      <td>AtlantaCyberAttack WHAT IN THE WORLD IS GOING ON</td>\n",
              "      <td>Neutral</td>\n",
              "    </tr>\n",
              "    <tr>\n",
              "      <th>...</th>\n",
              "      <td>...</td>\n",
              "      <td>...</td>\n",
              "    </tr>\n",
              "    <tr>\n",
              "      <th>21576</th>\n",
              "      <td>Also</td>\n",
              "      <td>Negative</td>\n",
              "    </tr>\n",
              "    <tr>\n",
              "      <th>5391</th>\n",
              "      <td>RT Japan s electric power provider partnered w...</td>\n",
              "      <td>Neutral</td>\n",
              "    </tr>\n",
              "    <tr>\n",
              "      <th>860</th>\n",
              "      <td>Bitcoin BTG OFFICIAL Bitcoin Gold go becomes p...</td>\n",
              "      <td>Positive</td>\n",
              "    </tr>\n",
              "    <tr>\n",
              "      <th>15796</th>\n",
              "      <td>Block Number 577 049 Time 5 21 2019 7 13 14 AM...</td>\n",
              "      <td>Negative</td>\n",
              "    </tr>\n",
              "    <tr>\n",
              "      <th>23656</th>\n",
              "      <td>RT Our Announcement of payment integration blo...</td>\n",
              "      <td>Neutral</td>\n",
              "    </tr>\n",
              "  </tbody>\n",
              "</table>\n",
              "<p>22590 rows × 2 columns</p>\n",
              "</div>\n",
              "      <button class=\"colab-df-convert\" onclick=\"convertToInteractive('df-48bf1e29-b2c5-4d03-bd84-1b1ed908d2cf')\"\n",
              "              title=\"Convert this dataframe to an interactive table.\"\n",
              "              style=\"display:none;\">\n",
              "        \n",
              "  <svg xmlns=\"http://www.w3.org/2000/svg\" height=\"24px\"viewBox=\"0 0 24 24\"\n",
              "       width=\"24px\">\n",
              "    <path d=\"M0 0h24v24H0V0z\" fill=\"none\"/>\n",
              "    <path d=\"M18.56 5.44l.94 2.06.94-2.06 2.06-.94-2.06-.94-.94-2.06-.94 2.06-2.06.94zm-11 1L8.5 8.5l.94-2.06 2.06-.94-2.06-.94L8.5 2.5l-.94 2.06-2.06.94zm10 10l.94 2.06.94-2.06 2.06-.94-2.06-.94-.94-2.06-.94 2.06-2.06.94z\"/><path d=\"M17.41 7.96l-1.37-1.37c-.4-.4-.92-.59-1.43-.59-.52 0-1.04.2-1.43.59L10.3 9.45l-7.72 7.72c-.78.78-.78 2.05 0 2.83L4 21.41c.39.39.9.59 1.41.59.51 0 1.02-.2 1.41-.59l7.78-7.78 2.81-2.81c.8-.78.8-2.07 0-2.86zM5.41 20L4 18.59l7.72-7.72 1.47 1.35L5.41 20z\"/>\n",
              "  </svg>\n",
              "      </button>\n",
              "      \n",
              "  <style>\n",
              "    .colab-df-container {\n",
              "      display:flex;\n",
              "      flex-wrap:wrap;\n",
              "      gap: 12px;\n",
              "    }\n",
              "\n",
              "    .colab-df-convert {\n",
              "      background-color: #E8F0FE;\n",
              "      border: none;\n",
              "      border-radius: 50%;\n",
              "      cursor: pointer;\n",
              "      display: none;\n",
              "      fill: #1967D2;\n",
              "      height: 32px;\n",
              "      padding: 0 0 0 0;\n",
              "      width: 32px;\n",
              "    }\n",
              "\n",
              "    .colab-df-convert:hover {\n",
              "      background-color: #E2EBFA;\n",
              "      box-shadow: 0px 1px 2px rgba(60, 64, 67, 0.3), 0px 1px 3px 1px rgba(60, 64, 67, 0.15);\n",
              "      fill: #174EA6;\n",
              "    }\n",
              "\n",
              "    [theme=dark] .colab-df-convert {\n",
              "      background-color: #3B4455;\n",
              "      fill: #D2E3FC;\n",
              "    }\n",
              "\n",
              "    [theme=dark] .colab-df-convert:hover {\n",
              "      background-color: #434B5C;\n",
              "      box-shadow: 0px 1px 3px 1px rgba(0, 0, 0, 0.15);\n",
              "      filter: drop-shadow(0px 1px 2px rgba(0, 0, 0, 0.3));\n",
              "      fill: #FFFFFF;\n",
              "    }\n",
              "  </style>\n",
              "\n",
              "      <script>\n",
              "        const buttonEl =\n",
              "          document.querySelector('#df-48bf1e29-b2c5-4d03-bd84-1b1ed908d2cf button.colab-df-convert');\n",
              "        buttonEl.style.display =\n",
              "          google.colab.kernel.accessAllowed ? 'block' : 'none';\n",
              "\n",
              "        async function convertToInteractive(key) {\n",
              "          const element = document.querySelector('#df-48bf1e29-b2c5-4d03-bd84-1b1ed908d2cf');\n",
              "          const dataTable =\n",
              "            await google.colab.kernel.invokeFunction('convertToInteractive',\n",
              "                                                     [key], {});\n",
              "          if (!dataTable) return;\n",
              "\n",
              "          const docLinkHtml = 'Like what you see? Visit the ' +\n",
              "            '<a target=\"_blank\" href=https://colab.research.google.com/notebooks/data_table.ipynb>data table notebook</a>'\n",
              "            + ' to learn more about interactive tables.';\n",
              "          element.innerHTML = '';\n",
              "          dataTable['output_type'] = 'display_data';\n",
              "          await google.colab.output.renderOutput(dataTable, element);\n",
              "          const docLink = document.createElement('div');\n",
              "          docLink.innerHTML = docLinkHtml;\n",
              "          element.appendChild(docLink);\n",
              "        }\n",
              "      </script>\n",
              "    </div>\n",
              "  </div>\n",
              "  "
            ]
          },
          "metadata": {},
          "execution_count": 8
        }
      ]
    },
    {
      "cell_type": "code",
      "source": [
        "df.info()"
      ],
      "metadata": {
        "execution": {
          "iopub.status.busy": "2023-02-10T16:03:59.044329Z",
          "iopub.execute_input": "2023-02-10T16:03:59.044926Z",
          "iopub.status.idle": "2023-02-10T16:03:59.067934Z",
          "shell.execute_reply.started": "2023-02-10T16:03:59.044888Z",
          "shell.execute_reply": "2023-02-10T16:03:59.067210Z"
        },
        "trusted": true,
        "colab": {
          "base_uri": "https://localhost:8080/"
        },
        "id": "in5_Voe-F_oR",
        "outputId": "a46f42ea-be2a-4c70-8583-3c91b1afa294"
      },
      "execution_count": null,
      "outputs": [
        {
          "output_type": "stream",
          "name": "stdout",
          "text": [
            "<class 'pandas.core.frame.DataFrame'>\n",
            "Int64Index: 22590 entries, 16432 to 23656\n",
            "Data columns (total 2 columns):\n",
            " #   Column     Non-Null Count  Dtype \n",
            "---  ------     --------------  ----- \n",
            " 0   text       22590 non-null  object\n",
            " 1   Sentiment  22590 non-null  object\n",
            "dtypes: object(2)\n",
            "memory usage: 529.5+ KB\n"
          ]
        }
      ]
    },
    {
      "cell_type": "markdown",
      "source": [
        "# Tweets Cleaning"
      ],
      "metadata": {
        "id": "SaUI1iioF_od"
      }
    },
    {
      "cell_type": "code",
      "source": [
        "#Remove punctuations, links, mentions and \\r\\n new line characters\n",
        "def strip_all_entities(text): \n",
        "    text = text.replace('\\r', '').replace('\\n', ' ').replace('\\n', ' ').lower() #remove \\n and \\r and lowercase\n",
        "    text = re.sub(r\"(?:\\@|https?\\://)\\S+\", \"\", text) #remove links and mentions\n",
        "    text = re.sub(r'[^\\x00-\\x7f]',r'', text) #remove non utf8/ascii characters\n",
        "    banned_list= string.punctuation + 'Ã'+'±'+'ã'+'¼'+'â'+'»'+'§'\n",
        "    table = str.maketrans('', '', banned_list)\n",
        "    text = text.translate(table)\n",
        "    return text\n",
        "\n",
        "#clean hashtags at the end of the sentence, and keep those in the middle of the sentence by removing just the # symbol\n",
        "def clean_hashtags(tweet):\n",
        "    new_tweet = \" \".join(word.strip() for word in re.split('#(?!(?:hashtag)\\b)[\\w-]+(?=(?:\\s+#[\\w-]+)*\\s*$)', tweet)) #remove last hashtags\n",
        "    new_tweet2 = \" \".join(word.strip() for word in re.split('#|_', new_tweet)) #remove hashtags symbol from words in the middle of the sentence\n",
        "    return new_tweet2\n",
        "\n",
        "#Filter special characters such as & and $ present in some words\n",
        "def filter_chars(a):\n",
        "    sent = []\n",
        "    for word in a.split(' '):\n",
        "        if ('$' in word) | ('&' in word):\n",
        "            sent.append('')\n",
        "        else:\n",
        "            sent.append(word)\n",
        "    return ' '.join(sent)\n",
        "\n",
        "def remove_mult_spaces(text): # remove multiple spaces\n",
        "    return re.sub(\"\\s\\s+\" , \" \", text)"
      ],
      "metadata": {
        "execution": {
          "iopub.status.busy": "2021-12-22T21:15:19.687068Z",
          "iopub.execute_input": "2021-12-22T21:15:19.687746Z",
          "iopub.status.idle": "2021-12-22T21:15:19.698296Z",
          "shell.execute_reply.started": "2021-12-22T21:15:19.687704Z",
          "shell.execute_reply": "2021-12-22T21:15:19.697572Z"
        },
        "trusted": true,
        "id": "Y-RUl5fmF_og"
      },
      "execution_count": null,
      "outputs": []
    },
    {
      "cell_type": "code",
      "source": [
        "texts_new = []\n",
        "for t in df.text:\n",
        "    texts_new.append(remove_mult_spaces(filter_chars(clean_hashtags(strip_all_entities(t)))))"
      ],
      "metadata": {
        "execution": {
          "iopub.status.busy": "2021-12-22T21:15:19.701015Z",
          "iopub.execute_input": "2021-12-22T21:15:19.701235Z",
          "iopub.status.idle": "2021-12-22T21:16:17.869828Z",
          "shell.execute_reply.started": "2021-12-22T21:15:19.701201Z",
          "shell.execute_reply": "2021-12-22T21:16:17.869039Z"
        },
        "trusted": true,
        "id": "B1OG3yqNF_oi"
      },
      "execution_count": null,
      "outputs": []
    },
    {
      "cell_type": "code",
      "source": [
        "texts_new_test = []\n",
        "for t in df_test.text:\n",
        "    texts_new_test.append(remove_mult_spaces(filter_chars(clean_hashtags(strip_all_entities(t)))))"
      ],
      "metadata": {
        "execution": {
          "iopub.status.busy": "2021-12-22T21:16:17.871222Z",
          "iopub.execute_input": "2021-12-22T21:16:17.871709Z",
          "iopub.status.idle": "2021-12-22T21:16:23.197999Z",
          "shell.execute_reply.started": "2021-12-22T21:16:17.871667Z",
          "shell.execute_reply": "2021-12-22T21:16:23.197295Z"
        },
        "trusted": true,
        "id": "SbDqC-zKF_oi"
      },
      "execution_count": null,
      "outputs": []
    },
    {
      "cell_type": "markdown",
      "source": [
        "new column with the clean tweets"
      ],
      "metadata": {
        "id": "Z27Ad_YLF_oj"
      }
    },
    {
      "cell_type": "code",
      "source": [
        "df['text_clean'] = texts_new\n",
        "df_test['text_clean'] = texts_new_test"
      ],
      "metadata": {
        "execution": {
          "iopub.status.busy": "2021-12-22T21:16:23.199371Z",
          "iopub.execute_input": "2021-12-22T21:16:23.199648Z",
          "iopub.status.idle": "2021-12-22T21:16:23.212118Z",
          "shell.execute_reply.started": "2021-12-22T21:16:23.199614Z",
          "shell.execute_reply": "2021-12-22T21:16:23.211257Z"
        },
        "trusted": true,
        "id": "mubB8U9CF_ok"
      },
      "execution_count": null,
      "outputs": []
    },
    {
      "cell_type": "code",
      "source": [
        "df['text_clean'].head()"
      ],
      "metadata": {
        "execution": {
          "iopub.status.busy": "2021-12-22T21:16:23.213498Z",
          "iopub.execute_input": "2021-12-22T21:16:23.213745Z",
          "iopub.status.idle": "2021-12-22T21:16:23.227327Z",
          "shell.execute_reply.started": "2021-12-22T21:16:23.213708Z",
          "shell.execute_reply": "2021-12-22T21:16:23.226641Z"
        },
        "trusted": true,
        "colab": {
          "base_uri": "https://localhost:8080/"
        },
        "id": "-w86VjbBF_ol",
        "outputId": "7c3183c5-fe33-4288-8c68-5d623d31c0a0"
      },
      "execution_count": null,
      "outputs": [
        {
          "output_type": "execute_result",
          "data": {
            "text/plain": [
              "16432    rt a new survey of americans has shown that cr...\n",
              "7614                                              fantatic\n",
              "3789     64 how to get started with google adsense affi...\n",
              "24483    rt new post leaked documents reveals nsa attem...\n",
              "18080     atlantacyberattack what in the world is going on\n",
              "Name: text_clean, dtype: object"
            ]
          },
          "metadata": {},
          "execution_count": 14
        }
      ]
    },
    {
      "cell_type": "code",
      "source": [
        "df_test['text_clean'].head()"
      ],
      "metadata": {
        "execution": {
          "iopub.status.busy": "2021-12-22T21:16:23.232295Z",
          "iopub.execute_input": "2021-12-22T21:16:23.232676Z",
          "iopub.status.idle": "2021-12-22T21:16:23.239727Z",
          "shell.execute_reply.started": "2021-12-22T21:16:23.232647Z",
          "shell.execute_reply": "2021-12-22T21:16:23.239023Z"
        },
        "trusted": true,
        "colab": {
          "base_uri": "https://localhost:8080/"
        },
        "id": "iQAJ9eHOF_ol",
        "outputId": "6b562405-9e19-497b-85aa-1c4502dcd8bf"
      },
      "execution_count": null,
      "outputs": [
        {
          "output_type": "execute_result",
          "data": {
            "text/plain": [
              "7331     20 for free registering to binance 0 1 trading...\n",
              "9623     name wings symbol wings 24 hour change 8 37 pr...\n",
              "15176                              thread this guy gets it\n",
              "6831     the latest the cryptopia daily thanks to bitco...\n",
              "23469                                facts and bitcoin lol\n",
              "Name: text_clean, dtype: object"
            ]
          },
          "metadata": {},
          "execution_count": 15
        }
      ]
    },
    {
      "cell_type": "code",
      "source": [
        "df['text_clean'][1:8].values"
      ],
      "metadata": {
        "execution": {
          "iopub.status.busy": "2021-12-22T21:16:23.241001Z",
          "iopub.execute_input": "2021-12-22T21:16:23.241499Z",
          "iopub.status.idle": "2021-12-22T21:16:23.250236Z",
          "shell.execute_reply.started": "2021-12-22T21:16:23.241461Z",
          "shell.execute_reply": "2021-12-22T21:16:23.249487Z"
        },
        "trusted": true,
        "colab": {
          "base_uri": "https://localhost:8080/"
        },
        "id": "y5X1IP0IF_om",
        "outputId": "3724fbe8-0820-4d2d-9b71-eb5b8d2546b6"
      },
      "execution_count": null,
      "outputs": [
        {
          "output_type": "execute_result",
          "data": {
            "text/plain": [
              "array(['fantatic',\n",
              "       '64 how to get started with google adsense affiliatemarketing bitcoin affiliatemarketing onlinemarketing',\n",
              "       'rt new post leaked documents reveals nsa attempt to crack bitcoin users identity has been published on sgt report',\n",
              "       'atlantacyberattack what in the world is going on',\n",
              "       'capuchincrypt who lost money in bitcoin',\n",
              "       'bitcoin spike sparks crypto jacking trend by rt com',\n",
              "       'breaking news binance will be listing wan wan soon cryptocurrency blockchain bitcoin crypto btc ico eth xrp trading cryptonews'],\n",
              "      dtype=object)"
            ]
          },
          "metadata": {},
          "execution_count": 16
        }
      ]
    },
    {
      "cell_type": "markdown",
      "source": [
        "finding the length of the texts to check whether the cleaning caused any null texts"
      ],
      "metadata": {
        "id": "B4pDdasUF_on"
      }
    },
    {
      "cell_type": "code",
      "source": [
        "text_len = []\n",
        "for text in df.text_clean:\n",
        "    tweet_len = len(text.split())\n",
        "    text_len.append(tweet_len)"
      ],
      "metadata": {
        "execution": {
          "iopub.status.busy": "2021-12-22T21:16:23.252435Z",
          "iopub.execute_input": "2021-12-22T21:16:23.253023Z",
          "iopub.status.idle": "2021-12-22T21:16:23.346853Z",
          "shell.execute_reply.started": "2021-12-22T21:16:23.252986Z",
          "shell.execute_reply": "2021-12-22T21:16:23.346251Z"
        },
        "trusted": true,
        "id": "j0a5-3RoF_on"
      },
      "execution_count": null,
      "outputs": []
    },
    {
      "cell_type": "code",
      "source": [
        "df['text_len'] = text_len"
      ],
      "metadata": {
        "execution": {
          "iopub.status.busy": "2021-12-22T21:16:23.347901Z",
          "iopub.execute_input": "2021-12-22T21:16:23.348129Z",
          "iopub.status.idle": "2021-12-22T21:16:23.369365Z",
          "shell.execute_reply.started": "2021-12-22T21:16:23.348096Z",
          "shell.execute_reply": "2021-12-22T21:16:23.368729Z"
        },
        "trusted": true,
        "id": "aebJYJyvF_oo"
      },
      "execution_count": null,
      "outputs": []
    },
    {
      "cell_type": "code",
      "source": [
        "text_len_test = []\n",
        "for text in df_test.text_clean:\n",
        "    tweet_len = len(text.split())\n",
        "    text_len_test.append(tweet_len)"
      ],
      "metadata": {
        "execution": {
          "iopub.status.busy": "2021-12-22T21:16:23.370787Z",
          "iopub.execute_input": "2021-12-22T21:16:23.371086Z",
          "iopub.status.idle": "2021-12-22T21:16:23.387455Z",
          "shell.execute_reply.started": "2021-12-22T21:16:23.371047Z",
          "shell.execute_reply": "2021-12-22T21:16:23.386622Z"
        },
        "trusted": true,
        "id": "H3Kwn8VsF_op"
      },
      "execution_count": null,
      "outputs": []
    },
    {
      "cell_type": "code",
      "source": [
        "df_test['text_len'] = text_len_test"
      ],
      "metadata": {
        "execution": {
          "iopub.status.busy": "2021-12-22T21:16:23.388853Z",
          "iopub.execute_input": "2021-12-22T21:16:23.38944Z",
          "iopub.status.idle": "2021-12-22T21:16:23.398823Z",
          "shell.execute_reply.started": "2021-12-22T21:16:23.389402Z",
          "shell.execute_reply": "2021-12-22T21:16:23.398101Z"
        },
        "trusted": true,
        "id": "l5vmfwbQF_op"
      },
      "execution_count": null,
      "outputs": []
    },
    {
      "cell_type": "code",
      "source": [
        "print(f\" DF SHAPE: {df.shape}\")\n",
        "print(f\" DF TEST SHAPE: {df_test.shape}\")"
      ],
      "metadata": {
        "execution": {
          "iopub.status.busy": "2021-12-22T21:16:23.927254Z",
          "iopub.execute_input": "2021-12-22T21:16:23.927515Z",
          "iopub.status.idle": "2021-12-22T21:16:23.935987Z",
          "shell.execute_reply.started": "2021-12-22T21:16:23.92748Z",
          "shell.execute_reply": "2021-12-22T21:16:23.935269Z"
        },
        "trusted": true,
        "colab": {
          "base_uri": "https://localhost:8080/"
        },
        "id": "YIJo3LONF_ot",
        "outputId": "fafae538-ac8d-4ce8-a8ac-b16c9f239cad"
      },
      "execution_count": null,
      "outputs": [
        {
          "output_type": "stream",
          "name": "stdout",
          "text": [
            " DF SHAPE: (22590, 4)\n",
            " DF TEST SHAPE: (2511, 4)\n"
          ]
        }
      ]
    },
    {
      "cell_type": "code",
      "source": [
        "df = df[df['text_len'] > 4]"
      ],
      "metadata": {
        "execution": {
          "iopub.status.busy": "2021-12-22T21:16:23.937463Z",
          "iopub.execute_input": "2021-12-22T21:16:23.937742Z",
          "iopub.status.idle": "2021-12-22T21:16:23.947934Z",
          "shell.execute_reply.started": "2021-12-22T21:16:23.937695Z",
          "shell.execute_reply": "2021-12-22T21:16:23.947188Z"
        },
        "trusted": true,
        "id": "8kyM-o4QF_ot"
      },
      "execution_count": null,
      "outputs": []
    },
    {
      "cell_type": "code",
      "source": [
        "df_test = df_test[df_test['text_len'] > 4]"
      ],
      "metadata": {
        "execution": {
          "iopub.status.busy": "2021-12-22T21:16:23.949457Z",
          "iopub.execute_input": "2021-12-22T21:16:23.949722Z",
          "iopub.status.idle": "2021-12-22T21:16:23.956516Z",
          "shell.execute_reply.started": "2021-12-22T21:16:23.949679Z",
          "shell.execute_reply": "2021-12-22T21:16:23.955817Z"
        },
        "trusted": true,
        "id": "JTZtetXPF_ou"
      },
      "execution_count": null,
      "outputs": []
    },
    {
      "cell_type": "code",
      "source": [
        "print(f\" DF SHAPE: {df.shape}\")\n",
        "print(f\" DF TEST SHAPE: {df_test.shape}\")"
      ],
      "metadata": {
        "execution": {
          "iopub.status.busy": "2021-12-22T21:16:23.957889Z",
          "iopub.execute_input": "2021-12-22T21:16:23.958147Z",
          "iopub.status.idle": "2021-12-22T21:16:23.965132Z",
          "shell.execute_reply.started": "2021-12-22T21:16:23.958113Z",
          "shell.execute_reply": "2021-12-22T21:16:23.964401Z"
        },
        "trusted": true,
        "colab": {
          "base_uri": "https://localhost:8080/"
        },
        "id": "XKLAg6cUF_ou",
        "outputId": "4f5608f7-3dfe-4644-a47b-b5c704be132c"
      },
      "execution_count": null,
      "outputs": [
        {
          "output_type": "stream",
          "name": "stdout",
          "text": [
            " DF SHAPE: (21785, 4)\n",
            " DF TEST SHAPE: (2423, 4)\n"
          ]
        }
      ]
    },
    {
      "cell_type": "markdown",
      "source": [
        "## Training data deeper cleaning"
      ],
      "metadata": {
        "id": "pJYRUeRhF_ov"
      }
    },
    {
      "cell_type": "markdown",
      "source": [
        "Importing the RoBERTa tokenizer."
      ],
      "metadata": {
        "id": "wDiwNylvF_ow"
      }
    },
    {
      "cell_type": "code",
      "source": [
        "#tokenizer = BertTokenizerFast.from_pretrained('bert-base-uncased')\n",
        "from transformers import AutoTokenizer, TFAutoModel\n",
        "\n",
        "tokenizer = AutoTokenizer.from_pretrained('cardiffnlp/twitter-roberta-base-sentiment-latest')"
      ],
      "metadata": {
        "_kg_hide-output": true,
        "execution": {
          "iopub.status.busy": "2021-12-22T21:16:23.966349Z",
          "iopub.execute_input": "2021-12-22T21:16:23.966874Z",
          "iopub.status.idle": "2021-12-22T21:16:30.505565Z",
          "shell.execute_reply.started": "2021-12-22T21:16:23.966837Z",
          "shell.execute_reply": "2021-12-22T21:16:30.504847Z"
        },
        "trusted": true,
        "id": "xpTJZRseF_ox",
        "colab": {
          "base_uri": "https://localhost:8080/",
          "height": 145,
          "referenced_widgets": [
            "a188881b41e04e689e35ec5b0d921741",
            "4eabb486e5d84ae3a11351bd6606fd09",
            "81e3349c103248d08a2c3e8035cce2cd",
            "40d930bcbea94f8fbedf405be35bf406",
            "13472a543c3e4cc99956cd63114b1b78",
            "1b1b4672704e4fcb93b99d10e87761df",
            "c882767f04e64ed0b14b52b4cffc1a76",
            "86f5a4dc8e2941a399469fa1d93f5b90",
            "44093ce7603c46c7a69430bd5308ec67",
            "b77be3536fe14e88b54bc37dda2d5736",
            "b8e6b034f8fa4a4888812a86f494a58e",
            "07d4307eae0b4383b2fd35ab4fa636b7",
            "8cc81ffba14c4d75a5beb3d23e1d9df8",
            "39d7e94dd34b4123ba2c1cdb0126f9ea",
            "d457f77367154d00876099319528b64b",
            "17fd5c6413ba4e71b7e5a35fe1b62e95",
            "b102c6a1164b487a98f26a41f8c9a6a8",
            "33e8dd10ea7e493f8b6403b5833e99de",
            "6ef302bcabd8451c855dacee889b294b",
            "af2a58248772491aa282514855eba9c9",
            "9955c6ccfa79498c835a23fa0be0daa6",
            "b1d5a6dfbe1b4b8a9a74417ecf219391",
            "b00f4a2513db4b219c8e030cb2114871",
            "358421031a4a4e2dae9e5dea973ad338",
            "dcf2a69e563446e8abf32226f60f066a",
            "9f2f86894db749319daa0ce4c3532d0e",
            "6997978919264ce6bb26707cda254a68",
            "b555865e0e5545c38727de9ec6deed23",
            "e8a35b4a3c2d4ca898901eb99a34ac34",
            "1f3bc22ed8d2484a89f74b99b2a17fbc",
            "e50a9a76305547d3831c928f93888776",
            "a0e4ab8a5dfe491692aedfb3008df7fb",
            "9dee1e4cf9ea49a79d5200a12c7ceb70",
            "e8002ecd0094491a8e0d895e13b9c3d2",
            "4cb79ec259b24e64a3984fa8dfea4f70",
            "168fd1c432c04a479e72c580c4764dd7",
            "416e89042c314a0cbe4a6b9a99e66768",
            "6c99551a8f4d435eb365d59e4327eb03",
            "c4f591f7d68f4e74bdf31971bd628249",
            "b363ef3bec964b368c573a3439b055f2",
            "5ffcd992fc584580b3f75a8d1be57d02",
            "1ac8881359d5452ab4c839cee5a0d17b",
            "f8d158d6cbf5450fadb76994bb218fcc",
            "d08c240241ce4648a460407f483c097c"
          ]
        },
        "outputId": "564c4a71-cac1-4b8a-ce58-1082fd9f3065"
      },
      "execution_count": null,
      "outputs": [
        {
          "output_type": "display_data",
          "data": {
            "text/plain": [
              "Downloading (…)lve/main/config.json:   0%|          | 0.00/929 [00:00<?, ?B/s]"
            ],
            "application/vnd.jupyter.widget-view+json": {
              "version_major": 2,
              "version_minor": 0,
              "model_id": "a188881b41e04e689e35ec5b0d921741"
            }
          },
          "metadata": {}
        },
        {
          "output_type": "display_data",
          "data": {
            "text/plain": [
              "Downloading (…)olve/main/vocab.json:   0%|          | 0.00/899k [00:00<?, ?B/s]"
            ],
            "application/vnd.jupyter.widget-view+json": {
              "version_major": 2,
              "version_minor": 0,
              "model_id": "07d4307eae0b4383b2fd35ab4fa636b7"
            }
          },
          "metadata": {}
        },
        {
          "output_type": "display_data",
          "data": {
            "text/plain": [
              "Downloading (…)olve/main/merges.txt:   0%|          | 0.00/456k [00:00<?, ?B/s]"
            ],
            "application/vnd.jupyter.widget-view+json": {
              "version_major": 2,
              "version_minor": 0,
              "model_id": "b00f4a2513db4b219c8e030cb2114871"
            }
          },
          "metadata": {}
        },
        {
          "output_type": "display_data",
          "data": {
            "text/plain": [
              "Downloading (…)cial_tokens_map.json:   0%|          | 0.00/239 [00:00<?, ?B/s]"
            ],
            "application/vnd.jupyter.widget-view+json": {
              "version_major": 2,
              "version_minor": 0,
              "model_id": "e8002ecd0094491a8e0d895e13b9c3d2"
            }
          },
          "metadata": {}
        }
      ]
    },
    {
      "cell_type": "code",
      "source": [
        "token_lens = []\n",
        "\n",
        "for txt in df['text_clean'].values:\n",
        "    tokens = tokenizer.encode(txt, max_length=512, truncation=True)\n",
        "    token_lens.append(len(tokens))\n",
        "    \n",
        "max_len=np.max(token_lens)"
      ],
      "metadata": {
        "execution": {
          "iopub.status.busy": "2021-12-22T21:16:30.506822Z",
          "iopub.execute_input": "2021-12-22T21:16:30.507117Z",
          "iopub.status.idle": "2021-12-22T21:16:38.608135Z",
          "shell.execute_reply.started": "2021-12-22T21:16:30.507082Z",
          "shell.execute_reply": "2021-12-22T21:16:38.60725Z"
        },
        "trusted": true,
        "id": "JwB_DmfoF_ox"
      },
      "execution_count": null,
      "outputs": []
    },
    {
      "cell_type": "code",
      "source": [
        "print(f\"MAX TOKENIZED SENTENCE LENGTH: {max_len}\")"
      ],
      "metadata": {
        "execution": {
          "iopub.status.busy": "2021-12-22T21:16:38.612489Z",
          "iopub.execute_input": "2021-12-22T21:16:38.614497Z",
          "iopub.status.idle": "2021-12-22T21:16:38.622543Z",
          "shell.execute_reply.started": "2021-12-22T21:16:38.614458Z",
          "shell.execute_reply": "2021-12-22T21:16:38.621788Z"
        },
        "trusted": true,
        "colab": {
          "base_uri": "https://localhost:8080/"
        },
        "id": "qg_pfQBWF_oy",
        "outputId": "077c3e67-6bd1-42c9-c3ae-6c219cee1c2c"
      },
      "execution_count": null,
      "outputs": [
        {
          "output_type": "stream",
          "name": "stdout",
          "text": [
            "MAX TOKENIZED SENTENCE LENGTH: 110\n"
          ]
        }
      ]
    },
    {
      "cell_type": "markdown",
      "source": [
        "checking the long tokenized sentences (with more than 80 tokens ):"
      ],
      "metadata": {
        "execution": {
          "iopub.status.busy": "2021-12-07T12:49:48.842045Z",
          "iopub.execute_input": "2021-12-07T12:49:48.842301Z",
          "iopub.status.idle": "2021-12-07T12:49:48.848445Z",
          "shell.execute_reply.started": "2021-12-07T12:49:48.842267Z",
          "shell.execute_reply": "2021-12-07T12:49:48.847098Z"
        },
        "id": "UPFHli8TF_oz"
      }
    },
    {
      "cell_type": "code",
      "source": [
        "token_lens = []\n",
        "\n",
        "for i,txt in enumerate(df['text_clean'].values):\n",
        "    tokens = tokenizer.encode(txt, max_length=512, truncation=True)\n",
        "    token_lens.append(len(tokens))\n",
        "    if len(tokens)>80:\n",
        "        print(f\"INDEX: {i}, TEXT: {txt}\")  "
      ],
      "metadata": {
        "execution": {
          "iopub.status.busy": "2021-12-22T21:16:38.627275Z",
          "iopub.execute_input": "2021-12-22T21:16:38.627927Z",
          "iopub.status.idle": "2021-12-22T21:16:45.918973Z",
          "shell.execute_reply.started": "2021-12-22T21:16:38.62789Z",
          "shell.execute_reply": "2021-12-22T21:16:45.918256Z"
        },
        "trusted": true,
        "colab": {
          "base_uri": "https://localhost:8080/"
        },
        "id": "N8YS-DVtF_oz",
        "outputId": "2d8ff5cc-e240-4a6b-f754-38c84e050645"
      },
      "execution_count": null,
      "outputs": [
        {
          "output_type": "stream",
          "name": "stdout",
          "text": [
            "INDEX: 1543, TEXT: check all here gt on poloniex ppc to btc gt 0 00005036 volume gt 24426 on bittrex ltc to btc gt 0 01148535 volume gt 64437 on exmo xmr to btc gt 0 01116881 volume gt 985 on hitbtc xrp to btc gt 0 00004997 volume gt 59295632\n",
            "INDEX: 4454, TEXT: wish smart contract amp distribution in 24 hrs send 0 15 eth 1 500 000 wish send to eth address 0x4c70f816764a238610af3de27157a87ebb428fc5 listing on mercatox amp coinexchange follow retweet comment eth address airdrop binance xrp xvg trx btc eth iheartbts\n",
            "INDEX: 4561, TEXT: zeroxripple send eth that i will send to the address you have deposited 0x3bf591107a6c7dcb8326d21d8a3340f33c72155d 1 eth 5000000 000 zeroxripple 0 9 eth 4500000 000 zeroxripple 0 8 eth 4000000 000 zeroxripple airdrop airdropalert bitcoin ethereum ripple coinhacker\n",
            "INDEX: 5185, TEXT: prices in brl btc 33 825 90 32 199 65 bch 1 892 81 1 651 91 btg 117 79 92 18 dgb 0 06 0 05 dsh 783 06 653 68 eth 1 086 16 1 022 88 rbtc 34 166 79 31 563 61 realt 1 00 1 00 smart 0 04 0 04 tusd 4 24 3 95 xem 0 40 0 34 xrp 1 72 1 59 zcr 0 62 0 41 zec 325 43 294 73 stratum\n",
            "INDEX: 6419, TEXT: current crypto prices btc 7912 26 usd eth 251 99 usd ltc 90 83 usd bch 416 72 usd xlm 0 1336 usd doge 0 003086 usd neo 11 93 usd xrp 0 3952 usd cann 0 001504 usd emc2 0 09734 usd xmr 88 25 usd btg 22 94 usd\n",
            "INDEX: 6522, TEXT: prices in brl btc 33 401 58 31 795 73 bch 1 861 11 1 624 24 btg 116 12 90 88 dgb 0 07 0 06 dsh 772 66 645 00 eth 1 065 90 1 003 80 rbtc 33 705 53 31 137 49 realt 1 00 1 00 smart 0 04 0 04 tusd 4 24 3 96 xem 0 39 0 34 xrp 1 72 1 59 zcr 0 62 0 41 zec 320 00 289 81 stratum\n",
            "INDEX: 6667, TEXT: wish token selfdrop send 0 015 eth 150 000 wish send to eth address 0x9ea964c35f418c54d2dee1897f3b6d2d3def538f listing on mercatox amp coinexchange follow retweet comment eth address airdrop binance xrp xvg trx btc eth bsv eos np\n",
            "INDEX: 8195, TEXT: current crypto prices btc 7969 38 usd eth 253 5 usd ltc 91 45 usd bch 413 66 usd xlm 0 1345 usd doge 0 003029 usd neo 12 04 usd xrp 0 3983 usd cann 0 001514 usd emc2 0 1004 usd xmr 91 38 usd btg 21 66 usd\n",
            "INDEX: 8315, TEXT: 0 05btc gt 20btc we need just a week join btc eth bnb eos ont xaur vtr trust pkb grs sngls gbg shift draco swt music ppc pot bsd zcl fldc exp myst gno ioc tks mue block cfi hmq crw vox bcy aby sib nmr trx\n",
            "INDEX: 9290, TEXT: criptodolar bitcoin 22may 10 05 27 am btc 7 868 44 usd 0 48 eth 252 88 usd 0 43 dash 161 64 usd 0 09 pab btc 8 131 23 pab usd btc 8 092 17 usd eur btc 7 030 36 eur ves btc 46 825 813 bs vesusd 5 773 bs ven\n",
            "INDEX: 9722, TEXT: usdcad buy 1 34300 take profit 1 34700 stop loss 1 34100 forex forexsignals forexsignal forextrading fxsignals trading money scalping forexmarket gbpusd rt retweeet eurusd gbp stockmarket news forexnews usdcad gbpusd usdtry xauusd currency bitcoin btc\n",
            "INDEX: 11585, TEXT: rt lbcc ostk digaf mgti btcs btc bch xrp stocks are on wdbg tlry psiq hiph fteg cavr spy axxa pgus hvcw blsp lvgi nhpi gifx drus ggii ubqu aapl jcp amzn acb owcp nspx fnma vyst shmp krfg leas avxl bpth stockstowatch\n",
            "INDEX: 11789, TEXT: current crypto prices btc 7995 73 usd eth 254 65 usd ltc 91 66 usd bch 415 46 usd xlm 0 1355 usd doge 0 003039 usd neo 12 16 usd xrp 0 4011 usd cann 0 001519 usd emc2 0 1001 usd xmr 90 75 usd btg 21 63 usd\n",
            "INDEX: 14201, TEXT: criptodolar bitcoin 21may 10 05 26 am btc 7 898 5 usd 0 57 eth 250 12 usd 1 06 dash 164 94 usd 0 8 pab btc 8 114 5 pab usd btc 8 212 01 usd eur btc 7 088 9 eur ves btc 46 398 121 bs vesusd 5 684 bs ven\n",
            "INDEX: 14851, TEXT: criptodolar bitcoin 22may 09 05 01 am btc 7 835 24 usd 0 25 eth 251 7 usd 0 6 dash 161 46 usd 0 22 pab btc 8 145 21 pab usd btc 8 065 usd eur btc 6 959 91 eur ves btc 46 981 091 bs vesusd 5 796 bs ven\n",
            "INDEX: 15468, TEXT: binance is the number 1 crypto exchange in the world discount on trading fees click here btc qlc dnt ada appc wpr dgb enj rvn brd ae tusd iost ppt doge bts ins iotx powr sky aion etp storj qkc edr nxs srn poe 4775199\n",
            "INDEX: 19001, TEXT: current crypto prices btc 7942 34 usd eth 252 76 usd ltc 91 34 usd bch 411 36 usd xlm 0 1347 usd doge 0 003019 usd neo 11 97 usd xrp 0 3957 usd cann 0 001509 usd emc2 0 1001 usd xmr 90 89 usd btg 21 6 usd\n",
            "INDEX: 19129, TEXT: check all here gt on exmo btc to eur gt 7119 98943309 volume gt 356 on yobit nmc to btc gt 0 00004103 volume gt 93 on cex io xrp to usd gt 0 375 volume gt 2305665 on wexnz ltc to rub gt 5788 75917 volume gt 2143\n",
            "INDEX: 21075, TEXT: bitcoin 1dkx1gjwe1nm5qnrmspx1dhhywmwppmsca ethereum 0x5fca8adb57272d4fc41e66f41fa52cea9aacce90 ltc 3pjfwtz3rvynbwjikyjzd3aeqqj5zupczo\n"
          ]
        }
      ]
    },
    {
      "cell_type": "code",
      "source": [
        "df['token_lens'] = token_lens"
      ],
      "metadata": {
        "execution": {
          "iopub.status.busy": "2021-12-22T21:16:45.920127Z",
          "iopub.execute_input": "2021-12-22T21:16:45.920514Z",
          "iopub.status.idle": "2021-12-22T21:16:45.942482Z",
          "shell.execute_reply.started": "2021-12-22T21:16:45.920472Z",
          "shell.execute_reply": "2021-12-22T21:16:45.941845Z"
        },
        "trusted": true,
        "id": "djElD_arF_o1",
        "colab": {
          "base_uri": "https://localhost:8080/"
        },
        "outputId": "a0c24437-5612-4c98-f665-9237d2695db7"
      },
      "execution_count": null,
      "outputs": [
        {
          "output_type": "stream",
          "name": "stderr",
          "text": [
            "<ipython-input-29-b06175d1d9b6>:1: SettingWithCopyWarning: \n",
            "A value is trying to be set on a copy of a slice from a DataFrame.\n",
            "Try using .loc[row_indexer,col_indexer] = value instead\n",
            "\n",
            "See the caveats in the documentation: https://pandas.pydata.org/pandas-docs/stable/user_guide/indexing.html#returning-a-view-versus-a-copy\n",
            "  df['token_lens'] = token_lens\n"
          ]
        }
      ]
    },
    {
      "cell_type": "code",
      "source": [
        "df = df.sort_values(by='token_lens', ascending=False)\n",
        "df.head(20)"
      ],
      "metadata": {
        "execution": {
          "iopub.status.busy": "2021-12-22T21:16:45.943569Z",
          "iopub.execute_input": "2021-12-22T21:16:45.943812Z",
          "iopub.status.idle": "2021-12-22T21:16:45.966583Z",
          "shell.execute_reply.started": "2021-12-22T21:16:45.943779Z",
          "shell.execute_reply": "2021-12-22T21:16:45.965943Z"
        },
        "trusted": true,
        "colab": {
          "base_uri": "https://localhost:8080/",
          "height": 676
        },
        "id": "2p-PchNYF_o2",
        "outputId": "a6f88632-9c37-46e3-8ff5-09dcc5aa0a8a"
      },
      "execution_count": null,
      "outputs": [
        {
          "output_type": "execute_result",
          "data": {
            "text/plain": [
              "                                                    text Sentiment  \\\n",
              "3379   Prices in BRL BTC 33 825 90 32 199 65 BCH 1 89...  Negative   \n",
              "7041   Prices in BRL BTC 33 401 58 31 795 73 BCH 1 86...  Negative   \n",
              "19479  RT LBCC OSTK DIGAF MGTI BTCS BTC BCH XRP STOCK...  Negative   \n",
              "2626   ZeroXRipple SEND ETH That I will send to the a...  Negative   \n",
              "12418  Check all here gt On Poloniex PPC to BTC gt 0 ...  Negative   \n",
              "16978  Check all here gt On Exmo BTC to EUR gt 7119 9...  Negative   \n",
              "18663  CriptoDolar Bitcoin 22May 10 05 27 AM BTC 7 86...  Negative   \n",
              "7016   Current Crypto Prices BTC 7912 26 USD ETH 251 ...  Negative   \n",
              "16017  CriptoDolar Bitcoin 22May 09 05 01 AM BTC 7 83...  Negative   \n",
              "1844   0 05BTC gt 20BTC We need Just a Week Join BTC ...  Negative   \n",
              "805    Current Crypto Prices BTC 7969 38 USD ETH 253 ...  Negative   \n",
              "1753   Current Crypto Prices BTC 7942 34 USD ETH 252 ...  Negative   \n",
              "11628  Current Crypto Prices BTC 7995 73 USD ETH 254 ...  Negative   \n",
              "18649  CriptoDolar Bitcoin 21May 10 05 26 AM BTC 7 89...  Negative   \n",
              "22038  Wish Token Selfdrop Send 0 015 ETH 150 000 WIS...  Negative   \n",
              "24768  USDCAD Buy 1 34300 Take Profit 1 34700 Stop Lo...  Negative   \n",
              "21375  WISH SMART CONTRACT amp DISTRIBUTION IN 24 HRS...  Negative   \n",
              "8663   Bitcoin 1DKx1GjwE1Nm5QNrMSPX1DhhYwMwpPmsCa Eth...  Negative   \n",
              "15793  Binance is the number 1 crypto exchange in the...  Negative   \n",
              "21138  Who Can Make 1687 Profit We Are Join BTC ETH N...  Negative   \n",
              "\n",
              "                                              text_clean  text_len  token_lens  \n",
              "3379   prices in brl btc 33 825 90 32 199 65 bch 1 89...        82         110  \n",
              "7041   prices in brl btc 33 401 58 31 795 73 bch 1 86...        82         110  \n",
              "19479  rt lbcc ostk digaf mgti btcs btc bch xrp stock...        43         101  \n",
              "2626   zeroxripple send eth that i will send to the a...        37          93  \n",
              "12418  check all here gt on poloniex ppc to btc gt 0 ...        48          93  \n",
              "16978  check all here gt on exmo btc to eur gt 7119 9...        49          86  \n",
              "18663  criptodolar bitcoin 22may 10 05 27 am btc 7 86...        55          86  \n",
              "7016   current crypto prices btc 7912 26 usd eth 251 ...        51          86  \n",
              "16017  criptodolar bitcoin 22may 09 05 01 am btc 7 83...        54          85  \n",
              "1844   0 05btc gt 20btc we need just a week join btc ...        47          85  \n",
              "805    current crypto prices btc 7969 38 usd eth 253 ...        51          85  \n",
              "1753   current crypto prices btc 7942 34 usd eth 252 ...        51          85  \n",
              "11628  current crypto prices btc 7995 73 usd eth 254 ...        51          85  \n",
              "18649  criptodolar bitcoin 21may 10 05 26 am btc 7 89...        55          83  \n",
              "22038  wish token selfdrop send 0 015 eth 150 000 wis...        35          83  \n",
              "24768  usdcad buy 1 34300 take profit 1 34700 stop lo...        36          83  \n",
              "21375  wish smart contract amp distribution in 24 hrs...        39          82  \n",
              "8663   bitcoin 1dkx1gjwe1nm5qnrmspx1dhhywmwppmsca eth...         6          81  \n",
              "15793  binance is the number 1 crypto exchange in the...        45          81  \n",
              "21138  who can make 1687 profit we are join btc eth n...        44          80  "
            ],
            "text/html": [
              "\n",
              "  <div id=\"df-96a4e20c-d8a8-4683-a579-1ce52a27ec79\">\n",
              "    <div class=\"colab-df-container\">\n",
              "      <div>\n",
              "<style scoped>\n",
              "    .dataframe tbody tr th:only-of-type {\n",
              "        vertical-align: middle;\n",
              "    }\n",
              "\n",
              "    .dataframe tbody tr th {\n",
              "        vertical-align: top;\n",
              "    }\n",
              "\n",
              "    .dataframe thead th {\n",
              "        text-align: right;\n",
              "    }\n",
              "</style>\n",
              "<table border=\"1\" class=\"dataframe\">\n",
              "  <thead>\n",
              "    <tr style=\"text-align: right;\">\n",
              "      <th></th>\n",
              "      <th>text</th>\n",
              "      <th>Sentiment</th>\n",
              "      <th>text_clean</th>\n",
              "      <th>text_len</th>\n",
              "      <th>token_lens</th>\n",
              "    </tr>\n",
              "  </thead>\n",
              "  <tbody>\n",
              "    <tr>\n",
              "      <th>3379</th>\n",
              "      <td>Prices in BRL BTC 33 825 90 32 199 65 BCH 1 89...</td>\n",
              "      <td>Negative</td>\n",
              "      <td>prices in brl btc 33 825 90 32 199 65 bch 1 89...</td>\n",
              "      <td>82</td>\n",
              "      <td>110</td>\n",
              "    </tr>\n",
              "    <tr>\n",
              "      <th>7041</th>\n",
              "      <td>Prices in BRL BTC 33 401 58 31 795 73 BCH 1 86...</td>\n",
              "      <td>Negative</td>\n",
              "      <td>prices in brl btc 33 401 58 31 795 73 bch 1 86...</td>\n",
              "      <td>82</td>\n",
              "      <td>110</td>\n",
              "    </tr>\n",
              "    <tr>\n",
              "      <th>19479</th>\n",
              "      <td>RT LBCC OSTK DIGAF MGTI BTCS BTC BCH XRP STOCK...</td>\n",
              "      <td>Negative</td>\n",
              "      <td>rt lbcc ostk digaf mgti btcs btc bch xrp stock...</td>\n",
              "      <td>43</td>\n",
              "      <td>101</td>\n",
              "    </tr>\n",
              "    <tr>\n",
              "      <th>2626</th>\n",
              "      <td>ZeroXRipple SEND ETH That I will send to the a...</td>\n",
              "      <td>Negative</td>\n",
              "      <td>zeroxripple send eth that i will send to the a...</td>\n",
              "      <td>37</td>\n",
              "      <td>93</td>\n",
              "    </tr>\n",
              "    <tr>\n",
              "      <th>12418</th>\n",
              "      <td>Check all here gt On Poloniex PPC to BTC gt 0 ...</td>\n",
              "      <td>Negative</td>\n",
              "      <td>check all here gt on poloniex ppc to btc gt 0 ...</td>\n",
              "      <td>48</td>\n",
              "      <td>93</td>\n",
              "    </tr>\n",
              "    <tr>\n",
              "      <th>16978</th>\n",
              "      <td>Check all here gt On Exmo BTC to EUR gt 7119 9...</td>\n",
              "      <td>Negative</td>\n",
              "      <td>check all here gt on exmo btc to eur gt 7119 9...</td>\n",
              "      <td>49</td>\n",
              "      <td>86</td>\n",
              "    </tr>\n",
              "    <tr>\n",
              "      <th>18663</th>\n",
              "      <td>CriptoDolar Bitcoin 22May 10 05 27 AM BTC 7 86...</td>\n",
              "      <td>Negative</td>\n",
              "      <td>criptodolar bitcoin 22may 10 05 27 am btc 7 86...</td>\n",
              "      <td>55</td>\n",
              "      <td>86</td>\n",
              "    </tr>\n",
              "    <tr>\n",
              "      <th>7016</th>\n",
              "      <td>Current Crypto Prices BTC 7912 26 USD ETH 251 ...</td>\n",
              "      <td>Negative</td>\n",
              "      <td>current crypto prices btc 7912 26 usd eth 251 ...</td>\n",
              "      <td>51</td>\n",
              "      <td>86</td>\n",
              "    </tr>\n",
              "    <tr>\n",
              "      <th>16017</th>\n",
              "      <td>CriptoDolar Bitcoin 22May 09 05 01 AM BTC 7 83...</td>\n",
              "      <td>Negative</td>\n",
              "      <td>criptodolar bitcoin 22may 09 05 01 am btc 7 83...</td>\n",
              "      <td>54</td>\n",
              "      <td>85</td>\n",
              "    </tr>\n",
              "    <tr>\n",
              "      <th>1844</th>\n",
              "      <td>0 05BTC gt 20BTC We need Just a Week Join BTC ...</td>\n",
              "      <td>Negative</td>\n",
              "      <td>0 05btc gt 20btc we need just a week join btc ...</td>\n",
              "      <td>47</td>\n",
              "      <td>85</td>\n",
              "    </tr>\n",
              "    <tr>\n",
              "      <th>805</th>\n",
              "      <td>Current Crypto Prices BTC 7969 38 USD ETH 253 ...</td>\n",
              "      <td>Negative</td>\n",
              "      <td>current crypto prices btc 7969 38 usd eth 253 ...</td>\n",
              "      <td>51</td>\n",
              "      <td>85</td>\n",
              "    </tr>\n",
              "    <tr>\n",
              "      <th>1753</th>\n",
              "      <td>Current Crypto Prices BTC 7942 34 USD ETH 252 ...</td>\n",
              "      <td>Negative</td>\n",
              "      <td>current crypto prices btc 7942 34 usd eth 252 ...</td>\n",
              "      <td>51</td>\n",
              "      <td>85</td>\n",
              "    </tr>\n",
              "    <tr>\n",
              "      <th>11628</th>\n",
              "      <td>Current Crypto Prices BTC 7995 73 USD ETH 254 ...</td>\n",
              "      <td>Negative</td>\n",
              "      <td>current crypto prices btc 7995 73 usd eth 254 ...</td>\n",
              "      <td>51</td>\n",
              "      <td>85</td>\n",
              "    </tr>\n",
              "    <tr>\n",
              "      <th>18649</th>\n",
              "      <td>CriptoDolar Bitcoin 21May 10 05 26 AM BTC 7 89...</td>\n",
              "      <td>Negative</td>\n",
              "      <td>criptodolar bitcoin 21may 10 05 26 am btc 7 89...</td>\n",
              "      <td>55</td>\n",
              "      <td>83</td>\n",
              "    </tr>\n",
              "    <tr>\n",
              "      <th>22038</th>\n",
              "      <td>Wish Token Selfdrop Send 0 015 ETH 150 000 WIS...</td>\n",
              "      <td>Negative</td>\n",
              "      <td>wish token selfdrop send 0 015 eth 150 000 wis...</td>\n",
              "      <td>35</td>\n",
              "      <td>83</td>\n",
              "    </tr>\n",
              "    <tr>\n",
              "      <th>24768</th>\n",
              "      <td>USDCAD Buy 1 34300 Take Profit 1 34700 Stop Lo...</td>\n",
              "      <td>Negative</td>\n",
              "      <td>usdcad buy 1 34300 take profit 1 34700 stop lo...</td>\n",
              "      <td>36</td>\n",
              "      <td>83</td>\n",
              "    </tr>\n",
              "    <tr>\n",
              "      <th>21375</th>\n",
              "      <td>WISH SMART CONTRACT amp DISTRIBUTION IN 24 HRS...</td>\n",
              "      <td>Negative</td>\n",
              "      <td>wish smart contract amp distribution in 24 hrs...</td>\n",
              "      <td>39</td>\n",
              "      <td>82</td>\n",
              "    </tr>\n",
              "    <tr>\n",
              "      <th>8663</th>\n",
              "      <td>Bitcoin 1DKx1GjwE1Nm5QNrMSPX1DhhYwMwpPmsCa Eth...</td>\n",
              "      <td>Negative</td>\n",
              "      <td>bitcoin 1dkx1gjwe1nm5qnrmspx1dhhywmwppmsca eth...</td>\n",
              "      <td>6</td>\n",
              "      <td>81</td>\n",
              "    </tr>\n",
              "    <tr>\n",
              "      <th>15793</th>\n",
              "      <td>Binance is the number 1 crypto exchange in the...</td>\n",
              "      <td>Negative</td>\n",
              "      <td>binance is the number 1 crypto exchange in the...</td>\n",
              "      <td>45</td>\n",
              "      <td>81</td>\n",
              "    </tr>\n",
              "    <tr>\n",
              "      <th>21138</th>\n",
              "      <td>Who Can Make 1687 Profit We Are Join BTC ETH N...</td>\n",
              "      <td>Negative</td>\n",
              "      <td>who can make 1687 profit we are join btc eth n...</td>\n",
              "      <td>44</td>\n",
              "      <td>80</td>\n",
              "    </tr>\n",
              "  </tbody>\n",
              "</table>\n",
              "</div>\n",
              "      <button class=\"colab-df-convert\" onclick=\"convertToInteractive('df-96a4e20c-d8a8-4683-a579-1ce52a27ec79')\"\n",
              "              title=\"Convert this dataframe to an interactive table.\"\n",
              "              style=\"display:none;\">\n",
              "        \n",
              "  <svg xmlns=\"http://www.w3.org/2000/svg\" height=\"24px\"viewBox=\"0 0 24 24\"\n",
              "       width=\"24px\">\n",
              "    <path d=\"M0 0h24v24H0V0z\" fill=\"none\"/>\n",
              "    <path d=\"M18.56 5.44l.94 2.06.94-2.06 2.06-.94-2.06-.94-.94-2.06-.94 2.06-2.06.94zm-11 1L8.5 8.5l.94-2.06 2.06-.94-2.06-.94L8.5 2.5l-.94 2.06-2.06.94zm10 10l.94 2.06.94-2.06 2.06-.94-2.06-.94-.94-2.06-.94 2.06-2.06.94z\"/><path d=\"M17.41 7.96l-1.37-1.37c-.4-.4-.92-.59-1.43-.59-.52 0-1.04.2-1.43.59L10.3 9.45l-7.72 7.72c-.78.78-.78 2.05 0 2.83L4 21.41c.39.39.9.59 1.41.59.51 0 1.02-.2 1.41-.59l7.78-7.78 2.81-2.81c.8-.78.8-2.07 0-2.86zM5.41 20L4 18.59l7.72-7.72 1.47 1.35L5.41 20z\"/>\n",
              "  </svg>\n",
              "      </button>\n",
              "      \n",
              "  <style>\n",
              "    .colab-df-container {\n",
              "      display:flex;\n",
              "      flex-wrap:wrap;\n",
              "      gap: 12px;\n",
              "    }\n",
              "\n",
              "    .colab-df-convert {\n",
              "      background-color: #E8F0FE;\n",
              "      border: none;\n",
              "      border-radius: 50%;\n",
              "      cursor: pointer;\n",
              "      display: none;\n",
              "      fill: #1967D2;\n",
              "      height: 32px;\n",
              "      padding: 0 0 0 0;\n",
              "      width: 32px;\n",
              "    }\n",
              "\n",
              "    .colab-df-convert:hover {\n",
              "      background-color: #E2EBFA;\n",
              "      box-shadow: 0px 1px 2px rgba(60, 64, 67, 0.3), 0px 1px 3px 1px rgba(60, 64, 67, 0.15);\n",
              "      fill: #174EA6;\n",
              "    }\n",
              "\n",
              "    [theme=dark] .colab-df-convert {\n",
              "      background-color: #3B4455;\n",
              "      fill: #D2E3FC;\n",
              "    }\n",
              "\n",
              "    [theme=dark] .colab-df-convert:hover {\n",
              "      background-color: #434B5C;\n",
              "      box-shadow: 0px 1px 3px 1px rgba(0, 0, 0, 0.15);\n",
              "      filter: drop-shadow(0px 1px 2px rgba(0, 0, 0, 0.3));\n",
              "      fill: #FFFFFF;\n",
              "    }\n",
              "  </style>\n",
              "\n",
              "      <script>\n",
              "        const buttonEl =\n",
              "          document.querySelector('#df-96a4e20c-d8a8-4683-a579-1ce52a27ec79 button.colab-df-convert');\n",
              "        buttonEl.style.display =\n",
              "          google.colab.kernel.accessAllowed ? 'block' : 'none';\n",
              "\n",
              "        async function convertToInteractive(key) {\n",
              "          const element = document.querySelector('#df-96a4e20c-d8a8-4683-a579-1ce52a27ec79');\n",
              "          const dataTable =\n",
              "            await google.colab.kernel.invokeFunction('convertToInteractive',\n",
              "                                                     [key], {});\n",
              "          if (!dataTable) return;\n",
              "\n",
              "          const docLinkHtml = 'Like what you see? Visit the ' +\n",
              "            '<a target=\"_blank\" href=https://colab.research.google.com/notebooks/data_table.ipynb>data table notebook</a>'\n",
              "            + ' to learn more about interactive tables.';\n",
              "          element.innerHTML = '';\n",
              "          dataTable['output_type'] = 'display_data';\n",
              "          await google.colab.output.renderOutput(dataTable, element);\n",
              "          const docLink = document.createElement('div');\n",
              "          docLink.innerHTML = docLinkHtml;\n",
              "          element.appendChild(docLink);\n",
              "        }\n",
              "      </script>\n",
              "    </div>\n",
              "  </div>\n",
              "  "
            ]
          },
          "metadata": {},
          "execution_count": 30
        }
      ]
    },
    {
      "cell_type": "code",
      "source": [
        "df = df.sample(frac=1).reset_index(drop=True)"
      ],
      "metadata": {
        "execution": {
          "iopub.status.busy": "2021-12-22T21:16:45.981284Z",
          "iopub.execute_input": "2021-12-22T21:16:45.98155Z",
          "iopub.status.idle": "2021-12-22T21:16:45.995008Z",
          "shell.execute_reply.started": "2021-12-22T21:16:45.981515Z",
          "shell.execute_reply": "2021-12-22T21:16:45.994358Z"
        },
        "trusted": true,
        "id": "YhaiDODsF_o4"
      },
      "execution_count": null,
      "outputs": []
    },
    {
      "cell_type": "markdown",
      "source": [
        "## Test data deeper cleaning"
      ],
      "metadata": {
        "id": "6BqlL4dVF_o4"
      }
    },
    {
      "cell_type": "markdown",
      "source": [
        "Same operations on test set"
      ],
      "metadata": {
        "id": "5vJ_rwhhF_o5"
      }
    },
    {
      "cell_type": "code",
      "source": [
        "token_lens_test = []\n",
        "\n",
        "for txt in df_test['text_clean'].values:\n",
        "    tokens = tokenizer.encode(txt, max_length=512, truncation=True)\n",
        "    token_lens_test.append(len(tokens))\n",
        "    \n",
        "max_len=np.max(token_lens_test)"
      ],
      "metadata": {
        "execution": {
          "iopub.status.busy": "2021-12-22T21:16:45.996245Z",
          "iopub.execute_input": "2021-12-22T21:16:45.996503Z",
          "iopub.status.idle": "2021-12-22T21:16:46.749676Z",
          "shell.execute_reply.started": "2021-12-22T21:16:45.996467Z",
          "shell.execute_reply": "2021-12-22T21:16:46.748944Z"
        },
        "trusted": true,
        "id": "1xZqhbMGF_o5"
      },
      "execution_count": null,
      "outputs": []
    },
    {
      "cell_type": "code",
      "source": [
        "print(f\"MAX TOKENIZED SENTENCE LENGTH: {max_len}\")"
      ],
      "metadata": {
        "execution": {
          "iopub.status.busy": "2021-12-22T21:16:46.75107Z",
          "iopub.execute_input": "2021-12-22T21:16:46.751349Z",
          "iopub.status.idle": "2021-12-22T21:16:46.756497Z",
          "shell.execute_reply.started": "2021-12-22T21:16:46.751312Z",
          "shell.execute_reply": "2021-12-22T21:16:46.755793Z"
        },
        "trusted": true,
        "colab": {
          "base_uri": "https://localhost:8080/"
        },
        "id": "rW8H2PxSF_o6",
        "outputId": "f0e91523-2112-46f6-a31b-d76b181ceb5a"
      },
      "execution_count": null,
      "outputs": [
        {
          "output_type": "stream",
          "name": "stdout",
          "text": [
            "MAX TOKENIZED SENTENCE LENGTH: 94\n"
          ]
        }
      ]
    },
    {
      "cell_type": "code",
      "source": [
        "token_lens_test = []\n",
        "\n",
        "for i,txt in enumerate(df_test['text_clean'].values):\n",
        "    tokens = tokenizer.encode(txt, max_length=512, truncation=True)\n",
        "    token_lens_test.append(len(tokens))\n",
        "    if len(tokens)>80:\n",
        "        print(f\"INDEX: {i}, TEXT: {txt}\")"
      ],
      "metadata": {
        "execution": {
          "iopub.status.busy": "2021-12-22T21:16:46.757831Z",
          "iopub.execute_input": "2021-12-22T21:16:46.758342Z",
          "iopub.status.idle": "2021-12-22T21:16:47.500654Z",
          "shell.execute_reply.started": "2021-12-22T21:16:46.758304Z",
          "shell.execute_reply": "2021-12-22T21:16:47.499983Z"
        },
        "trusted": true,
        "colab": {
          "base_uri": "https://localhost:8080/"
        },
        "id": "ROpAO5Q_F_o6",
        "outputId": "a3706cd6-d35d-4b52-e9e7-ed2ba6234faf"
      },
      "execution_count": null,
      "outputs": [
        {
          "output_type": "stream",
          "name": "stdout",
          "text": [
            "INDEX: 438, TEXT: criptodolar bitcoin 21may 08 05 07 pm btc 7 957 67 usd 0 13 eth 255 34 usd 0 34 dash 166 26 usd 0 22 pab btc 8 071 47 pab usd btc 8 146 87 usd eur btc 7 245 86 eur ves btc 46 935 757 bs vesusd 5 788 bs ven\n",
            "INDEX: 645, TEXT: check all here gt on kraken xmr to eur gt 79 3 volume gt 14777 on bitfinex ltc to usd gt 90 564 volume gt 368520 on incorex eth to rub gt 17056 21 volume gt 267 on c cex grc to btc gt 0 00000109 volume gt 320366\n",
            "INDEX: 795, TEXT: nby being manipulated but bulls still jumping bids shes gonna run aapl goog intc amzn msft cmcsa pfe mu nflx nok xom dis hsy nvda unp bac wmt chk aks vz ctl fcx amat tsla jpm wft pti bidu mrk bitcoin cldx kgkg sipc psgr blta decn cote andi\n",
            "INDEX: 1635, TEXT: wish smart contract amp distribution in 24 hrs send 0 005 eth 50 000 wish send to eth address 0x4c70f816764a238610af3de27157a87ebb428fc5 listing on mercatox amp coinexchange follow retweet comment eth address airdrop iost binance xrp xvg trx btc eth np\n"
          ]
        }
      ]
    },
    {
      "cell_type": "code",
      "source": [
        "df_test['token_lens'] = token_lens_test"
      ],
      "metadata": {
        "execution": {
          "iopub.status.busy": "2021-12-22T21:16:47.501809Z",
          "iopub.execute_input": "2021-12-22T21:16:47.50205Z",
          "iopub.status.idle": "2021-12-22T21:16:47.508688Z",
          "shell.execute_reply.started": "2021-12-22T21:16:47.502016Z",
          "shell.execute_reply": "2021-12-22T21:16:47.50766Z"
        },
        "trusted": true,
        "id": "KYj5gbqCF_o7"
      },
      "execution_count": null,
      "outputs": []
    },
    {
      "cell_type": "code",
      "source": [
        "df_test = df_test.sort_values(by='token_lens', ascending=False)\n",
        "df_test.head(10) "
      ],
      "metadata": {
        "execution": {
          "iopub.status.busy": "2021-12-22T21:16:47.509929Z",
          "iopub.execute_input": "2021-12-22T21:16:47.510349Z",
          "iopub.status.idle": "2021-12-22T21:16:47.527481Z",
          "shell.execute_reply.started": "2021-12-22T21:16:47.510311Z",
          "shell.execute_reply": "2021-12-22T21:16:47.526777Z"
        },
        "trusted": true,
        "colab": {
          "base_uri": "https://localhost:8080/",
          "height": 363
        },
        "id": "_gb76zXFF_o8",
        "outputId": "cd72f3f6-8bde-4471-8649-134977530163"
      },
      "execution_count": null,
      "outputs": [
        {
          "output_type": "execute_result",
          "data": {
            "text/plain": [
              "                                                    text Sentiment  \\\n",
              "6073   NBY being MANIPULATED but bulls still jumping ...  Negative   \n",
              "22278  CriptoDolar Bitcoin 21May 08 05 07 PM BTC 7 95...  Negative   \n",
              "10697  WISH SMART CONTRACT amp DISTRIBUTION IN 24 HRS...  Negative   \n",
              "13015  Check all here gt On Kraken XMR to EUR gt 79 3...  Negative   \n",
              "9252   Berita hari ini Pengkritik Bitcoin Nouriel Rou...  Negative   \n",
              "1450   crypto prices update 1h BTC 7384 74 0 19 ETH 2...  Negative   \n",
              "16722  HIJOS DE LA CHINGADA NOMAS VEN QUE BTC Y RXP S...  Negative   \n",
              "17548  BTC Bitcoin USD 7972 72 Bitcoin EUR 7143 72 Bi...  Negative   \n",
              "8196   1 ETH is worth 256 67 USD 0 03217 BTC 230 33 E...  Negative   \n",
              "18191  Make your money grow with CityOfInvestment We ...  Negative   \n",
              "\n",
              "                                              text_clean  text_len  token_lens  \n",
              "6073   nby being manipulated but bulls still jumping ...        49          94  \n",
              "22278  criptodolar bitcoin 21may 08 05 07 pm btc 7 95...        55          85  \n",
              "10697  wish smart contract amp distribution in 24 hrs...        39          81  \n",
              "13015  check all here gt on kraken xmr to eur gt 79 3...        49          81  \n",
              "9252   berita hari ini pengkritik bitcoin nouriel rou...        27          76  \n",
              "1450   crypto prices update 1h btc 7384 74 0 19 eth 2...        56          75  \n",
              "16722  hijos de la chingada nomas ven que btc y rxp s...        38          74  \n",
              "17548  btc bitcoin usd 7972 72 bitcoin eur 7143 72 bi...        30          72  \n",
              "8196   1 eth is worth 256 67 usd 0 03217 btc 230 33 e...        50          69  \n",
              "18191  make your money grow with cityofinvestment we ...        36          69  "
            ],
            "text/html": [
              "\n",
              "  <div id=\"df-edf2b5e0-0a7c-476a-b6d3-89a5e0938c8f\">\n",
              "    <div class=\"colab-df-container\">\n",
              "      <div>\n",
              "<style scoped>\n",
              "    .dataframe tbody tr th:only-of-type {\n",
              "        vertical-align: middle;\n",
              "    }\n",
              "\n",
              "    .dataframe tbody tr th {\n",
              "        vertical-align: top;\n",
              "    }\n",
              "\n",
              "    .dataframe thead th {\n",
              "        text-align: right;\n",
              "    }\n",
              "</style>\n",
              "<table border=\"1\" class=\"dataframe\">\n",
              "  <thead>\n",
              "    <tr style=\"text-align: right;\">\n",
              "      <th></th>\n",
              "      <th>text</th>\n",
              "      <th>Sentiment</th>\n",
              "      <th>text_clean</th>\n",
              "      <th>text_len</th>\n",
              "      <th>token_lens</th>\n",
              "    </tr>\n",
              "  </thead>\n",
              "  <tbody>\n",
              "    <tr>\n",
              "      <th>6073</th>\n",
              "      <td>NBY being MANIPULATED but bulls still jumping ...</td>\n",
              "      <td>Negative</td>\n",
              "      <td>nby being manipulated but bulls still jumping ...</td>\n",
              "      <td>49</td>\n",
              "      <td>94</td>\n",
              "    </tr>\n",
              "    <tr>\n",
              "      <th>22278</th>\n",
              "      <td>CriptoDolar Bitcoin 21May 08 05 07 PM BTC 7 95...</td>\n",
              "      <td>Negative</td>\n",
              "      <td>criptodolar bitcoin 21may 08 05 07 pm btc 7 95...</td>\n",
              "      <td>55</td>\n",
              "      <td>85</td>\n",
              "    </tr>\n",
              "    <tr>\n",
              "      <th>10697</th>\n",
              "      <td>WISH SMART CONTRACT amp DISTRIBUTION IN 24 HRS...</td>\n",
              "      <td>Negative</td>\n",
              "      <td>wish smart contract amp distribution in 24 hrs...</td>\n",
              "      <td>39</td>\n",
              "      <td>81</td>\n",
              "    </tr>\n",
              "    <tr>\n",
              "      <th>13015</th>\n",
              "      <td>Check all here gt On Kraken XMR to EUR gt 79 3...</td>\n",
              "      <td>Negative</td>\n",
              "      <td>check all here gt on kraken xmr to eur gt 79 3...</td>\n",
              "      <td>49</td>\n",
              "      <td>81</td>\n",
              "    </tr>\n",
              "    <tr>\n",
              "      <th>9252</th>\n",
              "      <td>Berita hari ini Pengkritik Bitcoin Nouriel Rou...</td>\n",
              "      <td>Negative</td>\n",
              "      <td>berita hari ini pengkritik bitcoin nouriel rou...</td>\n",
              "      <td>27</td>\n",
              "      <td>76</td>\n",
              "    </tr>\n",
              "    <tr>\n",
              "      <th>1450</th>\n",
              "      <td>crypto prices update 1h BTC 7384 74 0 19 ETH 2...</td>\n",
              "      <td>Negative</td>\n",
              "      <td>crypto prices update 1h btc 7384 74 0 19 eth 2...</td>\n",
              "      <td>56</td>\n",
              "      <td>75</td>\n",
              "    </tr>\n",
              "    <tr>\n",
              "      <th>16722</th>\n",
              "      <td>HIJOS DE LA CHINGADA NOMAS VEN QUE BTC Y RXP S...</td>\n",
              "      <td>Negative</td>\n",
              "      <td>hijos de la chingada nomas ven que btc y rxp s...</td>\n",
              "      <td>38</td>\n",
              "      <td>74</td>\n",
              "    </tr>\n",
              "    <tr>\n",
              "      <th>17548</th>\n",
              "      <td>BTC Bitcoin USD 7972 72 Bitcoin EUR 7143 72 Bi...</td>\n",
              "      <td>Negative</td>\n",
              "      <td>btc bitcoin usd 7972 72 bitcoin eur 7143 72 bi...</td>\n",
              "      <td>30</td>\n",
              "      <td>72</td>\n",
              "    </tr>\n",
              "    <tr>\n",
              "      <th>8196</th>\n",
              "      <td>1 ETH is worth 256 67 USD 0 03217 BTC 230 33 E...</td>\n",
              "      <td>Negative</td>\n",
              "      <td>1 eth is worth 256 67 usd 0 03217 btc 230 33 e...</td>\n",
              "      <td>50</td>\n",
              "      <td>69</td>\n",
              "    </tr>\n",
              "    <tr>\n",
              "      <th>18191</th>\n",
              "      <td>Make your money grow with CityOfInvestment We ...</td>\n",
              "      <td>Negative</td>\n",
              "      <td>make your money grow with cityofinvestment we ...</td>\n",
              "      <td>36</td>\n",
              "      <td>69</td>\n",
              "    </tr>\n",
              "  </tbody>\n",
              "</table>\n",
              "</div>\n",
              "      <button class=\"colab-df-convert\" onclick=\"convertToInteractive('df-edf2b5e0-0a7c-476a-b6d3-89a5e0938c8f')\"\n",
              "              title=\"Convert this dataframe to an interactive table.\"\n",
              "              style=\"display:none;\">\n",
              "        \n",
              "  <svg xmlns=\"http://www.w3.org/2000/svg\" height=\"24px\"viewBox=\"0 0 24 24\"\n",
              "       width=\"24px\">\n",
              "    <path d=\"M0 0h24v24H0V0z\" fill=\"none\"/>\n",
              "    <path d=\"M18.56 5.44l.94 2.06.94-2.06 2.06-.94-2.06-.94-.94-2.06-.94 2.06-2.06.94zm-11 1L8.5 8.5l.94-2.06 2.06-.94-2.06-.94L8.5 2.5l-.94 2.06-2.06.94zm10 10l.94 2.06.94-2.06 2.06-.94-2.06-.94-.94-2.06-.94 2.06-2.06.94z\"/><path d=\"M17.41 7.96l-1.37-1.37c-.4-.4-.92-.59-1.43-.59-.52 0-1.04.2-1.43.59L10.3 9.45l-7.72 7.72c-.78.78-.78 2.05 0 2.83L4 21.41c.39.39.9.59 1.41.59.51 0 1.02-.2 1.41-.59l7.78-7.78 2.81-2.81c.8-.78.8-2.07 0-2.86zM5.41 20L4 18.59l7.72-7.72 1.47 1.35L5.41 20z\"/>\n",
              "  </svg>\n",
              "      </button>\n",
              "      \n",
              "  <style>\n",
              "    .colab-df-container {\n",
              "      display:flex;\n",
              "      flex-wrap:wrap;\n",
              "      gap: 12px;\n",
              "    }\n",
              "\n",
              "    .colab-df-convert {\n",
              "      background-color: #E8F0FE;\n",
              "      border: none;\n",
              "      border-radius: 50%;\n",
              "      cursor: pointer;\n",
              "      display: none;\n",
              "      fill: #1967D2;\n",
              "      height: 32px;\n",
              "      padding: 0 0 0 0;\n",
              "      width: 32px;\n",
              "    }\n",
              "\n",
              "    .colab-df-convert:hover {\n",
              "      background-color: #E2EBFA;\n",
              "      box-shadow: 0px 1px 2px rgba(60, 64, 67, 0.3), 0px 1px 3px 1px rgba(60, 64, 67, 0.15);\n",
              "      fill: #174EA6;\n",
              "    }\n",
              "\n",
              "    [theme=dark] .colab-df-convert {\n",
              "      background-color: #3B4455;\n",
              "      fill: #D2E3FC;\n",
              "    }\n",
              "\n",
              "    [theme=dark] .colab-df-convert:hover {\n",
              "      background-color: #434B5C;\n",
              "      box-shadow: 0px 1px 3px 1px rgba(0, 0, 0, 0.15);\n",
              "      filter: drop-shadow(0px 1px 2px rgba(0, 0, 0, 0.3));\n",
              "      fill: #FFFFFF;\n",
              "    }\n",
              "  </style>\n",
              "\n",
              "      <script>\n",
              "        const buttonEl =\n",
              "          document.querySelector('#df-edf2b5e0-0a7c-476a-b6d3-89a5e0938c8f button.colab-df-convert');\n",
              "        buttonEl.style.display =\n",
              "          google.colab.kernel.accessAllowed ? 'block' : 'none';\n",
              "\n",
              "        async function convertToInteractive(key) {\n",
              "          const element = document.querySelector('#df-edf2b5e0-0a7c-476a-b6d3-89a5e0938c8f');\n",
              "          const dataTable =\n",
              "            await google.colab.kernel.invokeFunction('convertToInteractive',\n",
              "                                                     [key], {});\n",
              "          if (!dataTable) return;\n",
              "\n",
              "          const docLinkHtml = 'Like what you see? Visit the ' +\n",
              "            '<a target=\"_blank\" href=https://colab.research.google.com/notebooks/data_table.ipynb>data table notebook</a>'\n",
              "            + ' to learn more about interactive tables.';\n",
              "          element.innerHTML = '';\n",
              "          dataTable['output_type'] = 'display_data';\n",
              "          await google.colab.output.renderOutput(dataTable, element);\n",
              "          const docLink = document.createElement('div');\n",
              "          docLink.innerHTML = docLinkHtml;\n",
              "          element.appendChild(docLink);\n",
              "        }\n",
              "      </script>\n",
              "    </div>\n",
              "  </div>\n",
              "  "
            ]
          },
          "metadata": {},
          "execution_count": 36
        }
      ]
    },
    {
      "cell_type": "code",
      "source": [
        "df_test = df_test.sample(frac=1).reset_index(drop=True)"
      ],
      "metadata": {
        "execution": {
          "iopub.status.busy": "2021-12-22T21:16:47.541138Z",
          "iopub.execute_input": "2021-12-22T21:16:47.541731Z",
          "iopub.status.idle": "2021-12-22T21:16:47.548553Z",
          "shell.execute_reply.started": "2021-12-22T21:16:47.541662Z",
          "shell.execute_reply": "2021-12-22T21:16:47.547872Z"
        },
        "trusted": true,
        "id": "-ZfN22nFF_o9"
      },
      "execution_count": null,
      "outputs": []
    },
    {
      "cell_type": "markdown",
      "source": [
        "# Sentiment column analysis"
      ],
      "metadata": {
        "id": "etTw_cEjF_o-"
      }
    },
    {
      "cell_type": "code",
      "source": [
        "df['Sentiment'].value_counts()"
      ],
      "metadata": {
        "execution": {
          "iopub.status.busy": "2021-12-22T21:16:47.549868Z",
          "iopub.execute_input": "2021-12-22T21:16:47.550374Z",
          "iopub.status.idle": "2021-12-22T21:16:47.564332Z",
          "shell.execute_reply.started": "2021-12-22T21:16:47.550336Z",
          "shell.execute_reply": "2021-12-22T21:16:47.56366Z"
        },
        "trusted": true,
        "colab": {
          "base_uri": "https://localhost:8080/"
        },
        "id": "nUf-3jewF_o-",
        "outputId": "98a105fe-1b40-408a-fc88-549fe6d28bec"
      },
      "execution_count": null,
      "outputs": [
        {
          "output_type": "execute_result",
          "data": {
            "text/plain": [
              "Neutral     8531\n",
              "Positive    6736\n",
              "Negative    6518\n",
              "Name: Sentiment, dtype: int64"
            ]
          },
          "metadata": {},
          "execution_count": 38
        }
      ]
    },
    {
      "cell_type": "markdown",
      "source": [
        "Labeling the sentiments"
      ],
      "metadata": {
        "execution": {
          "iopub.status.busy": "2021-12-05T11:35:57.747932Z",
          "iopub.execute_input": "2021-12-05T11:35:57.748569Z",
          "iopub.status.idle": "2021-12-05T11:35:57.753489Z",
          "shell.execute_reply.started": "2021-12-05T11:35:57.748528Z",
          "shell.execute_reply": "2021-12-05T11:35:57.752685Z"
        },
        "id": "YSwEX4UyF_o_"
      }
    },
    {
      "cell_type": "code",
      "source": [
        "df['Sentiment'] = df['Sentiment'].map({'Negative':0,'Neutral':1,'Positive':2})"
      ],
      "metadata": {
        "execution": {
          "iopub.status.busy": "2021-12-22T21:16:47.565714Z",
          "iopub.execute_input": "2021-12-22T21:16:47.566009Z",
          "iopub.status.idle": "2021-12-22T21:16:47.580459Z",
          "shell.execute_reply.started": "2021-12-22T21:16:47.565975Z",
          "shell.execute_reply": "2021-12-22T21:16:47.579684Z"
        },
        "trusted": true,
        "id": "xBDgtIjSF_o_"
      },
      "execution_count": null,
      "outputs": []
    },
    {
      "cell_type": "code",
      "source": [
        "df_test['Sentiment'] = df_test['Sentiment'].map({'Negative':0,'Neutral':1,'Positive':2})"
      ],
      "metadata": {
        "execution": {
          "iopub.status.busy": "2021-12-22T21:16:47.581764Z",
          "iopub.execute_input": "2021-12-22T21:16:47.582551Z",
          "iopub.status.idle": "2021-12-22T21:16:47.589144Z",
          "shell.execute_reply.started": "2021-12-22T21:16:47.582474Z",
          "shell.execute_reply": "2021-12-22T21:16:47.588501Z"
        },
        "trusted": true,
        "id": "GQxljA1cF_o_"
      },
      "execution_count": null,
      "outputs": []
    },
    {
      "cell_type": "code",
      "source": [
        "df['Sentiment'].value_counts()"
      ],
      "metadata": {
        "execution": {
          "iopub.status.busy": "2021-12-22T21:16:47.591248Z",
          "iopub.execute_input": "2021-12-22T21:16:47.592996Z",
          "iopub.status.idle": "2021-12-22T21:16:47.599802Z",
          "shell.execute_reply.started": "2021-12-22T21:16:47.592966Z",
          "shell.execute_reply": "2021-12-22T21:16:47.59916Z"
        },
        "trusted": true,
        "colab": {
          "base_uri": "https://localhost:8080/"
        },
        "id": "049-ULGQF_pA",
        "outputId": "1ad210ae-534d-4055-9d73-221b4ac293c7"
      },
      "execution_count": null,
      "outputs": [
        {
          "output_type": "execute_result",
          "data": {
            "text/plain": [
              "1    8531\n",
              "2    6736\n",
              "0    6518\n",
              "Name: Sentiment, dtype: int64"
            ]
          },
          "metadata": {},
          "execution_count": 41
        }
      ]
    },
    {
      "cell_type": "code",
      "source": [
        "df"
      ],
      "metadata": {
        "colab": {
          "base_uri": "https://localhost:8080/",
          "height": 423
        },
        "id": "uvhCappAKDOI",
        "outputId": "0f522deb-f586-49a7-d1c3-e36ee8d8c0ca"
      },
      "execution_count": null,
      "outputs": [
        {
          "output_type": "execute_result",
          "data": {
            "text/plain": [
              "                                                    text  Sentiment  \\\n",
              "0      MinedBlock has brought to the blockchain a ver...          0   \n",
              "1      Roger McNamee Self Inflicted Wounds Are Killin...          1   \n",
              "2      It doesent require a new community since it al...          2   \n",
              "3      RT Bitcoin Price Falls As Markets React To Fal...          0   \n",
              "4      Use the code HF18BDAY30 at purchase to get a 3...          0   \n",
              "...                                                  ...        ...   \n",
              "21780  RT I liked a video Business Class Tickets With...          2   \n",
              "21781  Earn FREE Bitcoin BTCPeek HaveBitcoin BitcoinL...          2   \n",
              "21782  The current value of BTC at 21 24 09 on 21 05 ...          0   \n",
              "21783  Mining 101 How To Use NiceHash To Earn Bitcoin...          2   \n",
              "21784        Bitcoin Grows but Energy Decreases Security          1   \n",
              "\n",
              "                                              text_clean  text_len  token_lens  \n",
              "0      minedblock has brought to the blockchain a ver...        25          29  \n",
              "1      roger mcnamee self inflicted wounds are killin...        12          19  \n",
              "2      it doesent require a new community since it al...        20          23  \n",
              "3      rt bitcoin price falls as markets react to fal...        12          17  \n",
              "4      use the code hf18bday30 at purchase to get a 3...        20          27  \n",
              "...                                                  ...       ...         ...  \n",
              "21780  rt i liked a video business class tickets with...        10          12  \n",
              "21781  earn free bitcoin btcpeek havebitcoin bitcoinl...         8          20  \n",
              "21782  the current value of btc at 21 24 09 on 21 05 ...        21          27  \n",
              "21783  mining 101 how to use nicehash to earn bitcoin...        21          24  \n",
              "21784        bitcoin grows but energy decreases security         6           8  \n",
              "\n",
              "[21785 rows x 5 columns]"
            ],
            "text/html": [
              "\n",
              "  <div id=\"df-bf5b9b84-d447-498b-9340-d86804f98582\">\n",
              "    <div class=\"colab-df-container\">\n",
              "      <div>\n",
              "<style scoped>\n",
              "    .dataframe tbody tr th:only-of-type {\n",
              "        vertical-align: middle;\n",
              "    }\n",
              "\n",
              "    .dataframe tbody tr th {\n",
              "        vertical-align: top;\n",
              "    }\n",
              "\n",
              "    .dataframe thead th {\n",
              "        text-align: right;\n",
              "    }\n",
              "</style>\n",
              "<table border=\"1\" class=\"dataframe\">\n",
              "  <thead>\n",
              "    <tr style=\"text-align: right;\">\n",
              "      <th></th>\n",
              "      <th>text</th>\n",
              "      <th>Sentiment</th>\n",
              "      <th>text_clean</th>\n",
              "      <th>text_len</th>\n",
              "      <th>token_lens</th>\n",
              "    </tr>\n",
              "  </thead>\n",
              "  <tbody>\n",
              "    <tr>\n",
              "      <th>0</th>\n",
              "      <td>MinedBlock has brought to the blockchain a ver...</td>\n",
              "      <td>0</td>\n",
              "      <td>minedblock has brought to the blockchain a ver...</td>\n",
              "      <td>25</td>\n",
              "      <td>29</td>\n",
              "    </tr>\n",
              "    <tr>\n",
              "      <th>1</th>\n",
              "      <td>Roger McNamee Self Inflicted Wounds Are Killin...</td>\n",
              "      <td>1</td>\n",
              "      <td>roger mcnamee self inflicted wounds are killin...</td>\n",
              "      <td>12</td>\n",
              "      <td>19</td>\n",
              "    </tr>\n",
              "    <tr>\n",
              "      <th>2</th>\n",
              "      <td>It doesent require a new community since it al...</td>\n",
              "      <td>2</td>\n",
              "      <td>it doesent require a new community since it al...</td>\n",
              "      <td>20</td>\n",
              "      <td>23</td>\n",
              "    </tr>\n",
              "    <tr>\n",
              "      <th>3</th>\n",
              "      <td>RT Bitcoin Price Falls As Markets React To Fal...</td>\n",
              "      <td>0</td>\n",
              "      <td>rt bitcoin price falls as markets react to fal...</td>\n",
              "      <td>12</td>\n",
              "      <td>17</td>\n",
              "    </tr>\n",
              "    <tr>\n",
              "      <th>4</th>\n",
              "      <td>Use the code HF18BDAY30 at purchase to get a 3...</td>\n",
              "      <td>0</td>\n",
              "      <td>use the code hf18bday30 at purchase to get a 3...</td>\n",
              "      <td>20</td>\n",
              "      <td>27</td>\n",
              "    </tr>\n",
              "    <tr>\n",
              "      <th>...</th>\n",
              "      <td>...</td>\n",
              "      <td>...</td>\n",
              "      <td>...</td>\n",
              "      <td>...</td>\n",
              "      <td>...</td>\n",
              "    </tr>\n",
              "    <tr>\n",
              "      <th>21780</th>\n",
              "      <td>RT I liked a video Business Class Tickets With...</td>\n",
              "      <td>2</td>\n",
              "      <td>rt i liked a video business class tickets with...</td>\n",
              "      <td>10</td>\n",
              "      <td>12</td>\n",
              "    </tr>\n",
              "    <tr>\n",
              "      <th>21781</th>\n",
              "      <td>Earn FREE Bitcoin BTCPeek HaveBitcoin BitcoinL...</td>\n",
              "      <td>2</td>\n",
              "      <td>earn free bitcoin btcpeek havebitcoin bitcoinl...</td>\n",
              "      <td>8</td>\n",
              "      <td>20</td>\n",
              "    </tr>\n",
              "    <tr>\n",
              "      <th>21782</th>\n",
              "      <td>The current value of BTC at 21 24 09 on 21 05 ...</td>\n",
              "      <td>0</td>\n",
              "      <td>the current value of btc at 21 24 09 on 21 05 ...</td>\n",
              "      <td>21</td>\n",
              "      <td>27</td>\n",
              "    </tr>\n",
              "    <tr>\n",
              "      <th>21783</th>\n",
              "      <td>Mining 101 How To Use NiceHash To Earn Bitcoin...</td>\n",
              "      <td>2</td>\n",
              "      <td>mining 101 how to use nicehash to earn bitcoin...</td>\n",
              "      <td>21</td>\n",
              "      <td>24</td>\n",
              "    </tr>\n",
              "    <tr>\n",
              "      <th>21784</th>\n",
              "      <td>Bitcoin Grows but Energy Decreases Security</td>\n",
              "      <td>1</td>\n",
              "      <td>bitcoin grows but energy decreases security</td>\n",
              "      <td>6</td>\n",
              "      <td>8</td>\n",
              "    </tr>\n",
              "  </tbody>\n",
              "</table>\n",
              "<p>21785 rows × 5 columns</p>\n",
              "</div>\n",
              "      <button class=\"colab-df-convert\" onclick=\"convertToInteractive('df-bf5b9b84-d447-498b-9340-d86804f98582')\"\n",
              "              title=\"Convert this dataframe to an interactive table.\"\n",
              "              style=\"display:none;\">\n",
              "        \n",
              "  <svg xmlns=\"http://www.w3.org/2000/svg\" height=\"24px\"viewBox=\"0 0 24 24\"\n",
              "       width=\"24px\">\n",
              "    <path d=\"M0 0h24v24H0V0z\" fill=\"none\"/>\n",
              "    <path d=\"M18.56 5.44l.94 2.06.94-2.06 2.06-.94-2.06-.94-.94-2.06-.94 2.06-2.06.94zm-11 1L8.5 8.5l.94-2.06 2.06-.94-2.06-.94L8.5 2.5l-.94 2.06-2.06.94zm10 10l.94 2.06.94-2.06 2.06-.94-2.06-.94-.94-2.06-.94 2.06-2.06.94z\"/><path d=\"M17.41 7.96l-1.37-1.37c-.4-.4-.92-.59-1.43-.59-.52 0-1.04.2-1.43.59L10.3 9.45l-7.72 7.72c-.78.78-.78 2.05 0 2.83L4 21.41c.39.39.9.59 1.41.59.51 0 1.02-.2 1.41-.59l7.78-7.78 2.81-2.81c.8-.78.8-2.07 0-2.86zM5.41 20L4 18.59l7.72-7.72 1.47 1.35L5.41 20z\"/>\n",
              "  </svg>\n",
              "      </button>\n",
              "      \n",
              "  <style>\n",
              "    .colab-df-container {\n",
              "      display:flex;\n",
              "      flex-wrap:wrap;\n",
              "      gap: 12px;\n",
              "    }\n",
              "\n",
              "    .colab-df-convert {\n",
              "      background-color: #E8F0FE;\n",
              "      border: none;\n",
              "      border-radius: 50%;\n",
              "      cursor: pointer;\n",
              "      display: none;\n",
              "      fill: #1967D2;\n",
              "      height: 32px;\n",
              "      padding: 0 0 0 0;\n",
              "      width: 32px;\n",
              "    }\n",
              "\n",
              "    .colab-df-convert:hover {\n",
              "      background-color: #E2EBFA;\n",
              "      box-shadow: 0px 1px 2px rgba(60, 64, 67, 0.3), 0px 1px 3px 1px rgba(60, 64, 67, 0.15);\n",
              "      fill: #174EA6;\n",
              "    }\n",
              "\n",
              "    [theme=dark] .colab-df-convert {\n",
              "      background-color: #3B4455;\n",
              "      fill: #D2E3FC;\n",
              "    }\n",
              "\n",
              "    [theme=dark] .colab-df-convert:hover {\n",
              "      background-color: #434B5C;\n",
              "      box-shadow: 0px 1px 3px 1px rgba(0, 0, 0, 0.15);\n",
              "      filter: drop-shadow(0px 1px 2px rgba(0, 0, 0, 0.3));\n",
              "      fill: #FFFFFF;\n",
              "    }\n",
              "  </style>\n",
              "\n",
              "      <script>\n",
              "        const buttonEl =\n",
              "          document.querySelector('#df-bf5b9b84-d447-498b-9340-d86804f98582 button.colab-df-convert');\n",
              "        buttonEl.style.display =\n",
              "          google.colab.kernel.accessAllowed ? 'block' : 'none';\n",
              "\n",
              "        async function convertToInteractive(key) {\n",
              "          const element = document.querySelector('#df-bf5b9b84-d447-498b-9340-d86804f98582');\n",
              "          const dataTable =\n",
              "            await google.colab.kernel.invokeFunction('convertToInteractive',\n",
              "                                                     [key], {});\n",
              "          if (!dataTable) return;\n",
              "\n",
              "          const docLinkHtml = 'Like what you see? Visit the ' +\n",
              "            '<a target=\"_blank\" href=https://colab.research.google.com/notebooks/data_table.ipynb>data table notebook</a>'\n",
              "            + ' to learn more about interactive tables.';\n",
              "          element.innerHTML = '';\n",
              "          dataTable['output_type'] = 'display_data';\n",
              "          await google.colab.output.renderOutput(dataTable, element);\n",
              "          const docLink = document.createElement('div');\n",
              "          docLink.innerHTML = docLinkHtml;\n",
              "          element.appendChild(docLink);\n",
              "        }\n",
              "      </script>\n",
              "    </div>\n",
              "  </div>\n",
              "  "
            ]
          },
          "metadata": {},
          "execution_count": 42
        }
      ]
    },
    {
      "cell_type": "markdown",
      "source": [
        "To get rid of class imbalance problem, random oversampling is done."
      ],
      "metadata": {
        "id": "QO7pA3UyF_pA"
      }
    },
    {
      "cell_type": "markdown",
      "source": [
        "## Class Balancing by RandomOverSampler"
      ],
      "metadata": {
        "id": "2vZ_f5A6F_pA"
      }
    },
    {
      "cell_type": "code",
      "source": [
        "ros = RandomOverSampler()\n",
        "train_x, train_y = ros.fit_resample(np.array(df['text_clean']).reshape(-1, 1), np.array(df['Sentiment']).reshape(-1, 1));\n",
        "train_os = pd.DataFrame(list(zip([x[0] for x in train_x], train_y)), columns = ['text_clean', 'Sentiment']);"
      ],
      "metadata": {
        "execution": {
          "iopub.status.busy": "2021-12-22T21:16:47.601159Z",
          "iopub.execute_input": "2021-12-22T21:16:47.601752Z",
          "iopub.status.idle": "2021-12-22T21:16:47.697589Z",
          "shell.execute_reply.started": "2021-12-22T21:16:47.601678Z",
          "shell.execute_reply": "2021-12-22T21:16:47.696904Z"
        },
        "trusted": true,
        "id": "TVlknLTUF_pB"
      },
      "execution_count": null,
      "outputs": []
    },
    {
      "cell_type": "code",
      "source": [
        "train_os['Sentiment'].value_counts()"
      ],
      "metadata": {
        "execution": {
          "iopub.status.busy": "2021-12-22T21:16:47.698691Z",
          "iopub.execute_input": "2021-12-22T21:16:47.698926Z",
          "iopub.status.idle": "2021-12-22T21:16:47.705998Z",
          "shell.execute_reply.started": "2021-12-22T21:16:47.698894Z",
          "shell.execute_reply": "2021-12-22T21:16:47.70527Z"
        },
        "trusted": true,
        "colab": {
          "base_uri": "https://localhost:8080/"
        },
        "id": "s0Gd-vaLF_pB",
        "outputId": "8725c81e-f4da-41db-96cd-7120c146e9a0"
      },
      "execution_count": null,
      "outputs": [
        {
          "output_type": "execute_result",
          "data": {
            "text/plain": [
              "0    8531\n",
              "1    8531\n",
              "2    8531\n",
              "Name: Sentiment, dtype: int64"
            ]
          },
          "metadata": {},
          "execution_count": 44
        }
      ]
    },
    {
      "cell_type": "markdown",
      "source": [
        "## Train - Validation - Test split"
      ],
      "metadata": {
        "id": "nRUibL3cF_pB"
      }
    },
    {
      "cell_type": "code",
      "source": [
        "X = train_os['text_clean'].values\n",
        "y = train_os['Sentiment'].values"
      ],
      "metadata": {
        "execution": {
          "iopub.status.busy": "2021-12-22T21:16:47.713125Z",
          "iopub.execute_input": "2021-12-22T21:16:47.713316Z",
          "iopub.status.idle": "2021-12-22T21:16:47.717547Z",
          "shell.execute_reply.started": "2021-12-22T21:16:47.713294Z",
          "shell.execute_reply": "2021-12-22T21:16:47.716647Z"
        },
        "trusted": true,
        "id": "0reqsXC_F_pC"
      },
      "execution_count": null,
      "outputs": []
    },
    {
      "cell_type": "code",
      "source": [
        "X_train, X_valid, y_train, y_valid = train_test_split(X, y, test_size=0.1, stratify=y, random_state=seed)"
      ],
      "metadata": {
        "execution": {
          "iopub.status.busy": "2021-12-22T21:16:47.718981Z",
          "iopub.execute_input": "2021-12-22T21:16:47.719469Z",
          "iopub.status.idle": "2021-12-22T21:16:47.761536Z",
          "shell.execute_reply.started": "2021-12-22T21:16:47.719431Z",
          "shell.execute_reply": "2021-12-22T21:16:47.760925Z"
        },
        "trusted": true,
        "id": "2Co2omlvF_pC"
      },
      "execution_count": null,
      "outputs": []
    },
    {
      "cell_type": "code",
      "source": [
        "X_test = df_test['text_clean'].values\n",
        "y_test = df_test['Sentiment'].values"
      ],
      "metadata": {
        "execution": {
          "iopub.status.busy": "2021-12-22T21:16:47.762757Z",
          "iopub.execute_input": "2021-12-22T21:16:47.763Z",
          "iopub.status.idle": "2021-12-22T21:16:47.768878Z",
          "shell.execute_reply.started": "2021-12-22T21:16:47.762967Z",
          "shell.execute_reply": "2021-12-22T21:16:47.76812Z"
        },
        "trusted": true,
        "id": "cNawqQesF_pD"
      },
      "execution_count": null,
      "outputs": []
    },
    {
      "cell_type": "markdown",
      "source": [
        "## One hot encoding"
      ],
      "metadata": {
        "id": "dFl4NsaJF_pD"
      }
    },
    {
      "cell_type": "code",
      "source": [
        "y_train_le = y_train.copy()\n",
        "y_valid_le = y_valid.copy()\n",
        "y_test_le = y_test.copy()"
      ],
      "metadata": {
        "execution": {
          "iopub.status.busy": "2021-12-22T21:16:47.770333Z",
          "iopub.execute_input": "2021-12-22T21:16:47.770915Z",
          "iopub.status.idle": "2021-12-22T21:16:47.776791Z",
          "shell.execute_reply.started": "2021-12-22T21:16:47.770878Z",
          "shell.execute_reply": "2021-12-22T21:16:47.776179Z"
        },
        "trusted": true,
        "id": "s8lTZUpYF_pE"
      },
      "execution_count": null,
      "outputs": []
    },
    {
      "cell_type": "code",
      "source": [
        "ohe = preprocessing.OneHotEncoder()\n",
        "y_train = ohe.fit_transform(np.array(y_train).reshape(-1, 1)).toarray()\n",
        "y_valid = ohe.fit_transform(np.array(y_valid).reshape(-1, 1)).toarray()\n",
        "y_test = ohe.fit_transform(np.array(y_test).reshape(-1, 1)).toarray()"
      ],
      "metadata": {
        "execution": {
          "iopub.status.busy": "2021-12-22T21:16:47.778211Z",
          "iopub.execute_input": "2021-12-22T21:16:47.778775Z",
          "iopub.status.idle": "2021-12-22T21:16:47.791468Z",
          "shell.execute_reply.started": "2021-12-22T21:16:47.778739Z",
          "shell.execute_reply": "2021-12-22T21:16:47.790847Z"
        },
        "trusted": true,
        "id": "Njixm1UGF_pE"
      },
      "execution_count": null,
      "outputs": []
    },
    {
      "cell_type": "code",
      "source": [
        "print(f\"TRAINING DATA: {X_train.shape[0]}\\nVALIDATION DATA: {X_valid.shape[0]}\\nTESTING DATA: {X_test.shape[0]}\" )"
      ],
      "metadata": {
        "execution": {
          "iopub.status.busy": "2021-12-22T21:16:47.792606Z",
          "iopub.execute_input": "2021-12-22T21:16:47.792855Z",
          "iopub.status.idle": "2021-12-22T21:16:47.797366Z",
          "shell.execute_reply.started": "2021-12-22T21:16:47.792822Z",
          "shell.execute_reply": "2021-12-22T21:16:47.796422Z"
        },
        "trusted": true,
        "colab": {
          "base_uri": "https://localhost:8080/"
        },
        "id": "oUMuyPE7F_pF",
        "outputId": "a96da92e-7234-423d-8c9a-704e5002e919"
      },
      "execution_count": null,
      "outputs": [
        {
          "output_type": "stream",
          "name": "stdout",
          "text": [
            "TRAINING DATA: 23033\n",
            "VALIDATION DATA: 2560\n",
            "TESTING DATA: 2423\n"
          ]
        }
      ]
    },
    {
      "cell_type": "markdown",
      "source": [
        "# RoBERTa Sentiment Analysis"
      ],
      "metadata": {
        "id": "oeC9KSbBF_pa"
      }
    },
    {
      "cell_type": "markdown",
      "source": [
        "checking for the length of the longest tokenized sentence by roberta tokenizer:"
      ],
      "metadata": {
        "id": "sX1AixdpF_pb"
      }
    },
    {
      "cell_type": "code",
      "source": [
        "token_lens = []\n",
        "\n",
        "for txt in X_train:\n",
        "    tokens = tokenizer.encode(txt, max_length=512, truncation=True)\n",
        "    token_lens.append(len(tokens))\n",
        "max_length=np.max(token_lens)\n",
        "max_length"
      ],
      "metadata": {
        "execution": {
          "iopub.status.busy": "2021-12-22T22:08:50.651296Z",
          "iopub.execute_input": "2021-12-22T22:08:50.651554Z",
          "iopub.status.idle": "2021-12-22T22:09:00.109456Z",
          "shell.execute_reply.started": "2021-12-22T22:08:50.651524Z",
          "shell.execute_reply": "2021-12-22T22:09:00.108622Z"
        },
        "trusted": true,
        "colab": {
          "base_uri": "https://localhost:8080/"
        },
        "id": "MYzfdZHxF_pb",
        "outputId": "8e58dbb9-4be7-4415-df76-a068ee418144"
      },
      "execution_count": null,
      "outputs": [
        {
          "output_type": "execute_result",
          "data": {
            "text/plain": [
              "110"
            ]
          },
          "metadata": {},
          "execution_count": 51
        }
      ]
    },
    {
      "cell_type": "code",
      "source": [
        "MAX_LEN=128"
      ],
      "metadata": {
        "execution": {
          "iopub.status.busy": "2021-12-22T22:09:00.110918Z",
          "iopub.execute_input": "2021-12-22T22:09:00.111182Z",
          "iopub.status.idle": "2021-12-22T22:09:00.11522Z",
          "shell.execute_reply.started": "2021-12-22T22:09:00.111146Z",
          "shell.execute_reply": "2021-12-22T22:09:00.114446Z"
        },
        "trusted": true,
        "id": "YJ4yEmBsF_pb"
      },
      "execution_count": null,
      "outputs": []
    },
    {
      "cell_type": "markdown",
      "source": [
        "Then we can define the tokenization function"
      ],
      "metadata": {
        "id": "I61DfvJNF_pc"
      }
    },
    {
      "cell_type": "code",
      "source": [
        "def tokenize_roberta(data,max_len=MAX_LEN) :\n",
        "    input_ids = []\n",
        "    attention_masks = []\n",
        "    for i in range(len(data)):\n",
        "        encoded = tokenizer.encode_plus(\n",
        "            data[i],\n",
        "            add_special_tokens=True,\n",
        "            max_length=max_len,\n",
        "            padding='max_length',\n",
        "            return_attention_mask=True,\n",
        "        )\n",
        "        input_ids.append(encoded['input_ids'])\n",
        "        attention_masks.append(encoded['attention_mask'])\n",
        "    return np.array(input_ids),np.array(attention_masks)"
      ],
      "metadata": {
        "execution": {
          "iopub.status.busy": "2021-12-22T22:09:00.117509Z",
          "iopub.execute_input": "2021-12-22T22:09:00.11775Z",
          "iopub.status.idle": "2021-12-22T22:09:00.126043Z",
          "shell.execute_reply.started": "2021-12-22T22:09:00.117704Z",
          "shell.execute_reply": "2021-12-22T22:09:00.125367Z"
        },
        "trusted": true,
        "id": "6WTdg4XYF_pc"
      },
      "execution_count": null,
      "outputs": []
    },
    {
      "cell_type": "code",
      "source": [
        "train_input_ids, train_attention_masks = tokenize_roberta(X_train, MAX_LEN)\n",
        "val_input_ids, val_attention_masks = tokenize_roberta(X_valid, MAX_LEN)\n",
        "test_input_ids, test_attention_masks = tokenize_roberta(X_test, MAX_LEN)"
      ],
      "metadata": {
        "execution": {
          "iopub.status.busy": "2021-12-22T22:09:00.12842Z",
          "iopub.execute_input": "2021-12-22T22:09:00.128657Z",
          "iopub.status.idle": "2021-12-22T22:09:16.271659Z",
          "shell.execute_reply.started": "2021-12-22T22:09:00.128626Z",
          "shell.execute_reply": "2021-12-22T22:09:16.270814Z"
        },
        "trusted": true,
        "id": "-TfN0AQqF_pd"
      },
      "execution_count": null,
      "outputs": []
    },
    {
      "cell_type": "markdown",
      "source": [
        "# RoBERTa modeling"
      ],
      "metadata": {
        "id": "J4GI8NsZF_pe"
      }
    },
    {
      "cell_type": "code",
      "source": [
        "def create_model(roberta_model, max_len=MAX_LEN):\n",
        "    \n",
        "    opt = tf.keras.optimizers.Adam(learning_rate=1e-5)\n",
        "    loss = tf.keras.losses.CategoricalCrossentropy()\n",
        "    accuracy = tf.keras.metrics.CategoricalAccuracy()\n",
        "\n",
        "    input_ids = tf.keras.Input(shape=(max_len),dtype='int32')\n",
        "    attention_masks = tf.keras.Input(shape=(max_len),dtype='int32')\n",
        "    embedding = roberta_model([input_ids,attention_masks])[1]\n",
        "    #output = output[1]\n",
        "    output = tf.keras.layers.Dense(3, activation=\"softmax\")(embedding)\n",
        "\n",
        "    model = tf.keras.models.Model(inputs = [input_ids,attention_masks],outputs = output)\n",
        "    model.compile(opt, loss=loss, metrics=accuracy)\n",
        "    return model"
      ],
      "metadata": {
        "execution": {
          "iopub.status.busy": "2021-12-22T22:09:16.275223Z",
          "iopub.execute_input": "2021-12-22T22:09:16.27546Z",
          "iopub.status.idle": "2021-12-22T22:09:16.282419Z",
          "shell.execute_reply.started": "2021-12-22T22:09:16.275433Z",
          "shell.execute_reply": "2021-12-22T22:09:16.28167Z"
        },
        "trusted": true,
        "id": "lcwk41qjF_pe"
      },
      "execution_count": null,
      "outputs": []
    },
    {
      "cell_type": "code",
      "source": [
        "#bert_model = TFBertModel.from_pretrained('bert-base-uncased')\n",
        "roberta_model = TFAutoModel.from_pretrained('cardiffnlp/twitter-roberta-base-sentiment-latest')"
      ],
      "metadata": {
        "_kg_hide-output": true,
        "execution": {
          "iopub.status.busy": "2021-12-22T22:09:16.283698Z",
          "iopub.execute_input": "2021-12-22T22:09:16.284104Z",
          "iopub.status.idle": "2021-12-22T22:09:19.200534Z",
          "shell.execute_reply.started": "2021-12-22T22:09:16.284069Z",
          "shell.execute_reply": "2021-12-22T22:09:19.198861Z"
        },
        "trusted": true,
        "colab": {
          "base_uri": "https://localhost:8080/",
          "height": 122,
          "referenced_widgets": [
            "ecdf8abf6a49496793708af2c0cdf4bf",
            "cc8e26ae01494aaf9f5778b65f656f75",
            "9212ab08b15c42978712897689497c9b",
            "3be38bd8f27545d8a7d6ada74a47a656",
            "660a6d8f8bc5405eb5057e05e978caf6",
            "96ffa86cb19e4a4393bddba3c29206fb",
            "63f366078a6e4b509851e31c800b22d0",
            "d28f3a2f882040e189f04a59c1c59543",
            "31881b3c3ba84449a4666fad1f35dde8",
            "d85b9983f2fc4dd8ae78a55bb4de79a8",
            "6e8e543dff204a3199f66332aedb7d66"
          ]
        },
        "id": "3xdfVX5uF_pf",
        "outputId": "36772074-8875-4a38-a01d-19a0d3637082"
      },
      "execution_count": null,
      "outputs": [
        {
          "output_type": "display_data",
          "data": {
            "text/plain": [
              "Downloading (…)\"tf_model.h5\";:   0%|          | 0.00/499M [00:00<?, ?B/s]"
            ],
            "application/vnd.jupyter.widget-view+json": {
              "version_major": 2,
              "version_minor": 0,
              "model_id": "ecdf8abf6a49496793708af2c0cdf4bf"
            }
          },
          "metadata": {}
        },
        {
          "output_type": "stream",
          "name": "stderr",
          "text": [
            "All model checkpoint layers were used when initializing TFRobertaModel.\n",
            "\n",
            "All the layers of TFRobertaModel were initialized from the model checkpoint at cardiffnlp/twitter-roberta-base-sentiment-latest.\n",
            "If your task is similar to the task the model of the checkpoint was trained on, you can already use TFRobertaModel for predictions without further training.\n"
          ]
        }
      ]
    },
    {
      "cell_type": "code",
      "source": [
        "model = create_model(roberta_model, MAX_LEN)\n",
        "model.summary()"
      ],
      "metadata": {
        "execution": {
          "iopub.status.busy": "2021-12-22T22:09:19.203061Z",
          "iopub.execute_input": "2021-12-22T22:09:19.203495Z",
          "iopub.status.idle": "2021-12-22T22:09:21.496134Z",
          "shell.execute_reply.started": "2021-12-22T22:09:19.203453Z",
          "shell.execute_reply": "2021-12-22T22:09:21.495426Z"
        },
        "trusted": true,
        "colab": {
          "base_uri": "https://localhost:8080/"
        },
        "id": "-SOm0gbvF_pf",
        "outputId": "0211825d-268d-4b4e-c380-b0c9b76ed0b4"
      },
      "execution_count": null,
      "outputs": [
        {
          "output_type": "stream",
          "name": "stdout",
          "text": [
            "Model: \"model\"\n",
            "__________________________________________________________________________________________________\n",
            " Layer (type)                   Output Shape         Param #     Connected to                     \n",
            "==================================================================================================\n",
            " input_1 (InputLayer)           [(None, 128)]        0           []                               \n",
            "                                                                                                  \n",
            " input_2 (InputLayer)           [(None, 128)]        0           []                               \n",
            "                                                                                                  \n",
            " tf_roberta_model (TFRobertaMod  TFBaseModelOutputWi  124645632  ['input_1[0][0]',                \n",
            " el)                            thPoolingAndCrossAt               'input_2[0][0]']                \n",
            "                                tentions(last_hidde                                               \n",
            "                                n_state=(None, 128,                                               \n",
            "                                 768),                                                            \n",
            "                                 pooler_output=(Non                                               \n",
            "                                e, 768),                                                          \n",
            "                                 past_key_values=No                                               \n",
            "                                ne, hidden_states=N                                               \n",
            "                                one, attentions=Non                                               \n",
            "                                e, cross_attentions                                               \n",
            "                                =None)                                                            \n",
            "                                                                                                  \n",
            " dense (Dense)                  (None, 3)            2307        ['tf_roberta_model[0][1]']       \n",
            "                                                                                                  \n",
            "==================================================================================================\n",
            "Total params: 124,647,939\n",
            "Trainable params: 124,647,939\n",
            "Non-trainable params: 0\n",
            "__________________________________________________________________________________________________\n"
          ]
        }
      ]
    },
    {
      "cell_type": "code",
      "source": [
        "early_stop = tf.keras.callbacks.EarlyStopping(monitor='val_loss', patience=3)"
      ],
      "metadata": {
        "id": "grHRWVEU-Atv"
      },
      "execution_count": null,
      "outputs": []
    },
    {
      "cell_type": "code",
      "source": [
        "history = model.fit([train_input_ids,train_attention_masks], y_train, \n",
        "                    validation_data=([val_input_ids,val_attention_masks], y_valid), \n",
        "                    epochs=10, batch_size=32, callbacks=[early_stop])"
      ],
      "metadata": {
        "colab": {
          "base_uri": "https://localhost:8080/"
        },
        "id": "afic9Ono-DGa",
        "outputId": "99ef3b91-fe04-4cdd-8375-1397d8c55e03"
      },
      "execution_count": null,
      "outputs": [
        {
          "output_type": "stream",
          "name": "stdout",
          "text": [
            "Epoch 1/10\n",
            "720/720 [==============================] - 656s 817ms/step - loss: 0.6138 - categorical_accuracy: 0.7426 - val_loss: 0.3756 - val_categorical_accuracy: 0.8578\n",
            "Epoch 2/10\n",
            "720/720 [==============================] - 578s 803ms/step - loss: 0.3489 - categorical_accuracy: 0.8698 - val_loss: 0.3160 - val_categorical_accuracy: 0.8898\n",
            "Epoch 3/10\n",
            "720/720 [==============================] - 579s 804ms/step - loss: 0.2458 - categorical_accuracy: 0.9116 - val_loss: 0.2430 - val_categorical_accuracy: 0.9176\n",
            "Epoch 4/10\n",
            "720/720 [==============================] - 578s 803ms/step - loss: 0.1691 - categorical_accuracy: 0.9421 - val_loss: 0.2482 - val_categorical_accuracy: 0.9242\n",
            "Epoch 5/10\n",
            "720/720 [==============================] - 578s 802ms/step - loss: 0.1201 - categorical_accuracy: 0.9593 - val_loss: 0.2669 - val_categorical_accuracy: 0.9312\n",
            "Epoch 6/10\n",
            "720/720 [==============================] - 577s 802ms/step - loss: 0.0847 - categorical_accuracy: 0.9713 - val_loss: 0.2691 - val_categorical_accuracy: 0.9387\n"
          ]
        }
      ]
    },
    {
      "cell_type": "code",
      "source": [
        "model.save('/content/drive/MyDrive/Thesis/twitter-roberta-base-sentiment-latest.h5')"
      ],
      "metadata": {
        "id": "l5C3sKqZWg87"
      },
      "execution_count": null,
      "outputs": []
    },
    {
      "cell_type": "code",
      "source": [
        "# plot accuracy (train vs val)\n",
        "plt.plot(history.history['categorical_accuracy'])\n",
        "plt.plot(history.history['val_categorical_accuracy'])\n",
        "plt.title('Training Vs Validation Accuracy')\n",
        "plt.ylabel('accuracy')\n",
        "plt.xlabel('epoch')\n",
        "plt.legend(['train', 'test'], loc='upper left')\n",
        "plt.show()"
      ],
      "metadata": {
        "id": "AYNDd3icEOQU",
        "colab": {
          "base_uri": "https://localhost:8080/",
          "height": 297
        },
        "outputId": "4b28c50a-b3ad-4f10-ef1a-6368be58fae6"
      },
      "execution_count": null,
      "outputs": [
        {
          "output_type": "display_data",
          "data": {
            "text/plain": [
              "<Figure size 432x288 with 1 Axes>"
            ],
            "image/png": "[encoded data removed]"
          },
          "metadata": {}
        }
      ]
    },
    {
      "cell_type": "code",
      "source": [
        "# plot loss (train vs val)\n",
        "plt.plot(history.history['loss'])\n",
        "plt.plot(history.history['val_loss'])\n",
        "plt.title('Training Vs Validation Loss')\n",
        "plt.ylabel('loss')\n",
        "plt.xlabel('epoch')\n",
        "plt.legend(['train', 'test'], loc='upper left')\n",
        "plt.show()"
      ],
      "metadata": {
        "id": "MdVZqyZ6EOQX",
        "colab": {
          "base_uri": "https://localhost:8080/",
          "height": 297
        },
        "outputId": "2ef39d21-3d09-4e70-e794-2b47c93d38ab"
      },
      "execution_count": null,
      "outputs": [
        {
          "output_type": "display_data",
          "data": {
            "text/plain": [
              "<Figure size 432x288 with 1 Axes>"
            ],
            "image/png": "[encoded data removed]"
          },
          "metadata": {}
        }
      ]
    },
    {
      "cell_type": "code",
      "source": [
        "'''history = model.fit([train_input_ids,train_attention_masks], y_train, \n",
        "                    validation_data=([val_input_ids,val_attention_masks], y_valid), \n",
        "                    epochs=3, batch_size=32)'''"
      ],
      "metadata": {
        "execution": {
          "iopub.status.busy": "2021-12-22T22:09:21.497524Z",
          "iopub.execute_input": "2021-12-22T22:09:21.497782Z",
          "iopub.status.idle": "2021-12-22T23:01:57.16071Z",
          "shell.execute_reply.started": "2021-12-22T22:09:21.497746Z",
          "shell.execute_reply": "2021-12-22T23:01:57.159908Z"
        },
        "trusted": true,
        "id": "KF0PyFrbF_pg"
      },
      "execution_count": null,
      "outputs": []
    },
    {
      "cell_type": "markdown",
      "source": [
        "# RoBERTa results"
      ],
      "metadata": {
        "id": "7c0tPVM_F_pg"
      }
    },
    {
      "cell_type": "code",
      "source": [
        "result_roberta = model.predict([test_input_ids,test_attention_masks])"
      ],
      "metadata": {
        "execution": {
          "iopub.status.busy": "2021-12-22T23:01:57.162528Z",
          "iopub.execute_input": "2021-12-22T23:01:57.162787Z",
          "iopub.status.idle": "2021-12-22T23:02:18.816734Z",
          "shell.execute_reply.started": "2021-12-22T23:01:57.162754Z",
          "shell.execute_reply": "2021-12-22T23:02:18.815967Z"
        },
        "trusted": true,
        "colab": {
          "base_uri": "https://localhost:8080/"
        },
        "id": "Lh_LJkwPF_ph",
        "outputId": "2447df29-5474-4314-ec0b-abf7ca0a7754"
      },
      "execution_count": null,
      "outputs": [
        {
          "output_type": "stream",
          "name": "stdout",
          "text": [
            "76/76 [==============================] - 23s 264ms/step\n"
          ]
        }
      ]
    },
    {
      "cell_type": "code",
      "source": [
        "y_pred_roberta =  np.zeros_like(result_roberta)\n",
        "y_pred_roberta[np.arange(len(y_pred_roberta)), result_roberta.argmax(1)] = 1"
      ],
      "metadata": {
        "execution": {
          "iopub.status.busy": "2021-12-22T23:02:18.818471Z",
          "iopub.execute_input": "2021-12-22T23:02:18.818725Z",
          "iopub.status.idle": "2021-12-22T23:02:18.824354Z",
          "shell.execute_reply.started": "2021-12-22T23:02:18.818691Z",
          "shell.execute_reply": "2021-12-22T23:02:18.823634Z"
        },
        "trusted": true,
        "id": "tK6mcvczF_ph"
      },
      "execution_count": null,
      "outputs": []
    },
    {
      "cell_type": "code",
      "source": [
        "conf_matrix(y_test.argmax(1),y_pred_roberta.argmax(1),'RoBERTa Sentiment Analysis\\nConfusion Matrix')"
      ],
      "metadata": {
        "_kg_hide-input": true,
        "execution": {
          "iopub.status.busy": "2021-12-22T23:02:18.826277Z",
          "iopub.execute_input": "2021-12-22T23:02:18.826841Z",
          "iopub.status.idle": "2021-12-22T23:02:19.069944Z",
          "shell.execute_reply.started": "2021-12-22T23:02:18.826804Z",
          "shell.execute_reply": "2021-12-22T23:02:19.069179Z"
        },
        "trusted": true,
        "colab": {
          "base_uri": "https://localhost:8080/",
          "height": 369
        },
        "id": "uv0JRyMwF_pi",
        "outputId": "4806daf2-4ff8-4b7c-aa14-9009d061bcc2"
      },
      "execution_count": null,
      "outputs": [
        {
          "output_type": "display_data",
          "data": {
            "text/plain": [
              "<Figure size 360x360 with 1 Axes>"
            ],
            "image/png": "[encoded data removed]"
          },
          "metadata": {}
        }
      ]
    },
    {
      "cell_type": "code",
      "source": [
        "print('\\tClassification Report for RoBERTa:\\n\\n',classification_report(y_test,y_pred_roberta, target_names=['Negative', 'Neutral', 'Positive']))"
      ],
      "metadata": {
        "_kg_hide-input": true,
        "execution": {
          "iopub.status.busy": "2021-12-22T23:02:19.071175Z",
          "iopub.execute_input": "2021-12-22T23:02:19.071621Z",
          "iopub.status.idle": "2021-12-22T23:02:19.09548Z",
          "shell.execute_reply.started": "2021-12-22T23:02:19.071583Z",
          "shell.execute_reply": "2021-12-22T23:02:19.094654Z"
        },
        "trusted": true,
        "colab": {
          "base_uri": "https://localhost:8080/"
        },
        "id": "C5FIz1AZF_pi",
        "outputId": "ee7e2d19-6b89-4731-d0a0-dcac7de1c046"
      },
      "execution_count": null,
      "outputs": [
        {
          "output_type": "stream",
          "name": "stdout",
          "text": [
            "\tClassification Report for RoBERTa:\n",
            "\n",
            "               precision    recall  f1-score   support\n",
            "\n",
            "    Negative       0.90      0.84      0.87       719\n",
            "     Neutral       0.90      0.94      0.92       924\n",
            "    Positive       0.92      0.94      0.93       780\n",
            "\n",
            "   micro avg       0.91      0.91      0.91      2423\n",
            "   macro avg       0.91      0.90      0.91      2423\n",
            "weighted avg       0.91      0.91      0.91      2423\n",
            " samples avg       0.91      0.91      0.91      2423\n",
            "\n"
          ]
        }
      ]
    },
    {
      "cell_type": "code",
      "source": [
        "print('Prediction Accuracy Roberta:', \"{:.2f}\".format(100*accuracy_score(y_test,y_pred_roberta))+\"%\")"
      ],
      "metadata": {
        "colab": {
          "base_uri": "https://localhost:8080/"
        },
        "id": "jFuIJ0VMWQMY",
        "outputId": "9cf0cb24-ef2c-4c69-8eb1-623360ea17ca"
      },
      "execution_count": null,
      "outputs": [
        {
          "output_type": "stream",
          "name": "stdout",
          "text": [
            "Prediction Accuracy Roberta: 90.80%\n"
          ]
        }
      ]
    }
  ]
}