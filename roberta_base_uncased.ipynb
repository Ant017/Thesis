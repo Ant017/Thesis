{
  "nbformat": 4,
  "nbformat_minor": 0,
  "metadata": {
    "colab": {
      "provenance": []
    },
    "kernelspec": {
      "name": "python3",
      "display_name": "Python 3"
    },
    "language_info": {
      "name": "python"
    },
    "accelerator": "GPU",
    "gpuClass": "standard",
    "widgets": {
      "application/vnd.jupyter.widget-state+json": {
        "4262eeab2d4241aca36e799425d19ab4": {
          "model_module": "@jupyter-widgets/controls",
          "model_name": "HBoxModel",
          "model_module_version": "1.5.0",
          "state": {
            "_dom_classes": [],
            "_model_module": "@jupyter-widgets/controls",
            "_model_module_version": "1.5.0",
            "_model_name": "HBoxModel",
            "_view_count": null,
            "_view_module": "@jupyter-widgets/controls",
            "_view_module_version": "1.5.0",
            "_view_name": "HBoxView",
            "box_style": "",
            "children": [
              "IPY_MODEL_1981705d520c42fda3116b93cf743251",
              "IPY_MODEL_253c9f08a54840e3b13aab904384c56b",
              "IPY_MODEL_4e502660c79d4eff87612b9ee67e6aba"
            ],
            "layout": "IPY_MODEL_907ac42ea95a4d6788f59837f7261c4a"
          }
        },
        "1981705d520c42fda3116b93cf743251": {
          "model_module": "@jupyter-widgets/controls",
          "model_name": "HTMLModel",
          "model_module_version": "1.5.0",
          "state": {
            "_dom_classes": [],
            "_model_module": "@jupyter-widgets/controls",
            "_model_module_version": "1.5.0",
            "_model_name": "HTMLModel",
            "_view_count": null,
            "_view_module": "@jupyter-widgets/controls",
            "_view_module_version": "1.5.0",
            "_view_name": "HTMLView",
            "description": "",
            "description_tooltip": null,
            "layout": "IPY_MODEL_1312608edf3d48519461c9187ae748bb",
            "placeholder": "​",
            "style": "IPY_MODEL_49d2b0d0aab3448d9ee8ee8c0586135a",
            "value": "Downloading (…)olve/main/vocab.json: 100%"
          }
        },
        "253c9f08a54840e3b13aab904384c56b": {
          "model_module": "@jupyter-widgets/controls",
          "model_name": "FloatProgressModel",
          "model_module_version": "1.5.0",
          "state": {
            "_dom_classes": [],
            "_model_module": "@jupyter-widgets/controls",
            "_model_module_version": "1.5.0",
            "_model_name": "FloatProgressModel",
            "_view_count": null,
            "_view_module": "@jupyter-widgets/controls",
            "_view_module_version": "1.5.0",
            "_view_name": "ProgressView",
            "bar_style": "success",
            "description": "",
            "description_tooltip": null,
            "layout": "IPY_MODEL_9708503210294e1aa0a40887abc7a7ee",
            "max": 898823,
            "min": 0,
            "orientation": "horizontal",
            "style": "IPY_MODEL_c40db5008d4a46919dbf3c447a7b7398",
            "value": 898823
          }
        },
        "4e502660c79d4eff87612b9ee67e6aba": {
          "model_module": "@jupyter-widgets/controls",
          "model_name": "HTMLModel",
          "model_module_version": "1.5.0",
          "state": {
            "_dom_classes": [],
            "_model_module": "@jupyter-widgets/controls",
            "_model_module_version": "1.5.0",
            "_model_name": "HTMLModel",
            "_view_count": null,
            "_view_module": "@jupyter-widgets/controls",
            "_view_module_version": "1.5.0",
            "_view_name": "HTMLView",
            "description": "",
            "description_tooltip": null,
            "layout": "IPY_MODEL_e909c035ecbd4c57a976598adbc22335",
            "placeholder": "​",
            "style": "IPY_MODEL_cb817c5f28284fa499757c69a6be8eb9",
            "value": " 899k/899k [00:00&lt;00:00, 1.93MB/s]"
          }
        },
        "907ac42ea95a4d6788f59837f7261c4a": {
          "model_module": "@jupyter-widgets/base",
          "model_name": "LayoutModel",
          "model_module_version": "1.2.0",
          "state": {
            "_model_module": "@jupyter-widgets/base",
            "_model_module_version": "1.2.0",
            "_model_name": "LayoutModel",
            "_view_count": null,
            "_view_module": "@jupyter-widgets/base",
            "_view_module_version": "1.2.0",
            "_view_name": "LayoutView",
            "align_content": null,
            "align_items": null,
            "align_self": null,
            "border": null,
            "bottom": null,
            "display": null,
            "flex": null,
            "flex_flow": null,
            "grid_area": null,
            "grid_auto_columns": null,
            "grid_auto_flow": null,
            "grid_auto_rows": null,
            "grid_column": null,
            "grid_gap": null,
            "grid_row": null,
            "grid_template_areas": null,
            "grid_template_columns": null,
            "grid_template_rows": null,
            "height": null,
            "justify_content": null,
            "justify_items": null,
            "left": null,
            "margin": null,
            "max_height": null,
            "max_width": null,
            "min_height": null,
            "min_width": null,
            "object_fit": null,
            "object_position": null,
            "order": null,
            "overflow": null,
            "overflow_x": null,
            "overflow_y": null,
            "padding": null,
            "right": null,
            "top": null,
            "visibility": null,
            "width": null
          }
        },
        "1312608edf3d48519461c9187ae748bb": {
          "model_module": "@jupyter-widgets/base",
          "model_name": "LayoutModel",
          "model_module_version": "1.2.0",
          "state": {
            "_model_module": "@jupyter-widgets/base",
            "_model_module_version": "1.2.0",
            "_model_name": "LayoutModel",
            "_view_count": null,
            "_view_module": "@jupyter-widgets/base",
            "_view_module_version": "1.2.0",
            "_view_name": "LayoutView",
            "align_content": null,
            "align_items": null,
            "align_self": null,
            "border": null,
            "bottom": null,
            "display": null,
            "flex": null,
            "flex_flow": null,
            "grid_area": null,
            "grid_auto_columns": null,
            "grid_auto_flow": null,
            "grid_auto_rows": null,
            "grid_column": null,
            "grid_gap": null,
            "grid_row": null,
            "grid_template_areas": null,
            "grid_template_columns": null,
            "grid_template_rows": null,
            "height": null,
            "justify_content": null,
            "justify_items": null,
            "left": null,
            "margin": null,
            "max_height": null,
            "max_width": null,
            "min_height": null,
            "min_width": null,
            "object_fit": null,
            "object_position": null,
            "order": null,
            "overflow": null,
            "overflow_x": null,
            "overflow_y": null,
            "padding": null,
            "right": null,
            "top": null,
            "visibility": null,
            "width": null
          }
        },
        "49d2b0d0aab3448d9ee8ee8c0586135a": {
          "model_module": "@jupyter-widgets/controls",
          "model_name": "DescriptionStyleModel",
          "model_module_version": "1.5.0",
          "state": {
            "_model_module": "@jupyter-widgets/controls",
            "_model_module_version": "1.5.0",
            "_model_name": "DescriptionStyleModel",
            "_view_count": null,
            "_view_module": "@jupyter-widgets/base",
            "_view_module_version": "1.2.0",
            "_view_name": "StyleView",
            "description_width": ""
          }
        },
        "9708503210294e1aa0a40887abc7a7ee": {
          "model_module": "@jupyter-widgets/base",
          "model_name": "LayoutModel",
          "model_module_version": "1.2.0",
          "state": {
            "_model_module": "@jupyter-widgets/base",
            "_model_module_version": "1.2.0",
            "_model_name": "LayoutModel",
            "_view_count": null,
            "_view_module": "@jupyter-widgets/base",
            "_view_module_version": "1.2.0",
            "_view_name": "LayoutView",
            "align_content": null,
            "align_items": null,
            "align_self": null,
            "border": null,
            "bottom": null,
            "display": null,
            "flex": null,
            "flex_flow": null,
            "grid_area": null,
            "grid_auto_columns": null,
            "grid_auto_flow": null,
            "grid_auto_rows": null,
            "grid_column": null,
            "grid_gap": null,
            "grid_row": null,
            "grid_template_areas": null,
            "grid_template_columns": null,
            "grid_template_rows": null,
            "height": null,
            "justify_content": null,
            "justify_items": null,
            "left": null,
            "margin": null,
            "max_height": null,
            "max_width": null,
            "min_height": null,
            "min_width": null,
            "object_fit": null,
            "object_position": null,
            "order": null,
            "overflow": null,
            "overflow_x": null,
            "overflow_y": null,
            "padding": null,
            "right": null,
            "top": null,
            "visibility": null,
            "width": null
          }
        },
        "c40db5008d4a46919dbf3c447a7b7398": {
          "model_module": "@jupyter-widgets/controls",
          "model_name": "ProgressStyleModel",
          "model_module_version": "1.5.0",
          "state": {
            "_model_module": "@jupyter-widgets/controls",
            "_model_module_version": "1.5.0",
            "_model_name": "ProgressStyleModel",
            "_view_count": null,
            "_view_module": "@jupyter-widgets/base",
            "_view_module_version": "1.2.0",
            "_view_name": "StyleView",
            "bar_color": null,
            "description_width": ""
          }
        },
        "e909c035ecbd4c57a976598adbc22335": {
          "model_module": "@jupyter-widgets/base",
          "model_name": "LayoutModel",
          "model_module_version": "1.2.0",
          "state": {
            "_model_module": "@jupyter-widgets/base",
            "_model_module_version": "1.2.0",
            "_model_name": "LayoutModel",
            "_view_count": null,
            "_view_module": "@jupyter-widgets/base",
            "_view_module_version": "1.2.0",
            "_view_name": "LayoutView",
            "align_content": null,
            "align_items": null,
            "align_self": null,
            "border": null,
            "bottom": null,
            "display": null,
            "flex": null,
            "flex_flow": null,
            "grid_area": null,
            "grid_auto_columns": null,
            "grid_auto_flow": null,
            "grid_auto_rows": null,
            "grid_column": null,
            "grid_gap": null,
            "grid_row": null,
            "grid_template_areas": null,
            "grid_template_columns": null,
            "grid_template_rows": null,
            "height": null,
            "justify_content": null,
            "justify_items": null,
            "left": null,
            "margin": null,
            "max_height": null,
            "max_width": null,
            "min_height": null,
            "min_width": null,
            "object_fit": null,
            "object_position": null,
            "order": null,
            "overflow": null,
            "overflow_x": null,
            "overflow_y": null,
            "padding": null,
            "right": null,
            "top": null,
            "visibility": null,
            "width": null
          }
        },
        "cb817c5f28284fa499757c69a6be8eb9": {
          "model_module": "@jupyter-widgets/controls",
          "model_name": "DescriptionStyleModel",
          "model_module_version": "1.5.0",
          "state": {
            "_model_module": "@jupyter-widgets/controls",
            "_model_module_version": "1.5.0",
            "_model_name": "DescriptionStyleModel",
            "_view_count": null,
            "_view_module": "@jupyter-widgets/base",
            "_view_module_version": "1.2.0",
            "_view_name": "StyleView",
            "description_width": ""
          }
        },
        "b493bf7d3b594fee9d5102ec10aff041": {
          "model_module": "@jupyter-widgets/controls",
          "model_name": "HBoxModel",
          "model_module_version": "1.5.0",
          "state": {
            "_dom_classes": [],
            "_model_module": "@jupyter-widgets/controls",
            "_model_module_version": "1.5.0",
            "_model_name": "HBoxModel",
            "_view_count": null,
            "_view_module": "@jupyter-widgets/controls",
            "_view_module_version": "1.5.0",
            "_view_name": "HBoxView",
            "box_style": "",
            "children": [
              "IPY_MODEL_433f6e131fcb40129b4123457485327a",
              "IPY_MODEL_6a6e88c11c2443cb992fbcb3e5ecb44d",
              "IPY_MODEL_b0e5b36adf444034825e0a4e2bcb4132"
            ],
            "layout": "IPY_MODEL_8191bff7846148289bd11e09b94054af"
          }
        },
        "433f6e131fcb40129b4123457485327a": {
          "model_module": "@jupyter-widgets/controls",
          "model_name": "HTMLModel",
          "model_module_version": "1.5.0",
          "state": {
            "_dom_classes": [],
            "_model_module": "@jupyter-widgets/controls",
            "_model_module_version": "1.5.0",
            "_model_name": "HTMLModel",
            "_view_count": null,
            "_view_module": "@jupyter-widgets/controls",
            "_view_module_version": "1.5.0",
            "_view_name": "HTMLView",
            "description": "",
            "description_tooltip": null,
            "layout": "IPY_MODEL_5192469e00724c488549d9131e8fc7df",
            "placeholder": "​",
            "style": "IPY_MODEL_7700d279000b42b98a4f2de4bdb4c3f9",
            "value": "Downloading (…)olve/main/merges.txt: 100%"
          }
        },
        "6a6e88c11c2443cb992fbcb3e5ecb44d": {
          "model_module": "@jupyter-widgets/controls",
          "model_name": "FloatProgressModel",
          "model_module_version": "1.5.0",
          "state": {
            "_dom_classes": [],
            "_model_module": "@jupyter-widgets/controls",
            "_model_module_version": "1.5.0",
            "_model_name": "FloatProgressModel",
            "_view_count": null,
            "_view_module": "@jupyter-widgets/controls",
            "_view_module_version": "1.5.0",
            "_view_name": "ProgressView",
            "bar_style": "success",
            "description": "",
            "description_tooltip": null,
            "layout": "IPY_MODEL_59fab10eef884d838e0d4ca7fbc491b1",
            "max": 456318,
            "min": 0,
            "orientation": "horizontal",
            "style": "IPY_MODEL_18737d12fd294d45bcc1c749e9dc90f0",
            "value": 456318
          }
        },
        "b0e5b36adf444034825e0a4e2bcb4132": {
          "model_module": "@jupyter-widgets/controls",
          "model_name": "HTMLModel",
          "model_module_version": "1.5.0",
          "state": {
            "_dom_classes": [],
            "_model_module": "@jupyter-widgets/controls",
            "_model_module_version": "1.5.0",
            "_model_name": "HTMLModel",
            "_view_count": null,
            "_view_module": "@jupyter-widgets/controls",
            "_view_module_version": "1.5.0",
            "_view_name": "HTMLView",
            "description": "",
            "description_tooltip": null,
            "layout": "IPY_MODEL_f1f1e2fbec0d4710b5d0e979e36e8468",
            "placeholder": "​",
            "style": "IPY_MODEL_5847a7765a2c48d79a847147178a8e7d",
            "value": " 456k/456k [00:00&lt;00:00, 1.08MB/s]"
          }
        },
        "8191bff7846148289bd11e09b94054af": {
          "model_module": "@jupyter-widgets/base",
          "model_name": "LayoutModel",
          "model_module_version": "1.2.0",
          "state": {
            "_model_module": "@jupyter-widgets/base",
            "_model_module_version": "1.2.0",
            "_model_name": "LayoutModel",
            "_view_count": null,
            "_view_module": "@jupyter-widgets/base",
            "_view_module_version": "1.2.0",
            "_view_name": "LayoutView",
            "align_content": null,
            "align_items": null,
            "align_self": null,
            "border": null,
            "bottom": null,
            "display": null,
            "flex": null,
            "flex_flow": null,
            "grid_area": null,
            "grid_auto_columns": null,
            "grid_auto_flow": null,
            "grid_auto_rows": null,
            "grid_column": null,
            "grid_gap": null,
            "grid_row": null,
            "grid_template_areas": null,
            "grid_template_columns": null,
            "grid_template_rows": null,
            "height": null,
            "justify_content": null,
            "justify_items": null,
            "left": null,
            "margin": null,
            "max_height": null,
            "max_width": null,
            "min_height": null,
            "min_width": null,
            "object_fit": null,
            "object_position": null,
            "order": null,
            "overflow": null,
            "overflow_x": null,
            "overflow_y": null,
            "padding": null,
            "right": null,
            "top": null,
            "visibility": null,
            "width": null
          }
        },
        "5192469e00724c488549d9131e8fc7df": {
          "model_module": "@jupyter-widgets/base",
          "model_name": "LayoutModel",
          "model_module_version": "1.2.0",
          "state": {
            "_model_module": "@jupyter-widgets/base",
            "_model_module_version": "1.2.0",
            "_model_name": "LayoutModel",
            "_view_count": null,
            "_view_module": "@jupyter-widgets/base",
            "_view_module_version": "1.2.0",
            "_view_name": "LayoutView",
            "align_content": null,
            "align_items": null,
            "align_self": null,
            "border": null,
            "bottom": null,
            "display": null,
            "flex": null,
            "flex_flow": null,
            "grid_area": null,
            "grid_auto_columns": null,
            "grid_auto_flow": null,
            "grid_auto_rows": null,
            "grid_column": null,
            "grid_gap": null,
            "grid_row": null,
            "grid_template_areas": null,
            "grid_template_columns": null,
            "grid_template_rows": null,
            "height": null,
            "justify_content": null,
            "justify_items": null,
            "left": null,
            "margin": null,
            "max_height": null,
            "max_width": null,
            "min_height": null,
            "min_width": null,
            "object_fit": null,
            "object_position": null,
            "order": null,
            "overflow": null,
            "overflow_x": null,
            "overflow_y": null,
            "padding": null,
            "right": null,
            "top": null,
            "visibility": null,
            "width": null
          }
        },
        "7700d279000b42b98a4f2de4bdb4c3f9": {
          "model_module": "@jupyter-widgets/controls",
          "model_name": "DescriptionStyleModel",
          "model_module_version": "1.5.0",
          "state": {
            "_model_module": "@jupyter-widgets/controls",
            "_model_module_version": "1.5.0",
            "_model_name": "DescriptionStyleModel",
            "_view_count": null,
            "_view_module": "@jupyter-widgets/base",
            "_view_module_version": "1.2.0",
            "_view_name": "StyleView",
            "description_width": ""
          }
        },
        "59fab10eef884d838e0d4ca7fbc491b1": {
          "model_module": "@jupyter-widgets/base",
          "model_name": "LayoutModel",
          "model_module_version": "1.2.0",
          "state": {
            "_model_module": "@jupyter-widgets/base",
            "_model_module_version": "1.2.0",
            "_model_name": "LayoutModel",
            "_view_count": null,
            "_view_module": "@jupyter-widgets/base",
            "_view_module_version": "1.2.0",
            "_view_name": "LayoutView",
            "align_content": null,
            "align_items": null,
            "align_self": null,
            "border": null,
            "bottom": null,
            "display": null,
            "flex": null,
            "flex_flow": null,
            "grid_area": null,
            "grid_auto_columns": null,
            "grid_auto_flow": null,
            "grid_auto_rows": null,
            "grid_column": null,
            "grid_gap": null,
            "grid_row": null,
            "grid_template_areas": null,
            "grid_template_columns": null,
            "grid_template_rows": null,
            "height": null,
            "justify_content": null,
            "justify_items": null,
            "left": null,
            "margin": null,
            "max_height": null,
            "max_width": null,
            "min_height": null,
            "min_width": null,
            "object_fit": null,
            "object_position": null,
            "order": null,
            "overflow": null,
            "overflow_x": null,
            "overflow_y": null,
            "padding": null,
            "right": null,
            "top": null,
            "visibility": null,
            "width": null
          }
        },
        "18737d12fd294d45bcc1c749e9dc90f0": {
          "model_module": "@jupyter-widgets/controls",
          "model_name": "ProgressStyleModel",
          "model_module_version": "1.5.0",
          "state": {
            "_model_module": "@jupyter-widgets/controls",
            "_model_module_version": "1.5.0",
            "_model_name": "ProgressStyleModel",
            "_view_count": null,
            "_view_module": "@jupyter-widgets/base",
            "_view_module_version": "1.2.0",
            "_view_name": "StyleView",
            "bar_color": null,
            "description_width": ""
          }
        },
        "f1f1e2fbec0d4710b5d0e979e36e8468": {
          "model_module": "@jupyter-widgets/base",
          "model_name": "LayoutModel",
          "model_module_version": "1.2.0",
          "state": {
            "_model_module": "@jupyter-widgets/base",
            "_model_module_version": "1.2.0",
            "_model_name": "LayoutModel",
            "_view_count": null,
            "_view_module": "@jupyter-widgets/base",
            "_view_module_version": "1.2.0",
            "_view_name": "LayoutView",
            "align_content": null,
            "align_items": null,
            "align_self": null,
            "border": null,
            "bottom": null,
            "display": null,
            "flex": null,
            "flex_flow": null,
            "grid_area": null,
            "grid_auto_columns": null,
            "grid_auto_flow": null,
            "grid_auto_rows": null,
            "grid_column": null,
            "grid_gap": null,
            "grid_row": null,
            "grid_template_areas": null,
            "grid_template_columns": null,
            "grid_template_rows": null,
            "height": null,
            "justify_content": null,
            "justify_items": null,
            "left": null,
            "margin": null,
            "max_height": null,
            "max_width": null,
            "min_height": null,
            "min_width": null,
            "object_fit": null,
            "object_position": null,
            "order": null,
            "overflow": null,
            "overflow_x": null,
            "overflow_y": null,
            "padding": null,
            "right": null,
            "top": null,
            "visibility": null,
            "width": null
          }
        },
        "5847a7765a2c48d79a847147178a8e7d": {
          "model_module": "@jupyter-widgets/controls",
          "model_name": "DescriptionStyleModel",
          "model_module_version": "1.5.0",
          "state": {
            "_model_module": "@jupyter-widgets/controls",
            "_model_module_version": "1.5.0",
            "_model_name": "DescriptionStyleModel",
            "_view_count": null,
            "_view_module": "@jupyter-widgets/base",
            "_view_module_version": "1.2.0",
            "_view_name": "StyleView",
            "description_width": ""
          }
        },
        "4407e850d2334c6693b1da23534bfcb8": {
          "model_module": "@jupyter-widgets/controls",
          "model_name": "HBoxModel",
          "model_module_version": "1.5.0",
          "state": {
            "_dom_classes": [],
            "_model_module": "@jupyter-widgets/controls",
            "_model_module_version": "1.5.0",
            "_model_name": "HBoxModel",
            "_view_count": null,
            "_view_module": "@jupyter-widgets/controls",
            "_view_module_version": "1.5.0",
            "_view_name": "HBoxView",
            "box_style": "",
            "children": [
              "IPY_MODEL_211a3660f445499bbfdaa00c42e11b99",
              "IPY_MODEL_bd2d146c31fb4d3d87f43cc01fd92f0e",
              "IPY_MODEL_03796fc2c1ad4ba088d2da082177eae3"
            ],
            "layout": "IPY_MODEL_ce929a22288c4460a5b0a18adf01cd34"
          }
        },
        "211a3660f445499bbfdaa00c42e11b99": {
          "model_module": "@jupyter-widgets/controls",
          "model_name": "HTMLModel",
          "model_module_version": "1.5.0",
          "state": {
            "_dom_classes": [],
            "_model_module": "@jupyter-widgets/controls",
            "_model_module_version": "1.5.0",
            "_model_name": "HTMLModel",
            "_view_count": null,
            "_view_module": "@jupyter-widgets/controls",
            "_view_module_version": "1.5.0",
            "_view_name": "HTMLView",
            "description": "",
            "description_tooltip": null,
            "layout": "IPY_MODEL_f303a0c3a5244160a74bc691ee93878a",
            "placeholder": "​",
            "style": "IPY_MODEL_e4cda1be76f84cd7aaae7dbce1d3a6f5",
            "value": "Downloading (…)/main/tokenizer.json: 100%"
          }
        },
        "bd2d146c31fb4d3d87f43cc01fd92f0e": {
          "model_module": "@jupyter-widgets/controls",
          "model_name": "FloatProgressModel",
          "model_module_version": "1.5.0",
          "state": {
            "_dom_classes": [],
            "_model_module": "@jupyter-widgets/controls",
            "_model_module_version": "1.5.0",
            "_model_name": "FloatProgressModel",
            "_view_count": null,
            "_view_module": "@jupyter-widgets/controls",
            "_view_module_version": "1.5.0",
            "_view_name": "ProgressView",
            "bar_style": "success",
            "description": "",
            "description_tooltip": null,
            "layout": "IPY_MODEL_576a6c2c18854179bccb85d716e9c803",
            "max": 1355863,
            "min": 0,
            "orientation": "horizontal",
            "style": "IPY_MODEL_1ec85aa15d6b49b09ae3eb4c1e0be397",
            "value": 1355863
          }
        },
        "03796fc2c1ad4ba088d2da082177eae3": {
          "model_module": "@jupyter-widgets/controls",
          "model_name": "HTMLModel",
          "model_module_version": "1.5.0",
          "state": {
            "_dom_classes": [],
            "_model_module": "@jupyter-widgets/controls",
            "_model_module_version": "1.5.0",
            "_model_name": "HTMLModel",
            "_view_count": null,
            "_view_module": "@jupyter-widgets/controls",
            "_view_module_version": "1.5.0",
            "_view_name": "HTMLView",
            "description": "",
            "description_tooltip": null,
            "layout": "IPY_MODEL_caf0cc8111194cecaac99895f40b69bb",
            "placeholder": "​",
            "style": "IPY_MODEL_e763fe8175ca4e4bbf1bc46bb46240ce",
            "value": " 1.36M/1.36M [00:00&lt;00:00, 2.63MB/s]"
          }
        },
        "ce929a22288c4460a5b0a18adf01cd34": {
          "model_module": "@jupyter-widgets/base",
          "model_name": "LayoutModel",
          "model_module_version": "1.2.0",
          "state": {
            "_model_module": "@jupyter-widgets/base",
            "_model_module_version": "1.2.0",
            "_model_name": "LayoutModel",
            "_view_count": null,
            "_view_module": "@jupyter-widgets/base",
            "_view_module_version": "1.2.0",
            "_view_name": "LayoutView",
            "align_content": null,
            "align_items": null,
            "align_self": null,
            "border": null,
            "bottom": null,
            "display": null,
            "flex": null,
            "flex_flow": null,
            "grid_area": null,
            "grid_auto_columns": null,
            "grid_auto_flow": null,
            "grid_auto_rows": null,
            "grid_column": null,
            "grid_gap": null,
            "grid_row": null,
            "grid_template_areas": null,
            "grid_template_columns": null,
            "grid_template_rows": null,
            "height": null,
            "justify_content": null,
            "justify_items": null,
            "left": null,
            "margin": null,
            "max_height": null,
            "max_width": null,
            "min_height": null,
            "min_width": null,
            "object_fit": null,
            "object_position": null,
            "order": null,
            "overflow": null,
            "overflow_x": null,
            "overflow_y": null,
            "padding": null,
            "right": null,
            "top": null,
            "visibility": null,
            "width": null
          }
        },
        "f303a0c3a5244160a74bc691ee93878a": {
          "model_module": "@jupyter-widgets/base",
          "model_name": "LayoutModel",
          "model_module_version": "1.2.0",
          "state": {
            "_model_module": "@jupyter-widgets/base",
            "_model_module_version": "1.2.0",
            "_model_name": "LayoutModel",
            "_view_count": null,
            "_view_module": "@jupyter-widgets/base",
            "_view_module_version": "1.2.0",
            "_view_name": "LayoutView",
            "align_content": null,
            "align_items": null,
            "align_self": null,
            "border": null,
            "bottom": null,
            "display": null,
            "flex": null,
            "flex_flow": null,
            "grid_area": null,
            "grid_auto_columns": null,
            "grid_auto_flow": null,
            "grid_auto_rows": null,
            "grid_column": null,
            "grid_gap": null,
            "grid_row": null,
            "grid_template_areas": null,
            "grid_template_columns": null,
            "grid_template_rows": null,
            "height": null,
            "justify_content": null,
            "justify_items": null,
            "left": null,
            "margin": null,
            "max_height": null,
            "max_width": null,
            "min_height": null,
            "min_width": null,
            "object_fit": null,
            "object_position": null,
            "order": null,
            "overflow": null,
            "overflow_x": null,
            "overflow_y": null,
            "padding": null,
            "right": null,
            "top": null,
            "visibility": null,
            "width": null
          }
        },
        "e4cda1be76f84cd7aaae7dbce1d3a6f5": {
          "model_module": "@jupyter-widgets/controls",
          "model_name": "DescriptionStyleModel",
          "model_module_version": "1.5.0",
          "state": {
            "_model_module": "@jupyter-widgets/controls",
            "_model_module_version": "1.5.0",
            "_model_name": "DescriptionStyleModel",
            "_view_count": null,
            "_view_module": "@jupyter-widgets/base",
            "_view_module_version": "1.2.0",
            "_view_name": "StyleView",
            "description_width": ""
          }
        },
        "576a6c2c18854179bccb85d716e9c803": {
          "model_module": "@jupyter-widgets/base",
          "model_name": "LayoutModel",
          "model_module_version": "1.2.0",
          "state": {
            "_model_module": "@jupyter-widgets/base",
            "_model_module_version": "1.2.0",
            "_model_name": "LayoutModel",
            "_view_count": null,
            "_view_module": "@jupyter-widgets/base",
            "_view_module_version": "1.2.0",
            "_view_name": "LayoutView",
            "align_content": null,
            "align_items": null,
            "align_self": null,
            "border": null,
            "bottom": null,
            "display": null,
            "flex": null,
            "flex_flow": null,
            "grid_area": null,
            "grid_auto_columns": null,
            "grid_auto_flow": null,
            "grid_auto_rows": null,
            "grid_column": null,
            "grid_gap": null,
            "grid_row": null,
            "grid_template_areas": null,
            "grid_template_columns": null,
            "grid_template_rows": null,
            "height": null,
            "justify_content": null,
            "justify_items": null,
            "left": null,
            "margin": null,
            "max_height": null,
            "max_width": null,
            "min_height": null,
            "min_width": null,
            "object_fit": null,
            "object_position": null,
            "order": null,
            "overflow": null,
            "overflow_x": null,
            "overflow_y": null,
            "padding": null,
            "right": null,
            "top": null,
            "visibility": null,
            "width": null
          }
        },
        "1ec85aa15d6b49b09ae3eb4c1e0be397": {
          "model_module": "@jupyter-widgets/controls",
          "model_name": "ProgressStyleModel",
          "model_module_version": "1.5.0",
          "state": {
            "_model_module": "@jupyter-widgets/controls",
            "_model_module_version": "1.5.0",
            "_model_name": "ProgressStyleModel",
            "_view_count": null,
            "_view_module": "@jupyter-widgets/base",
            "_view_module_version": "1.2.0",
            "_view_name": "StyleView",
            "bar_color": null,
            "description_width": ""
          }
        },
        "caf0cc8111194cecaac99895f40b69bb": {
          "model_module": "@jupyter-widgets/base",
          "model_name": "LayoutModel",
          "model_module_version": "1.2.0",
          "state": {
            "_model_module": "@jupyter-widgets/base",
            "_model_module_version": "1.2.0",
            "_model_name": "LayoutModel",
            "_view_count": null,
            "_view_module": "@jupyter-widgets/base",
            "_view_module_version": "1.2.0",
            "_view_name": "LayoutView",
            "align_content": null,
            "align_items": null,
            "align_self": null,
            "border": null,
            "bottom": null,
            "display": null,
            "flex": null,
            "flex_flow": null,
            "grid_area": null,
            "grid_auto_columns": null,
            "grid_auto_flow": null,
            "grid_auto_rows": null,
            "grid_column": null,
            "grid_gap": null,
            "grid_row": null,
            "grid_template_areas": null,
            "grid_template_columns": null,
            "grid_template_rows": null,
            "height": null,
            "justify_content": null,
            "justify_items": null,
            "left": null,
            "margin": null,
            "max_height": null,
            "max_width": null,
            "min_height": null,
            "min_width": null,
            "object_fit": null,
            "object_position": null,
            "order": null,
            "overflow": null,
            "overflow_x": null,
            "overflow_y": null,
            "padding": null,
            "right": null,
            "top": null,
            "visibility": null,
            "width": null
          }
        },
        "e763fe8175ca4e4bbf1bc46bb46240ce": {
          "model_module": "@jupyter-widgets/controls",
          "model_name": "DescriptionStyleModel",
          "model_module_version": "1.5.0",
          "state": {
            "_model_module": "@jupyter-widgets/controls",
            "_model_module_version": "1.5.0",
            "_model_name": "DescriptionStyleModel",
            "_view_count": null,
            "_view_module": "@jupyter-widgets/base",
            "_view_module_version": "1.2.0",
            "_view_name": "StyleView",
            "description_width": ""
          }
        },
        "7831383264ea4c95bd96358d27b136a2": {
          "model_module": "@jupyter-widgets/controls",
          "model_name": "HBoxModel",
          "model_module_version": "1.5.0",
          "state": {
            "_dom_classes": [],
            "_model_module": "@jupyter-widgets/controls",
            "_model_module_version": "1.5.0",
            "_model_name": "HBoxModel",
            "_view_count": null,
            "_view_module": "@jupyter-widgets/controls",
            "_view_module_version": "1.5.0",
            "_view_name": "HBoxView",
            "box_style": "",
            "children": [
              "IPY_MODEL_e39ac837defa408fa8a83c4ac5eeddd8",
              "IPY_MODEL_8734aa6535674408832d0b97b8aa960b",
              "IPY_MODEL_05d66b1fb9c94e7ba2c72169163f8fdf"
            ],
            "layout": "IPY_MODEL_82158b9606004d2893ffc14e59dec07a"
          }
        },
        "e39ac837defa408fa8a83c4ac5eeddd8": {
          "model_module": "@jupyter-widgets/controls",
          "model_name": "HTMLModel",
          "model_module_version": "1.5.0",
          "state": {
            "_dom_classes": [],
            "_model_module": "@jupyter-widgets/controls",
            "_model_module_version": "1.5.0",
            "_model_name": "HTMLModel",
            "_view_count": null,
            "_view_module": "@jupyter-widgets/controls",
            "_view_module_version": "1.5.0",
            "_view_name": "HTMLView",
            "description": "",
            "description_tooltip": null,
            "layout": "IPY_MODEL_2c638858a5d04fd3a454f06c5d923549",
            "placeholder": "​",
            "style": "IPY_MODEL_9ddd297048a24f0982923af4a28cb6ee",
            "value": "Downloading (…)lve/main/config.json: 100%"
          }
        },
        "8734aa6535674408832d0b97b8aa960b": {
          "model_module": "@jupyter-widgets/controls",
          "model_name": "FloatProgressModel",
          "model_module_version": "1.5.0",
          "state": {
            "_dom_classes": [],
            "_model_module": "@jupyter-widgets/controls",
            "_model_module_version": "1.5.0",
            "_model_name": "FloatProgressModel",
            "_view_count": null,
            "_view_module": "@jupyter-widgets/controls",
            "_view_module_version": "1.5.0",
            "_view_name": "ProgressView",
            "bar_style": "success",
            "description": "",
            "description_tooltip": null,
            "layout": "IPY_MODEL_5917d0a5a9e34f849467366e0d2297b1",
            "max": 481,
            "min": 0,
            "orientation": "horizontal",
            "style": "IPY_MODEL_77420297b7344ee09bca51d2955cf484",
            "value": 481
          }
        },
        "05d66b1fb9c94e7ba2c72169163f8fdf": {
          "model_module": "@jupyter-widgets/controls",
          "model_name": "HTMLModel",
          "model_module_version": "1.5.0",
          "state": {
            "_dom_classes": [],
            "_model_module": "@jupyter-widgets/controls",
            "_model_module_version": "1.5.0",
            "_model_name": "HTMLModel",
            "_view_count": null,
            "_view_module": "@jupyter-widgets/controls",
            "_view_module_version": "1.5.0",
            "_view_name": "HTMLView",
            "description": "",
            "description_tooltip": null,
            "layout": "IPY_MODEL_bbeaa72b09a94866a5daaefc54844177",
            "placeholder": "​",
            "style": "IPY_MODEL_adc55420c1304e65bd437eacfffc16a5",
            "value": " 481/481 [00:00&lt;00:00, 28.1kB/s]"
          }
        },
        "82158b9606004d2893ffc14e59dec07a": {
          "model_module": "@jupyter-widgets/base",
          "model_name": "LayoutModel",
          "model_module_version": "1.2.0",
          "state": {
            "_model_module": "@jupyter-widgets/base",
            "_model_module_version": "1.2.0",
            "_model_name": "LayoutModel",
            "_view_count": null,
            "_view_module": "@jupyter-widgets/base",
            "_view_module_version": "1.2.0",
            "_view_name": "LayoutView",
            "align_content": null,
            "align_items": null,
            "align_self": null,
            "border": null,
            "bottom": null,
            "display": null,
            "flex": null,
            "flex_flow": null,
            "grid_area": null,
            "grid_auto_columns": null,
            "grid_auto_flow": null,
            "grid_auto_rows": null,
            "grid_column": null,
            "grid_gap": null,
            "grid_row": null,
            "grid_template_areas": null,
            "grid_template_columns": null,
            "grid_template_rows": null,
            "height": null,
            "justify_content": null,
            "justify_items": null,
            "left": null,
            "margin": null,
            "max_height": null,
            "max_width": null,
            "min_height": null,
            "min_width": null,
            "object_fit": null,
            "object_position": null,
            "order": null,
            "overflow": null,
            "overflow_x": null,
            "overflow_y": null,
            "padding": null,
            "right": null,
            "top": null,
            "visibility": null,
            "width": null
          }
        },
        "2c638858a5d04fd3a454f06c5d923549": {
          "model_module": "@jupyter-widgets/base",
          "model_name": "LayoutModel",
          "model_module_version": "1.2.0",
          "state": {
            "_model_module": "@jupyter-widgets/base",
            "_model_module_version": "1.2.0",
            "_model_name": "LayoutModel",
            "_view_count": null,
            "_view_module": "@jupyter-widgets/base",
            "_view_module_version": "1.2.0",
            "_view_name": "LayoutView",
            "align_content": null,
            "align_items": null,
            "align_self": null,
            "border": null,
            "bottom": null,
            "display": null,
            "flex": null,
            "flex_flow": null,
            "grid_area": null,
            "grid_auto_columns": null,
            "grid_auto_flow": null,
            "grid_auto_rows": null,
            "grid_column": null,
            "grid_gap": null,
            "grid_row": null,
            "grid_template_areas": null,
            "grid_template_columns": null,
            "grid_template_rows": null,
            "height": null,
            "justify_content": null,
            "justify_items": null,
            "left": null,
            "margin": null,
            "max_height": null,
            "max_width": null,
            "min_height": null,
            "min_width": null,
            "object_fit": null,
            "object_position": null,
            "order": null,
            "overflow": null,
            "overflow_x": null,
            "overflow_y": null,
            "padding": null,
            "right": null,
            "top": null,
            "visibility": null,
            "width": null
          }
        },
        "9ddd297048a24f0982923af4a28cb6ee": {
          "model_module": "@jupyter-widgets/controls",
          "model_name": "DescriptionStyleModel",
          "model_module_version": "1.5.0",
          "state": {
            "_model_module": "@jupyter-widgets/controls",
            "_model_module_version": "1.5.0",
            "_model_name": "DescriptionStyleModel",
            "_view_count": null,
            "_view_module": "@jupyter-widgets/base",
            "_view_module_version": "1.2.0",
            "_view_name": "StyleView",
            "description_width": ""
          }
        },
        "5917d0a5a9e34f849467366e0d2297b1": {
          "model_module": "@jupyter-widgets/base",
          "model_name": "LayoutModel",
          "model_module_version": "1.2.0",
          "state": {
            "_model_module": "@jupyter-widgets/base",
            "_model_module_version": "1.2.0",
            "_model_name": "LayoutModel",
            "_view_count": null,
            "_view_module": "@jupyter-widgets/base",
            "_view_module_version": "1.2.0",
            "_view_name": "LayoutView",
            "align_content": null,
            "align_items": null,
            "align_self": null,
            "border": null,
            "bottom": null,
            "display": null,
            "flex": null,
            "flex_flow": null,
            "grid_area": null,
            "grid_auto_columns": null,
            "grid_auto_flow": null,
            "grid_auto_rows": null,
            "grid_column": null,
            "grid_gap": null,
            "grid_row": null,
            "grid_template_areas": null,
            "grid_template_columns": null,
            "grid_template_rows": null,
            "height": null,
            "justify_content": null,
            "justify_items": null,
            "left": null,
            "margin": null,
            "max_height": null,
            "max_width": null,
            "min_height": null,
            "min_width": null,
            "object_fit": null,
            "object_position": null,
            "order": null,
            "overflow": null,
            "overflow_x": null,
            "overflow_y": null,
            "padding": null,
            "right": null,
            "top": null,
            "visibility": null,
            "width": null
          }
        },
        "77420297b7344ee09bca51d2955cf484": {
          "model_module": "@jupyter-widgets/controls",
          "model_name": "ProgressStyleModel",
          "model_module_version": "1.5.0",
          "state": {
            "_model_module": "@jupyter-widgets/controls",
            "_model_module_version": "1.5.0",
            "_model_name": "ProgressStyleModel",
            "_view_count": null,
            "_view_module": "@jupyter-widgets/base",
            "_view_module_version": "1.2.0",
            "_view_name": "StyleView",
            "bar_color": null,
            "description_width": ""
          }
        },
        "bbeaa72b09a94866a5daaefc54844177": {
          "model_module": "@jupyter-widgets/base",
          "model_name": "LayoutModel",
          "model_module_version": "1.2.0",
          "state": {
            "_model_module": "@jupyter-widgets/base",
            "_model_module_version": "1.2.0",
            "_model_name": "LayoutModel",
            "_view_count": null,
            "_view_module": "@jupyter-widgets/base",
            "_view_module_version": "1.2.0",
            "_view_name": "LayoutView",
            "align_content": null,
            "align_items": null,
            "align_self": null,
            "border": null,
            "bottom": null,
            "display": null,
            "flex": null,
            "flex_flow": null,
            "grid_area": null,
            "grid_auto_columns": null,
            "grid_auto_flow": null,
            "grid_auto_rows": null,
            "grid_column": null,
            "grid_gap": null,
            "grid_row": null,
            "grid_template_areas": null,
            "grid_template_columns": null,
            "grid_template_rows": null,
            "height": null,
            "justify_content": null,
            "justify_items": null,
            "left": null,
            "margin": null,
            "max_height": null,
            "max_width": null,
            "min_height": null,
            "min_width": null,
            "object_fit": null,
            "object_position": null,
            "order": null,
            "overflow": null,
            "overflow_x": null,
            "overflow_y": null,
            "padding": null,
            "right": null,
            "top": null,
            "visibility": null,
            "width": null
          }
        },
        "adc55420c1304e65bd437eacfffc16a5": {
          "model_module": "@jupyter-widgets/controls",
          "model_name": "DescriptionStyleModel",
          "model_module_version": "1.5.0",
          "state": {
            "_model_module": "@jupyter-widgets/controls",
            "_model_module_version": "1.5.0",
            "_model_name": "DescriptionStyleModel",
            "_view_count": null,
            "_view_module": "@jupyter-widgets/base",
            "_view_module_version": "1.2.0",
            "_view_name": "StyleView",
            "description_width": ""
          }
        },
        "505247cc442c4e899a6266d785088411": {
          "model_module": "@jupyter-widgets/controls",
          "model_name": "HBoxModel",
          "model_module_version": "1.5.0",
          "state": {
            "_dom_classes": [],
            "_model_module": "@jupyter-widgets/controls",
            "_model_module_version": "1.5.0",
            "_model_name": "HBoxModel",
            "_view_count": null,
            "_view_module": "@jupyter-widgets/controls",
            "_view_module_version": "1.5.0",
            "_view_name": "HBoxView",
            "box_style": "",
            "children": [
              "IPY_MODEL_81b1e36f8c09451cb68fafb0ab6937ba",
              "IPY_MODEL_1a412ec0653149cc9f3a87b8c53dbf35",
              "IPY_MODEL_b7192511898b49a1b77f274202a7ffdd"
            ],
            "layout": "IPY_MODEL_97927f3ef07543b7a24ab95e5abcad01"
          }
        },
        "81b1e36f8c09451cb68fafb0ab6937ba": {
          "model_module": "@jupyter-widgets/controls",
          "model_name": "HTMLModel",
          "model_module_version": "1.5.0",
          "state": {
            "_dom_classes": [],
            "_model_module": "@jupyter-widgets/controls",
            "_model_module_version": "1.5.0",
            "_model_name": "HTMLModel",
            "_view_count": null,
            "_view_module": "@jupyter-widgets/controls",
            "_view_module_version": "1.5.0",
            "_view_name": "HTMLView",
            "description": "",
            "description_tooltip": null,
            "layout": "IPY_MODEL_6a48919924e64ba799392d4b9dcc3173",
            "placeholder": "​",
            "style": "IPY_MODEL_e79638a8d4e64850b08da912062a6801",
            "value": "Downloading (…)&quot;tf_model.h5&quot;;: 100%"
          }
        },
        "1a412ec0653149cc9f3a87b8c53dbf35": {
          "model_module": "@jupyter-widgets/controls",
          "model_name": "FloatProgressModel",
          "model_module_version": "1.5.0",
          "state": {
            "_dom_classes": [],
            "_model_module": "@jupyter-widgets/controls",
            "_model_module_version": "1.5.0",
            "_model_name": "FloatProgressModel",
            "_view_count": null,
            "_view_module": "@jupyter-widgets/controls",
            "_view_module_version": "1.5.0",
            "_view_name": "ProgressView",
            "bar_style": "success",
            "description": "",
            "description_tooltip": null,
            "layout": "IPY_MODEL_27434947c5cc428793eabdb44c94234c",
            "max": 657434796,
            "min": 0,
            "orientation": "horizontal",
            "style": "IPY_MODEL_1f94ec4a7a1d4cf082cfffa457579bd5",
            "value": 657434796
          }
        },
        "b7192511898b49a1b77f274202a7ffdd": {
          "model_module": "@jupyter-widgets/controls",
          "model_name": "HTMLModel",
          "model_module_version": "1.5.0",
          "state": {
            "_dom_classes": [],
            "_model_module": "@jupyter-widgets/controls",
            "_model_module_version": "1.5.0",
            "_model_name": "HTMLModel",
            "_view_count": null,
            "_view_module": "@jupyter-widgets/controls",
            "_view_module_version": "1.5.0",
            "_view_name": "HTMLView",
            "description": "",
            "description_tooltip": null,
            "layout": "IPY_MODEL_02b8973ad5c247939e4e2891d592ab26",
            "placeholder": "​",
            "style": "IPY_MODEL_c86516189da54345b66a9a2694616701",
            "value": " 657M/657M [00:05&lt;00:00, 130MB/s]"
          }
        },
        "97927f3ef07543b7a24ab95e5abcad01": {
          "model_module": "@jupyter-widgets/base",
          "model_name": "LayoutModel",
          "model_module_version": "1.2.0",
          "state": {
            "_model_module": "@jupyter-widgets/base",
            "_model_module_version": "1.2.0",
            "_model_name": "LayoutModel",
            "_view_count": null,
            "_view_module": "@jupyter-widgets/base",
            "_view_module_version": "1.2.0",
            "_view_name": "LayoutView",
            "align_content": null,
            "align_items": null,
            "align_self": null,
            "border": null,
            "bottom": null,
            "display": null,
            "flex": null,
            "flex_flow": null,
            "grid_area": null,
            "grid_auto_columns": null,
            "grid_auto_flow": null,
            "grid_auto_rows": null,
            "grid_column": null,
            "grid_gap": null,
            "grid_row": null,
            "grid_template_areas": null,
            "grid_template_columns": null,
            "grid_template_rows": null,
            "height": null,
            "justify_content": null,
            "justify_items": null,
            "left": null,
            "margin": null,
            "max_height": null,
            "max_width": null,
            "min_height": null,
            "min_width": null,
            "object_fit": null,
            "object_position": null,
            "order": null,
            "overflow": null,
            "overflow_x": null,
            "overflow_y": null,
            "padding": null,
            "right": null,
            "top": null,
            "visibility": null,
            "width": null
          }
        },
        "6a48919924e64ba799392d4b9dcc3173": {
          "model_module": "@jupyter-widgets/base",
          "model_name": "LayoutModel",
          "model_module_version": "1.2.0",
          "state": {
            "_model_module": "@jupyter-widgets/base",
            "_model_module_version": "1.2.0",
            "_model_name": "LayoutModel",
            "_view_count": null,
            "_view_module": "@jupyter-widgets/base",
            "_view_module_version": "1.2.0",
            "_view_name": "LayoutView",
            "align_content": null,
            "align_items": null,
            "align_self": null,
            "border": null,
            "bottom": null,
            "display": null,
            "flex": null,
            "flex_flow": null,
            "grid_area": null,
            "grid_auto_columns": null,
            "grid_auto_flow": null,
            "grid_auto_rows": null,
            "grid_column": null,
            "grid_gap": null,
            "grid_row": null,
            "grid_template_areas": null,
            "grid_template_columns": null,
            "grid_template_rows": null,
            "height": null,
            "justify_content": null,
            "justify_items": null,
            "left": null,
            "margin": null,
            "max_height": null,
            "max_width": null,
            "min_height": null,
            "min_width": null,
            "object_fit": null,
            "object_position": null,
            "order": null,
            "overflow": null,
            "overflow_x": null,
            "overflow_y": null,
            "padding": null,
            "right": null,
            "top": null,
            "visibility": null,
            "width": null
          }
        },
        "e79638a8d4e64850b08da912062a6801": {
          "model_module": "@jupyter-widgets/controls",
          "model_name": "DescriptionStyleModel",
          "model_module_version": "1.5.0",
          "state": {
            "_model_module": "@jupyter-widgets/controls",
            "_model_module_version": "1.5.0",
            "_model_name": "DescriptionStyleModel",
            "_view_count": null,
            "_view_module": "@jupyter-widgets/base",
            "_view_module_version": "1.2.0",
            "_view_name": "StyleView",
            "description_width": ""
          }
        },
        "27434947c5cc428793eabdb44c94234c": {
          "model_module": "@jupyter-widgets/base",
          "model_name": "LayoutModel",
          "model_module_version": "1.2.0",
          "state": {
            "_model_module": "@jupyter-widgets/base",
            "_model_module_version": "1.2.0",
            "_model_name": "LayoutModel",
            "_view_count": null,
            "_view_module": "@jupyter-widgets/base",
            "_view_module_version": "1.2.0",
            "_view_name": "LayoutView",
            "align_content": null,
            "align_items": null,
            "align_self": null,
            "border": null,
            "bottom": null,
            "display": null,
            "flex": null,
            "flex_flow": null,
            "grid_area": null,
            "grid_auto_columns": null,
            "grid_auto_flow": null,
            "grid_auto_rows": null,
            "grid_column": null,
            "grid_gap": null,
            "grid_row": null,
            "grid_template_areas": null,
            "grid_template_columns": null,
            "grid_template_rows": null,
            "height": null,
            "justify_content": null,
            "justify_items": null,
            "left": null,
            "margin": null,
            "max_height": null,
            "max_width": null,
            "min_height": null,
            "min_width": null,
            "object_fit": null,
            "object_position": null,
            "order": null,
            "overflow": null,
            "overflow_x": null,
            "overflow_y": null,
            "padding": null,
            "right": null,
            "top": null,
            "visibility": null,
            "width": null
          }
        },
        "1f94ec4a7a1d4cf082cfffa457579bd5": {
          "model_module": "@jupyter-widgets/controls",
          "model_name": "ProgressStyleModel",
          "model_module_version": "1.5.0",
          "state": {
            "_model_module": "@jupyter-widgets/controls",
            "_model_module_version": "1.5.0",
            "_model_name": "ProgressStyleModel",
            "_view_count": null,
            "_view_module": "@jupyter-widgets/base",
            "_view_module_version": "1.2.0",
            "_view_name": "StyleView",
            "bar_color": null,
            "description_width": ""
          }
        },
        "02b8973ad5c247939e4e2891d592ab26": {
          "model_module": "@jupyter-widgets/base",
          "model_name": "LayoutModel",
          "model_module_version": "1.2.0",
          "state": {
            "_model_module": "@jupyter-widgets/base",
            "_model_module_version": "1.2.0",
            "_model_name": "LayoutModel",
            "_view_count": null,
            "_view_module": "@jupyter-widgets/base",
            "_view_module_version": "1.2.0",
            "_view_name": "LayoutView",
            "align_content": null,
            "align_items": null,
            "align_self": null,
            "border": null,
            "bottom": null,
            "display": null,
            "flex": null,
            "flex_flow": null,
            "grid_area": null,
            "grid_auto_columns": null,
            "grid_auto_flow": null,
            "grid_auto_rows": null,
            "grid_column": null,
            "grid_gap": null,
            "grid_row": null,
            "grid_template_areas": null,
            "grid_template_columns": null,
            "grid_template_rows": null,
            "height": null,
            "justify_content": null,
            "justify_items": null,
            "left": null,
            "margin": null,
            "max_height": null,
            "max_width": null,
            "min_height": null,
            "min_width": null,
            "object_fit": null,
            "object_position": null,
            "order": null,
            "overflow": null,
            "overflow_x": null,
            "overflow_y": null,
            "padding": null,
            "right": null,
            "top": null,
            "visibility": null,
            "width": null
          }
        },
        "c86516189da54345b66a9a2694616701": {
          "model_module": "@jupyter-widgets/controls",
          "model_name": "DescriptionStyleModel",
          "model_module_version": "1.5.0",
          "state": {
            "_model_module": "@jupyter-widgets/controls",
            "_model_module_version": "1.5.0",
            "_model_name": "DescriptionStyleModel",
            "_view_count": null,
            "_view_module": "@jupyter-widgets/base",
            "_view_module_version": "1.2.0",
            "_view_name": "StyleView",
            "description_width": ""
          }
        }
      }
    }
  },
  "cells": [
    {
      "cell_type": "code",
      "source": [
        "from google.colab import drive\n",
        "drive.mount('/content/drive/')"
      ],
      "metadata": {
        "_uuid": "8f2839f25d086af736a60e9eeb907d3b93b6e0e5",
        "_cell_guid": "b1076dfc-b9ad-4769-8c92-a6c4dae69d19",
        "_kg_hide-input": true,
        "execution": {
          "iopub.status.busy": "2023-02-10T16:02:30.771361Z",
          "iopub.execute_input": "2023-02-10T16:02:30.771667Z",
          "iopub.status.idle": "2023-02-10T16:02:30.808828Z",
          "shell.execute_reply.started": "2023-02-10T16:02:30.771585Z",
          "shell.execute_reply": "2023-02-10T16:02:30.808114Z"
        },
        "trusted": true,
        "colab": {
          "base_uri": "https://localhost:8080/"
        },
        "id": "pwjllrtVF_oC",
        "outputId": "5fddfd3e-f90a-418e-ed08-ed0973e335ca"
      },
      "execution_count": null,
      "outputs": [
        {
          "output_type": "stream",
          "name": "stdout",
          "text": [
            "Mounted at /content/drive/\n"
          ]
        }
      ]
    },
    {
      "cell_type": "code",
      "source": [
        "!pip install transformers"
      ],
      "metadata": {
        "colab": {
          "base_uri": "https://localhost:8080/"
        },
        "id": "1f8cqSxZHMLe",
        "outputId": "f3de5d04-9d44-4f2b-f6d9-f1121c334259"
      },
      "execution_count": null,
      "outputs": [
        {
          "output_type": "stream",
          "name": "stdout",
          "text": [
            "Looking in indexes: https://pypi.org/simple, https://us-python.pkg.dev/colab-wheels/public/simple/\n",
            "Collecting transformers\n",
            "  Downloading transformers-4.26.1-py3-none-any.whl (6.3 MB)\n",
            "\u001b[2K     \u001b[90m━━━━━━━━━━━━━━━━━━━━━━━━━━━━━━━━━━━━━━━━\u001b[0m \u001b[32m6.3/6.3 MB\u001b[0m \u001b[31m83.4 MB/s\u001b[0m eta \u001b[36m0:00:00\u001b[0m\n",
            "\u001b[?25hRequirement already satisfied: tqdm>=4.27 in /usr/local/lib/python3.8/dist-packages (from transformers) (4.64.1)\n",
            "Requirement already satisfied: regex!=2019.12.17 in /usr/local/lib/python3.8/dist-packages (from transformers) (2022.6.2)\n",
            "Collecting tokenizers!=0.11.3,<0.14,>=0.11.1\n",
            "  Downloading tokenizers-0.13.2-cp38-cp38-manylinux_2_17_x86_64.manylinux2014_x86_64.whl (7.6 MB)\n",
            "\u001b[2K     \u001b[90m━━━━━━━━━━━━━━━━━━━━━━━━━━━━━━━━━━━━━━━━\u001b[0m \u001b[32m7.6/7.6 MB\u001b[0m \u001b[31m105.4 MB/s\u001b[0m eta \u001b[36m0:00:00\u001b[0m\n",
            "\u001b[?25hRequirement already satisfied: numpy>=1.17 in /usr/local/lib/python3.8/dist-packages (from transformers) (1.21.6)\n",
            "Requirement already satisfied: requests in /usr/local/lib/python3.8/dist-packages (from transformers) (2.25.1)\n",
            "Requirement already satisfied: pyyaml>=5.1 in /usr/local/lib/python3.8/dist-packages (from transformers) (6.0)\n",
            "Requirement already satisfied: filelock in /usr/local/lib/python3.8/dist-packages (from transformers) (3.9.0)\n",
            "Requirement already satisfied: packaging>=20.0 in /usr/local/lib/python3.8/dist-packages (from transformers) (23.0)\n",
            "Collecting huggingface-hub<1.0,>=0.11.0\n",
            "  Downloading huggingface_hub-0.12.0-py3-none-any.whl (190 kB)\n",
            "\u001b[2K     \u001b[90m━━━━━━━━━━━━━━━━━━━━━━━━━━━━━━━━━━━━━━\u001b[0m \u001b[32m190.3/190.3 KB\u001b[0m \u001b[31m28.3 MB/s\u001b[0m eta \u001b[36m0:00:00\u001b[0m\n",
            "\u001b[?25hRequirement already satisfied: typing-extensions>=3.7.4.3 in /usr/local/lib/python3.8/dist-packages (from huggingface-hub<1.0,>=0.11.0->transformers) (4.4.0)\n",
            "Requirement already satisfied: certifi>=2017.4.17 in /usr/local/lib/python3.8/dist-packages (from requests->transformers) (2022.12.7)\n",
            "Requirement already satisfied: chardet<5,>=3.0.2 in /usr/local/lib/python3.8/dist-packages (from requests->transformers) (4.0.0)\n",
            "Requirement already satisfied: idna<3,>=2.5 in /usr/local/lib/python3.8/dist-packages (from requests->transformers) (2.10)\n",
            "Requirement already satisfied: urllib3<1.27,>=1.21.1 in /usr/local/lib/python3.8/dist-packages (from requests->transformers) (1.24.3)\n",
            "Installing collected packages: tokenizers, huggingface-hub, transformers\n",
            "Successfully installed huggingface-hub-0.12.0 tokenizers-0.13.2 transformers-4.26.1\n"
          ]
        }
      ]
    },
    {
      "cell_type": "code",
      "source": [
        "#general purpose packages\n",
        "import numpy as np\n",
        "import pandas as pd\n",
        "import tensorflow as tf\n",
        "import matplotlib.pyplot as plt\n",
        "import seaborn as sns\n",
        "\n",
        "#data processing\n",
        "import re, string\n",
        "import nltk\n",
        "\n",
        "from sklearn import preprocessing\n",
        "from imblearn.over_sampling import RandomOverSampler\n",
        "from sklearn.model_selection import train_test_split\n",
        "\n",
        "\n",
        "#Naive Bayes\n",
        "from sklearn.feature_extraction.text import CountVectorizer\n",
        "from sklearn.feature_extraction.text import TfidfTransformer\n",
        "from sklearn.naive_bayes import MultinomialNB\n",
        "\n",
        "#transformers\n",
        "from transformers import BertTokenizerFast\n",
        "from transformers import TFBertModel\n",
        "from transformers import RobertaTokenizerFast\n",
        "from transformers import TFRobertaModel\n",
        "\n",
        "from transformers import AutoModelForSequenceClassification\n",
        "from transformers import TFAutoModelForSequenceClassification\n",
        "from transformers import AutoTokenizer\n",
        "\n",
        "#keras\n",
        "import tensorflow as tf\n",
        "from tensorflow import keras\n",
        "\n",
        "\n",
        "#metrics\n",
        "from sklearn.metrics import accuracy_score, f1_score\n",
        "from sklearn.metrics import classification_report, confusion_matrix\n",
        "\n",
        "#set seed for reproducibility\n",
        "seed=42\n",
        "\n",
        "#set style for plots\n",
        "sns.set_style(\"whitegrid\")\n",
        "sns.despine()\n",
        "plt.style.use(\"seaborn-whitegrid\")\n",
        "plt.rc(\"figure\", autolayout=True)\n",
        "plt.rc(\"axes\", labelweight=\"bold\", labelsize=\"large\", titleweight=\"bold\", titlepad=10)\n"
      ],
      "metadata": {
        "execution": {
          "iopub.status.busy": "2023-02-10T16:02:44.420848Z",
          "iopub.execute_input": "2023-02-10T16:02:44.421109Z",
          "iopub.status.idle": "2023-02-10T16:02:52.793798Z",
          "shell.execute_reply.started": "2023-02-10T16:02:44.421080Z",
          "shell.execute_reply": "2023-02-10T16:02:52.793096Z"
        },
        "trusted": true,
        "colab": {
          "base_uri": "https://localhost:8080/",
          "height": 35
        },
        "id": "7iqt7n0tF_oI",
        "outputId": "9de0c75b-c3e3-40ff-f049-9374e0575dc4"
      },
      "execution_count": null,
      "outputs": [
        {
          "output_type": "display_data",
          "data": {
            "text/plain": [
              "<Figure size 432x288 with 0 Axes>"
            ]
          },
          "metadata": {}
        }
      ]
    },
    {
      "cell_type": "markdown",
      "source": [
        "## Custom functions definition:"
      ],
      "metadata": {
        "id": "NbO6JbNoF_oL"
      }
    },
    {
      "cell_type": "code",
      "source": [
        "def conf_matrix(y, y_pred, title):\n",
        "    fig, ax =plt.subplots(figsize=(5,5))\n",
        "    labels=['Negative', 'Neutral', 'Positive']\n",
        "    ax=sns.heatmap(confusion_matrix(y, y_pred), annot=True, cmap=\"Blues\", fmt='g', cbar=False, annot_kws={\"size\":25})\n",
        "    plt.title(title, fontsize=20)\n",
        "    ax.xaxis.set_ticklabels(labels, fontsize=17) \n",
        "    ax.yaxis.set_ticklabels(labels, fontsize=17)\n",
        "    ax.set_ylabel('Test', fontsize=20)\n",
        "    ax.set_xlabel('Predicted', fontsize=20)\n",
        "    plt.show()"
      ],
      "metadata": {
        "_kg_hide-input": true,
        "execution": {
          "iopub.status.busy": "2023-02-10T16:02:59.385902Z",
          "iopub.execute_input": "2023-02-10T16:02:59.386164Z",
          "iopub.status.idle": "2023-02-10T16:02:59.393027Z",
          "shell.execute_reply.started": "2023-02-10T16:02:59.386134Z",
          "shell.execute_reply": "2023-02-10T16:02:59.392276Z"
        },
        "trusted": true,
        "id": "T6E865n4F_oM"
      },
      "execution_count": null,
      "outputs": []
    },
    {
      "cell_type": "markdown",
      "source": [
        "# Loading the data"
      ],
      "metadata": {
        "id": "ryF8VBtfF_oO"
      }
    },
    {
      "cell_type": "code",
      "source": [
        "dff = pd.read_csv('/content/drive/MyDrive/Models/annotated_3cat_3_random.csv')"
      ],
      "metadata": {
        "execution": {
          "iopub.status.busy": "2023-02-10T16:03:45.659904Z",
          "iopub.execute_input": "2023-02-10T16:03:45.660165Z",
          "iopub.status.idle": "2023-02-10T16:03:45.737525Z",
          "shell.execute_reply.started": "2023-02-10T16:03:45.660136Z",
          "shell.execute_reply": "2023-02-10T16:03:45.736700Z"
        },
        "trusted": true,
        "id": "4EeBIoBBF_oO"
      },
      "execution_count": null,
      "outputs": []
    },
    {
      "cell_type": "code",
      "source": [
        "dff.dropna(inplace=True)\n",
        "dff"
      ],
      "metadata": {
        "colab": {
          "base_uri": "https://localhost:8080/",
          "height": 423
        },
        "id": "qCid_h2qICd9",
        "outputId": "b9e04d29-dee3-4f71-dac8-7a8631054c68"
      },
      "execution_count": null,
      "outputs": [
        {
          "output_type": "execute_result",
          "data": {
            "text/plain": [
              "                                                    text Sentiment\n",
              "0      Bitcoin is unfolding like the dot com crash ju...   Neutral\n",
              "1      XEM Price is 0 00003330 0 00000044 BTC 0 28641...  Negative\n",
              "2      RT Bitcoin daily snapshot 24hr CHANGE 6 4 OUTL...   Neutral\n",
              "3      Dutch Court Finds Bitcoin A Legitimate Transfe...   Neutral\n",
              "4      BTC STEEM AskRate 0 00024274 Bittrex STEEM STE...  Positive\n",
              "...                                                  ...       ...\n",
              "25098  The Image MASSter Solo 101 Forensic Hard Drive...  Negative\n",
              "25099  Buy Bitcoin Bitcoin Cash Monero Zcash or Litec...  Positive\n",
              "25100  In April 2016 computer technicians at the Demo...   Neutral\n",
              "25101  The Gentlemen of Crypto EP 129 Bitcoin Blackli...   Neutral\n",
              "25102  Follow this private group before they close fr...  Negative\n",
              "\n",
              "[25101 rows x 2 columns]"
            ],
            "text/html": [
              "\n",
              "  <div id=\"df-122719a2-2d34-46bc-926c-41851df68d94\">\n",
              "    <div class=\"colab-df-container\">\n",
              "      <div>\n",
              "<style scoped>\n",
              "    .dataframe tbody tr th:only-of-type {\n",
              "        vertical-align: middle;\n",
              "    }\n",
              "\n",
              "    .dataframe tbody tr th {\n",
              "        vertical-align: top;\n",
              "    }\n",
              "\n",
              "    .dataframe thead th {\n",
              "        text-align: right;\n",
              "    }\n",
              "</style>\n",
              "<table border=\"1\" class=\"dataframe\">\n",
              "  <thead>\n",
              "    <tr style=\"text-align: right;\">\n",
              "      <th></th>\n",
              "      <th>text</th>\n",
              "      <th>Sentiment</th>\n",
              "    </tr>\n",
              "  </thead>\n",
              "  <tbody>\n",
              "    <tr>\n",
              "      <th>0</th>\n",
              "      <td>Bitcoin is unfolding like the dot com crash ju...</td>\n",
              "      <td>Neutral</td>\n",
              "    </tr>\n",
              "    <tr>\n",
              "      <th>1</th>\n",
              "      <td>XEM Price is 0 00003330 0 00000044 BTC 0 28641...</td>\n",
              "      <td>Negative</td>\n",
              "    </tr>\n",
              "    <tr>\n",
              "      <th>2</th>\n",
              "      <td>RT Bitcoin daily snapshot 24hr CHANGE 6 4 OUTL...</td>\n",
              "      <td>Neutral</td>\n",
              "    </tr>\n",
              "    <tr>\n",
              "      <th>3</th>\n",
              "      <td>Dutch Court Finds Bitcoin A Legitimate Transfe...</td>\n",
              "      <td>Neutral</td>\n",
              "    </tr>\n",
              "    <tr>\n",
              "      <th>4</th>\n",
              "      <td>BTC STEEM AskRate 0 00024274 Bittrex STEEM STE...</td>\n",
              "      <td>Positive</td>\n",
              "    </tr>\n",
              "    <tr>\n",
              "      <th>...</th>\n",
              "      <td>...</td>\n",
              "      <td>...</td>\n",
              "    </tr>\n",
              "    <tr>\n",
              "      <th>25098</th>\n",
              "      <td>The Image MASSter Solo 101 Forensic Hard Drive...</td>\n",
              "      <td>Negative</td>\n",
              "    </tr>\n",
              "    <tr>\n",
              "      <th>25099</th>\n",
              "      <td>Buy Bitcoin Bitcoin Cash Monero Zcash or Litec...</td>\n",
              "      <td>Positive</td>\n",
              "    </tr>\n",
              "    <tr>\n",
              "      <th>25100</th>\n",
              "      <td>In April 2016 computer technicians at the Demo...</td>\n",
              "      <td>Neutral</td>\n",
              "    </tr>\n",
              "    <tr>\n",
              "      <th>25101</th>\n",
              "      <td>The Gentlemen of Crypto EP 129 Bitcoin Blackli...</td>\n",
              "      <td>Neutral</td>\n",
              "    </tr>\n",
              "    <tr>\n",
              "      <th>25102</th>\n",
              "      <td>Follow this private group before they close fr...</td>\n",
              "      <td>Negative</td>\n",
              "    </tr>\n",
              "  </tbody>\n",
              "</table>\n",
              "<p>25101 rows × 2 columns</p>\n",
              "</div>\n",
              "      <button class=\"colab-df-convert\" onclick=\"convertToInteractive('df-122719a2-2d34-46bc-926c-41851df68d94')\"\n",
              "              title=\"Convert this dataframe to an interactive table.\"\n",
              "              style=\"display:none;\">\n",
              "        \n",
              "  <svg xmlns=\"http://www.w3.org/2000/svg\" height=\"24px\"viewBox=\"0 0 24 24\"\n",
              "       width=\"24px\">\n",
              "    <path d=\"M0 0h24v24H0V0z\" fill=\"none\"/>\n",
              "    <path d=\"M18.56 5.44l.94 2.06.94-2.06 2.06-.94-2.06-.94-.94-2.06-.94 2.06-2.06.94zm-11 1L8.5 8.5l.94-2.06 2.06-.94-2.06-.94L8.5 2.5l-.94 2.06-2.06.94zm10 10l.94 2.06.94-2.06 2.06-.94-2.06-.94-.94-2.06-.94 2.06-2.06.94z\"/><path d=\"M17.41 7.96l-1.37-1.37c-.4-.4-.92-.59-1.43-.59-.52 0-1.04.2-1.43.59L10.3 9.45l-7.72 7.72c-.78.78-.78 2.05 0 2.83L4 21.41c.39.39.9.59 1.41.59.51 0 1.02-.2 1.41-.59l7.78-7.78 2.81-2.81c.8-.78.8-2.07 0-2.86zM5.41 20L4 18.59l7.72-7.72 1.47 1.35L5.41 20z\"/>\n",
              "  </svg>\n",
              "      </button>\n",
              "      \n",
              "  <style>\n",
              "    .colab-df-container {\n",
              "      display:flex;\n",
              "      flex-wrap:wrap;\n",
              "      gap: 12px;\n",
              "    }\n",
              "\n",
              "    .colab-df-convert {\n",
              "      background-color: #E8F0FE;\n",
              "      border: none;\n",
              "      border-radius: 50%;\n",
              "      cursor: pointer;\n",
              "      display: none;\n",
              "      fill: #1967D2;\n",
              "      height: 32px;\n",
              "      padding: 0 0 0 0;\n",
              "      width: 32px;\n",
              "    }\n",
              "\n",
              "    .colab-df-convert:hover {\n",
              "      background-color: #E2EBFA;\n",
              "      box-shadow: 0px 1px 2px rgba(60, 64, 67, 0.3), 0px 1px 3px 1px rgba(60, 64, 67, 0.15);\n",
              "      fill: #174EA6;\n",
              "    }\n",
              "\n",
              "    [theme=dark] .colab-df-convert {\n",
              "      background-color: #3B4455;\n",
              "      fill: #D2E3FC;\n",
              "    }\n",
              "\n",
              "    [theme=dark] .colab-df-convert:hover {\n",
              "      background-color: #434B5C;\n",
              "      box-shadow: 0px 1px 3px 1px rgba(0, 0, 0, 0.15);\n",
              "      filter: drop-shadow(0px 1px 2px rgba(0, 0, 0, 0.3));\n",
              "      fill: #FFFFFF;\n",
              "    }\n",
              "  </style>\n",
              "\n",
              "      <script>\n",
              "        const buttonEl =\n",
              "          document.querySelector('#df-122719a2-2d34-46bc-926c-41851df68d94 button.colab-df-convert');\n",
              "        buttonEl.style.display =\n",
              "          google.colab.kernel.accessAllowed ? 'block' : 'none';\n",
              "\n",
              "        async function convertToInteractive(key) {\n",
              "          const element = document.querySelector('#df-122719a2-2d34-46bc-926c-41851df68d94');\n",
              "          const dataTable =\n",
              "            await google.colab.kernel.invokeFunction('convertToInteractive',\n",
              "                                                     [key], {});\n",
              "          if (!dataTable) return;\n",
              "\n",
              "          const docLinkHtml = 'Like what you see? Visit the ' +\n",
              "            '<a target=\"_blank\" href=https://colab.research.google.com/notebooks/data_table.ipynb>data table notebook</a>'\n",
              "            + ' to learn more about interactive tables.';\n",
              "          element.innerHTML = '';\n",
              "          dataTable['output_type'] = 'display_data';\n",
              "          await google.colab.output.renderOutput(dataTable, element);\n",
              "          const docLink = document.createElement('div');\n",
              "          docLink.innerHTML = docLinkHtml;\n",
              "          element.appendChild(docLink);\n",
              "        }\n",
              "      </script>\n",
              "    </div>\n",
              "  </div>\n",
              "  "
            ]
          },
          "metadata": {},
          "execution_count": 6
        }
      ]
    },
    {
      "cell_type": "code",
      "source": [
        "df, df_test = train_test_split(dff, random_state=42, test_size=0.1)"
      ],
      "metadata": {
        "id": "5QPUwSKWGsst"
      },
      "execution_count": null,
      "outputs": []
    },
    {
      "cell_type": "code",
      "source": [
        "df"
      ],
      "metadata": {
        "execution": {
          "iopub.status.busy": "2023-02-10T16:03:51.408692Z",
          "iopub.execute_input": "2023-02-10T16:03:51.408948Z",
          "iopub.status.idle": "2023-02-10T16:03:51.425219Z",
          "shell.execute_reply.started": "2023-02-10T16:03:51.408920Z",
          "shell.execute_reply": "2023-02-10T16:03:51.424259Z"
        },
        "trusted": true,
        "colab": {
          "base_uri": "https://localhost:8080/",
          "height": 423
        },
        "id": "2a9zNpLqF_oQ",
        "outputId": "39e4c7dd-1a9b-4acb-b364-aae2cbb6c13b"
      },
      "execution_count": null,
      "outputs": [
        {
          "output_type": "execute_result",
          "data": {
            "text/plain": [
              "                                                    text Sentiment\n",
              "16432  RT A new survey of Americans has shown that cr...  Positive\n",
              "7614                                            Fantatic   Neutral\n",
              "3789   64 How to get started with google adsense affi...   Neutral\n",
              "24483  RT New post Leaked Documents Reveals NSA Attem...  Positive\n",
              "18080   AtlantaCyberAttack WHAT IN THE WORLD IS GOING ON   Neutral\n",
              "...                                                  ...       ...\n",
              "21576                                               Also  Negative\n",
              "5391   RT Japan s electric power provider partnered w...   Neutral\n",
              "860    Bitcoin BTG OFFICIAL Bitcoin Gold go becomes p...  Positive\n",
              "15796  Block Number 577 049 Time 5 21 2019 7 13 14 AM...  Negative\n",
              "23656  RT Our Announcement of payment integration blo...   Neutral\n",
              "\n",
              "[22590 rows x 2 columns]"
            ],
            "text/html": [
              "\n",
              "  <div id=\"df-20e52840-4200-46ed-a0e9-db645cab2c7b\">\n",
              "    <div class=\"colab-df-container\">\n",
              "      <div>\n",
              "<style scoped>\n",
              "    .dataframe tbody tr th:only-of-type {\n",
              "        vertical-align: middle;\n",
              "    }\n",
              "\n",
              "    .dataframe tbody tr th {\n",
              "        vertical-align: top;\n",
              "    }\n",
              "\n",
              "    .dataframe thead th {\n",
              "        text-align: right;\n",
              "    }\n",
              "</style>\n",
              "<table border=\"1\" class=\"dataframe\">\n",
              "  <thead>\n",
              "    <tr style=\"text-align: right;\">\n",
              "      <th></th>\n",
              "      <th>text</th>\n",
              "      <th>Sentiment</th>\n",
              "    </tr>\n",
              "  </thead>\n",
              "  <tbody>\n",
              "    <tr>\n",
              "      <th>16432</th>\n",
              "      <td>RT A new survey of Americans has shown that cr...</td>\n",
              "      <td>Positive</td>\n",
              "    </tr>\n",
              "    <tr>\n",
              "      <th>7614</th>\n",
              "      <td>Fantatic</td>\n",
              "      <td>Neutral</td>\n",
              "    </tr>\n",
              "    <tr>\n",
              "      <th>3789</th>\n",
              "      <td>64 How to get started with google adsense affi...</td>\n",
              "      <td>Neutral</td>\n",
              "    </tr>\n",
              "    <tr>\n",
              "      <th>24483</th>\n",
              "      <td>RT New post Leaked Documents Reveals NSA Attem...</td>\n",
              "      <td>Positive</td>\n",
              "    </tr>\n",
              "    <tr>\n",
              "      <th>18080</th>\n",
              "      <td>AtlantaCyberAttack WHAT IN THE WORLD IS GOING ON</td>\n",
              "      <td>Neutral</td>\n",
              "    </tr>\n",
              "    <tr>\n",
              "      <th>...</th>\n",
              "      <td>...</td>\n",
              "      <td>...</td>\n",
              "    </tr>\n",
              "    <tr>\n",
              "      <th>21576</th>\n",
              "      <td>Also</td>\n",
              "      <td>Negative</td>\n",
              "    </tr>\n",
              "    <tr>\n",
              "      <th>5391</th>\n",
              "      <td>RT Japan s electric power provider partnered w...</td>\n",
              "      <td>Neutral</td>\n",
              "    </tr>\n",
              "    <tr>\n",
              "      <th>860</th>\n",
              "      <td>Bitcoin BTG OFFICIAL Bitcoin Gold go becomes p...</td>\n",
              "      <td>Positive</td>\n",
              "    </tr>\n",
              "    <tr>\n",
              "      <th>15796</th>\n",
              "      <td>Block Number 577 049 Time 5 21 2019 7 13 14 AM...</td>\n",
              "      <td>Negative</td>\n",
              "    </tr>\n",
              "    <tr>\n",
              "      <th>23656</th>\n",
              "      <td>RT Our Announcement of payment integration blo...</td>\n",
              "      <td>Neutral</td>\n",
              "    </tr>\n",
              "  </tbody>\n",
              "</table>\n",
              "<p>22590 rows × 2 columns</p>\n",
              "</div>\n",
              "      <button class=\"colab-df-convert\" onclick=\"convertToInteractive('df-20e52840-4200-46ed-a0e9-db645cab2c7b')\"\n",
              "              title=\"Convert this dataframe to an interactive table.\"\n",
              "              style=\"display:none;\">\n",
              "        \n",
              "  <svg xmlns=\"http://www.w3.org/2000/svg\" height=\"24px\"viewBox=\"0 0 24 24\"\n",
              "       width=\"24px\">\n",
              "    <path d=\"M0 0h24v24H0V0z\" fill=\"none\"/>\n",
              "    <path d=\"M18.56 5.44l.94 2.06.94-2.06 2.06-.94-2.06-.94-.94-2.06-.94 2.06-2.06.94zm-11 1L8.5 8.5l.94-2.06 2.06-.94-2.06-.94L8.5 2.5l-.94 2.06-2.06.94zm10 10l.94 2.06.94-2.06 2.06-.94-2.06-.94-.94-2.06-.94 2.06-2.06.94z\"/><path d=\"M17.41 7.96l-1.37-1.37c-.4-.4-.92-.59-1.43-.59-.52 0-1.04.2-1.43.59L10.3 9.45l-7.72 7.72c-.78.78-.78 2.05 0 2.83L4 21.41c.39.39.9.59 1.41.59.51 0 1.02-.2 1.41-.59l7.78-7.78 2.81-2.81c.8-.78.8-2.07 0-2.86zM5.41 20L4 18.59l7.72-7.72 1.47 1.35L5.41 20z\"/>\n",
              "  </svg>\n",
              "      </button>\n",
              "      \n",
              "  <style>\n",
              "    .colab-df-container {\n",
              "      display:flex;\n",
              "      flex-wrap:wrap;\n",
              "      gap: 12px;\n",
              "    }\n",
              "\n",
              "    .colab-df-convert {\n",
              "      background-color: #E8F0FE;\n",
              "      border: none;\n",
              "      border-radius: 50%;\n",
              "      cursor: pointer;\n",
              "      display: none;\n",
              "      fill: #1967D2;\n",
              "      height: 32px;\n",
              "      padding: 0 0 0 0;\n",
              "      width: 32px;\n",
              "    }\n",
              "\n",
              "    .colab-df-convert:hover {\n",
              "      background-color: #E2EBFA;\n",
              "      box-shadow: 0px 1px 2px rgba(60, 64, 67, 0.3), 0px 1px 3px 1px rgba(60, 64, 67, 0.15);\n",
              "      fill: #174EA6;\n",
              "    }\n",
              "\n",
              "    [theme=dark] .colab-df-convert {\n",
              "      background-color: #3B4455;\n",
              "      fill: #D2E3FC;\n",
              "    }\n",
              "\n",
              "    [theme=dark] .colab-df-convert:hover {\n",
              "      background-color: #434B5C;\n",
              "      box-shadow: 0px 1px 3px 1px rgba(0, 0, 0, 0.15);\n",
              "      filter: drop-shadow(0px 1px 2px rgba(0, 0, 0, 0.3));\n",
              "      fill: #FFFFFF;\n",
              "    }\n",
              "  </style>\n",
              "\n",
              "      <script>\n",
              "        const buttonEl =\n",
              "          document.querySelector('#df-20e52840-4200-46ed-a0e9-db645cab2c7b button.colab-df-convert');\n",
              "        buttonEl.style.display =\n",
              "          google.colab.kernel.accessAllowed ? 'block' : 'none';\n",
              "\n",
              "        async function convertToInteractive(key) {\n",
              "          const element = document.querySelector('#df-20e52840-4200-46ed-a0e9-db645cab2c7b');\n",
              "          const dataTable =\n",
              "            await google.colab.kernel.invokeFunction('convertToInteractive',\n",
              "                                                     [key], {});\n",
              "          if (!dataTable) return;\n",
              "\n",
              "          const docLinkHtml = 'Like what you see? Visit the ' +\n",
              "            '<a target=\"_blank\" href=https://colab.research.google.com/notebooks/data_table.ipynb>data table notebook</a>'\n",
              "            + ' to learn more about interactive tables.';\n",
              "          element.innerHTML = '';\n",
              "          dataTable['output_type'] = 'display_data';\n",
              "          await google.colab.output.renderOutput(dataTable, element);\n",
              "          const docLink = document.createElement('div');\n",
              "          docLink.innerHTML = docLinkHtml;\n",
              "          element.appendChild(docLink);\n",
              "        }\n",
              "      </script>\n",
              "    </div>\n",
              "  </div>\n",
              "  "
            ]
          },
          "metadata": {},
          "execution_count": 8
        }
      ]
    },
    {
      "cell_type": "code",
      "source": [
        "df.info()"
      ],
      "metadata": {
        "execution": {
          "iopub.status.busy": "2023-02-10T16:03:59.044329Z",
          "iopub.execute_input": "2023-02-10T16:03:59.044926Z",
          "iopub.status.idle": "2023-02-10T16:03:59.067934Z",
          "shell.execute_reply.started": "2023-02-10T16:03:59.044888Z",
          "shell.execute_reply": "2023-02-10T16:03:59.067210Z"
        },
        "trusted": true,
        "colab": {
          "base_uri": "https://localhost:8080/"
        },
        "id": "in5_Voe-F_oR",
        "outputId": "2fd7fa49-314c-47ef-da0a-96da09a516f9"
      },
      "execution_count": null,
      "outputs": [
        {
          "output_type": "stream",
          "name": "stdout",
          "text": [
            "<class 'pandas.core.frame.DataFrame'>\n",
            "Int64Index: 22590 entries, 16432 to 23656\n",
            "Data columns (total 2 columns):\n",
            " #   Column     Non-Null Count  Dtype \n",
            "---  ------     --------------  ----- \n",
            " 0   text       22590 non-null  object\n",
            " 1   Sentiment  22590 non-null  object\n",
            "dtypes: object(2)\n",
            "memory usage: 529.5+ KB\n"
          ]
        }
      ]
    },
    {
      "cell_type": "markdown",
      "source": [
        "# Tweets Cleaning"
      ],
      "metadata": {
        "id": "SaUI1iioF_od"
      }
    },
    {
      "cell_type": "code",
      "source": [
        "#Remove punctuations, links, mentions and \\r\\n new line characters\n",
        "def strip_all_entities(text): \n",
        "    text = text.replace('\\r', '').replace('\\n', ' ').replace('\\n', ' ').lower() #remove \\n and \\r and lowercase\n",
        "    text = re.sub(r\"(?:\\@|https?\\://)\\S+\", \"\", text) #remove links and mentions\n",
        "    text = re.sub(r'[^\\x00-\\x7f]',r'', text) #remove non utf8/ascii characters\n",
        "    banned_list= string.punctuation + 'Ã'+'±'+'ã'+'¼'+'â'+'»'+'§'\n",
        "    table = str.maketrans('', '', banned_list)\n",
        "    text = text.translate(table)\n",
        "    return text\n",
        "\n",
        "#clean hashtags at the end of the sentence, and keep those in the middle of the sentence by removing just the # symbol\n",
        "def clean_hashtags(tweet):\n",
        "    new_tweet = \" \".join(word.strip() for word in re.split('#(?!(?:hashtag)\\b)[\\w-]+(?=(?:\\s+#[\\w-]+)*\\s*$)', tweet)) #remove last hashtags\n",
        "    new_tweet2 = \" \".join(word.strip() for word in re.split('#|_', new_tweet)) #remove hashtags symbol from words in the middle of the sentence\n",
        "    return new_tweet2\n",
        "\n",
        "#Filter special characters such as & and $ present in some words\n",
        "def filter_chars(a):\n",
        "    sent = []\n",
        "    for word in a.split(' '):\n",
        "        if ('$' in word) | ('&' in word):\n",
        "            sent.append('')\n",
        "        else:\n",
        "            sent.append(word)\n",
        "    return ' '.join(sent)\n",
        "\n",
        "def remove_mult_spaces(text): # remove multiple spaces\n",
        "    return re.sub(\"\\s\\s+\" , \" \", text)"
      ],
      "metadata": {
        "execution": {
          "iopub.status.busy": "2021-12-22T21:15:19.687068Z",
          "iopub.execute_input": "2021-12-22T21:15:19.687746Z",
          "iopub.status.idle": "2021-12-22T21:15:19.698296Z",
          "shell.execute_reply.started": "2021-12-22T21:15:19.687704Z",
          "shell.execute_reply": "2021-12-22T21:15:19.697572Z"
        },
        "trusted": true,
        "id": "Y-RUl5fmF_og"
      },
      "execution_count": null,
      "outputs": []
    },
    {
      "cell_type": "code",
      "source": [
        "texts_new = []\n",
        "for t in df.text:\n",
        "    texts_new.append(remove_mult_spaces(filter_chars(clean_hashtags(strip_all_entities(t)))))"
      ],
      "metadata": {
        "execution": {
          "iopub.status.busy": "2021-12-22T21:15:19.701015Z",
          "iopub.execute_input": "2021-12-22T21:15:19.701235Z",
          "iopub.status.idle": "2021-12-22T21:16:17.869828Z",
          "shell.execute_reply.started": "2021-12-22T21:15:19.701201Z",
          "shell.execute_reply": "2021-12-22T21:16:17.869039Z"
        },
        "trusted": true,
        "id": "B1OG3yqNF_oi"
      },
      "execution_count": null,
      "outputs": []
    },
    {
      "cell_type": "code",
      "source": [
        "texts_new_test = []\n",
        "for t in df_test.text:\n",
        "    texts_new_test.append(remove_mult_spaces(filter_chars(clean_hashtags(strip_all_entities(t)))))"
      ],
      "metadata": {
        "execution": {
          "iopub.status.busy": "2021-12-22T21:16:17.871222Z",
          "iopub.execute_input": "2021-12-22T21:16:17.871709Z",
          "iopub.status.idle": "2021-12-22T21:16:23.197999Z",
          "shell.execute_reply.started": "2021-12-22T21:16:17.871667Z",
          "shell.execute_reply": "2021-12-22T21:16:23.197295Z"
        },
        "trusted": true,
        "id": "SbDqC-zKF_oi"
      },
      "execution_count": null,
      "outputs": []
    },
    {
      "cell_type": "markdown",
      "source": [
        "new column with the clean tweets"
      ],
      "metadata": {
        "id": "Z27Ad_YLF_oj"
      }
    },
    {
      "cell_type": "code",
      "source": [
        "df['text_clean'] = texts_new\n",
        "df_test['text_clean'] = texts_new_test"
      ],
      "metadata": {
        "execution": {
          "iopub.status.busy": "2021-12-22T21:16:23.199371Z",
          "iopub.execute_input": "2021-12-22T21:16:23.199648Z",
          "iopub.status.idle": "2021-12-22T21:16:23.212118Z",
          "shell.execute_reply.started": "2021-12-22T21:16:23.199614Z",
          "shell.execute_reply": "2021-12-22T21:16:23.211257Z"
        },
        "trusted": true,
        "id": "mubB8U9CF_ok"
      },
      "execution_count": null,
      "outputs": []
    },
    {
      "cell_type": "code",
      "source": [
        "df['text_clean'].head()"
      ],
      "metadata": {
        "execution": {
          "iopub.status.busy": "2021-12-22T21:16:23.213498Z",
          "iopub.execute_input": "2021-12-22T21:16:23.213745Z",
          "iopub.status.idle": "2021-12-22T21:16:23.227327Z",
          "shell.execute_reply.started": "2021-12-22T21:16:23.213708Z",
          "shell.execute_reply": "2021-12-22T21:16:23.226641Z"
        },
        "trusted": true,
        "colab": {
          "base_uri": "https://localhost:8080/"
        },
        "id": "-w86VjbBF_ol",
        "outputId": "43d259a9-8d4e-4d45-ca43-336692d12196"
      },
      "execution_count": null,
      "outputs": [
        {
          "output_type": "execute_result",
          "data": {
            "text/plain": [
              "16432    rt a new survey of americans has shown that cr...\n",
              "7614                                              fantatic\n",
              "3789     64 how to get started with google adsense affi...\n",
              "24483    rt new post leaked documents reveals nsa attem...\n",
              "18080     atlantacyberattack what in the world is going on\n",
              "Name: text_clean, dtype: object"
            ]
          },
          "metadata": {},
          "execution_count": 14
        }
      ]
    },
    {
      "cell_type": "code",
      "source": [
        "df_test['text_clean'].head()"
      ],
      "metadata": {
        "execution": {
          "iopub.status.busy": "2021-12-22T21:16:23.232295Z",
          "iopub.execute_input": "2021-12-22T21:16:23.232676Z",
          "iopub.status.idle": "2021-12-22T21:16:23.239727Z",
          "shell.execute_reply.started": "2021-12-22T21:16:23.232647Z",
          "shell.execute_reply": "2021-12-22T21:16:23.239023Z"
        },
        "trusted": true,
        "colab": {
          "base_uri": "https://localhost:8080/"
        },
        "id": "iQAJ9eHOF_ol",
        "outputId": "f57a54f3-ea62-40e8-b5b0-ba68b2d07da1"
      },
      "execution_count": null,
      "outputs": [
        {
          "output_type": "execute_result",
          "data": {
            "text/plain": [
              "7331     20 for free registering to binance 0 1 trading...\n",
              "9623     name wings symbol wings 24 hour change 8 37 pr...\n",
              "15176                              thread this guy gets it\n",
              "6831     the latest the cryptopia daily thanks to bitco...\n",
              "23469                                facts and bitcoin lol\n",
              "Name: text_clean, dtype: object"
            ]
          },
          "metadata": {},
          "execution_count": 15
        }
      ]
    },
    {
      "cell_type": "code",
      "source": [
        "df['text_clean'][1:8].values"
      ],
      "metadata": {
        "execution": {
          "iopub.status.busy": "2021-12-22T21:16:23.241001Z",
          "iopub.execute_input": "2021-12-22T21:16:23.241499Z",
          "iopub.status.idle": "2021-12-22T21:16:23.250236Z",
          "shell.execute_reply.started": "2021-12-22T21:16:23.241461Z",
          "shell.execute_reply": "2021-12-22T21:16:23.249487Z"
        },
        "trusted": true,
        "colab": {
          "base_uri": "https://localhost:8080/"
        },
        "id": "y5X1IP0IF_om",
        "outputId": "e1593379-9a0a-4770-b97d-dd986e143301"
      },
      "execution_count": null,
      "outputs": [
        {
          "output_type": "execute_result",
          "data": {
            "text/plain": [
              "array(['fantatic',\n",
              "       '64 how to get started with google adsense affiliatemarketing bitcoin affiliatemarketing onlinemarketing',\n",
              "       'rt new post leaked documents reveals nsa attempt to crack bitcoin users identity has been published on sgt report',\n",
              "       'atlantacyberattack what in the world is going on',\n",
              "       'capuchincrypt who lost money in bitcoin',\n",
              "       'bitcoin spike sparks crypto jacking trend by rt com',\n",
              "       'breaking news binance will be listing wan wan soon cryptocurrency blockchain bitcoin crypto btc ico eth xrp trading cryptonews'],\n",
              "      dtype=object)"
            ]
          },
          "metadata": {},
          "execution_count": 16
        }
      ]
    },
    {
      "cell_type": "markdown",
      "source": [
        "finding the length of the texts to check whether the cleaning caused any null texts"
      ],
      "metadata": {
        "id": "B4pDdasUF_on"
      }
    },
    {
      "cell_type": "code",
      "source": [
        "text_len = []\n",
        "for text in df.text_clean:\n",
        "    tweet_len = len(text.split())\n",
        "    text_len.append(tweet_len)"
      ],
      "metadata": {
        "execution": {
          "iopub.status.busy": "2021-12-22T21:16:23.252435Z",
          "iopub.execute_input": "2021-12-22T21:16:23.253023Z",
          "iopub.status.idle": "2021-12-22T21:16:23.346853Z",
          "shell.execute_reply.started": "2021-12-22T21:16:23.252986Z",
          "shell.execute_reply": "2021-12-22T21:16:23.346251Z"
        },
        "trusted": true,
        "id": "j0a5-3RoF_on"
      },
      "execution_count": null,
      "outputs": []
    },
    {
      "cell_type": "code",
      "source": [
        "df['text_len'] = text_len"
      ],
      "metadata": {
        "execution": {
          "iopub.status.busy": "2021-12-22T21:16:23.347901Z",
          "iopub.execute_input": "2021-12-22T21:16:23.348129Z",
          "iopub.status.idle": "2021-12-22T21:16:23.369365Z",
          "shell.execute_reply.started": "2021-12-22T21:16:23.348096Z",
          "shell.execute_reply": "2021-12-22T21:16:23.368729Z"
        },
        "trusted": true,
        "id": "aebJYJyvF_oo"
      },
      "execution_count": null,
      "outputs": []
    },
    {
      "cell_type": "code",
      "source": [
        "text_len_test = []\n",
        "for text in df_test.text_clean:\n",
        "    tweet_len = len(text.split())\n",
        "    text_len_test.append(tweet_len)"
      ],
      "metadata": {
        "execution": {
          "iopub.status.busy": "2021-12-22T21:16:23.370787Z",
          "iopub.execute_input": "2021-12-22T21:16:23.371086Z",
          "iopub.status.idle": "2021-12-22T21:16:23.387455Z",
          "shell.execute_reply.started": "2021-12-22T21:16:23.371047Z",
          "shell.execute_reply": "2021-12-22T21:16:23.386622Z"
        },
        "trusted": true,
        "id": "H3Kwn8VsF_op"
      },
      "execution_count": null,
      "outputs": []
    },
    {
      "cell_type": "code",
      "source": [
        "df_test['text_len'] = text_len_test"
      ],
      "metadata": {
        "execution": {
          "iopub.status.busy": "2021-12-22T21:16:23.388853Z",
          "iopub.execute_input": "2021-12-22T21:16:23.38944Z",
          "iopub.status.idle": "2021-12-22T21:16:23.398823Z",
          "shell.execute_reply.started": "2021-12-22T21:16:23.389402Z",
          "shell.execute_reply": "2021-12-22T21:16:23.398101Z"
        },
        "trusted": true,
        "id": "l5vmfwbQF_op"
      },
      "execution_count": null,
      "outputs": []
    },
    {
      "cell_type": "code",
      "source": [
        "print(f\" DF SHAPE: {df.shape}\")\n",
        "print(f\" DF TEST SHAPE: {df_test.shape}\")"
      ],
      "metadata": {
        "execution": {
          "iopub.status.busy": "2021-12-22T21:16:23.927254Z",
          "iopub.execute_input": "2021-12-22T21:16:23.927515Z",
          "iopub.status.idle": "2021-12-22T21:16:23.935987Z",
          "shell.execute_reply.started": "2021-12-22T21:16:23.92748Z",
          "shell.execute_reply": "2021-12-22T21:16:23.935269Z"
        },
        "trusted": true,
        "colab": {
          "base_uri": "https://localhost:8080/"
        },
        "id": "YIJo3LONF_ot",
        "outputId": "c467968d-e10d-41f3-db1e-b6caa305c621"
      },
      "execution_count": null,
      "outputs": [
        {
          "output_type": "stream",
          "name": "stdout",
          "text": [
            " DF SHAPE: (22590, 4)\n",
            " DF TEST SHAPE: (2511, 4)\n"
          ]
        }
      ]
    },
    {
      "cell_type": "code",
      "source": [
        "df = df[df['text_len'] > 4]"
      ],
      "metadata": {
        "execution": {
          "iopub.status.busy": "2021-12-22T21:16:23.937463Z",
          "iopub.execute_input": "2021-12-22T21:16:23.937742Z",
          "iopub.status.idle": "2021-12-22T21:16:23.947934Z",
          "shell.execute_reply.started": "2021-12-22T21:16:23.937695Z",
          "shell.execute_reply": "2021-12-22T21:16:23.947188Z"
        },
        "trusted": true,
        "id": "8kyM-o4QF_ot"
      },
      "execution_count": null,
      "outputs": []
    },
    {
      "cell_type": "code",
      "source": [
        "df_test = df_test[df_test['text_len'] > 4]"
      ],
      "metadata": {
        "execution": {
          "iopub.status.busy": "2021-12-22T21:16:23.949457Z",
          "iopub.execute_input": "2021-12-22T21:16:23.949722Z",
          "iopub.status.idle": "2021-12-22T21:16:23.956516Z",
          "shell.execute_reply.started": "2021-12-22T21:16:23.949679Z",
          "shell.execute_reply": "2021-12-22T21:16:23.955817Z"
        },
        "trusted": true,
        "id": "JTZtetXPF_ou"
      },
      "execution_count": null,
      "outputs": []
    },
    {
      "cell_type": "code",
      "source": [
        "print(f\" DF SHAPE: {df.shape}\")\n",
        "print(f\" DF TEST SHAPE: {df_test.shape}\")"
      ],
      "metadata": {
        "execution": {
          "iopub.status.busy": "2021-12-22T21:16:23.957889Z",
          "iopub.execute_input": "2021-12-22T21:16:23.958147Z",
          "iopub.status.idle": "2021-12-22T21:16:23.965132Z",
          "shell.execute_reply.started": "2021-12-22T21:16:23.958113Z",
          "shell.execute_reply": "2021-12-22T21:16:23.964401Z"
        },
        "trusted": true,
        "colab": {
          "base_uri": "https://localhost:8080/"
        },
        "id": "XKLAg6cUF_ou",
        "outputId": "25949edd-ee09-4f3a-92c0-cb0410934422"
      },
      "execution_count": null,
      "outputs": [
        {
          "output_type": "stream",
          "name": "stdout",
          "text": [
            " DF SHAPE: (21785, 4)\n",
            " DF TEST SHAPE: (2423, 4)\n"
          ]
        }
      ]
    },
    {
      "cell_type": "markdown",
      "source": [
        "## Training data deeper cleaning"
      ],
      "metadata": {
        "id": "pJYRUeRhF_ov"
      }
    },
    {
      "cell_type": "markdown",
      "source": [
        "Importing the RoBERTa tokenizer."
      ],
      "metadata": {
        "id": "wDiwNylvF_ow"
      }
    },
    {
      "cell_type": "code",
      "source": [
        "tokenizer = RobertaTokenizerFast.from_pretrained(\"roberta-base\")"
      ],
      "metadata": {
        "_kg_hide-output": true,
        "execution": {
          "iopub.status.busy": "2021-12-22T21:16:23.966349Z",
          "iopub.execute_input": "2021-12-22T21:16:23.966874Z",
          "iopub.status.idle": "2021-12-22T21:16:30.505565Z",
          "shell.execute_reply.started": "2021-12-22T21:16:23.966837Z",
          "shell.execute_reply": "2021-12-22T21:16:30.504847Z"
        },
        "trusted": true,
        "id": "xpTJZRseF_ox",
        "colab": {
          "base_uri": "https://localhost:8080/",
          "height": 145,
          "referenced_widgets": [
            "4262eeab2d4241aca36e799425d19ab4",
            "1981705d520c42fda3116b93cf743251",
            "253c9f08a54840e3b13aab904384c56b",
            "4e502660c79d4eff87612b9ee67e6aba",
            "907ac42ea95a4d6788f59837f7261c4a",
            "1312608edf3d48519461c9187ae748bb",
            "49d2b0d0aab3448d9ee8ee8c0586135a",
            "9708503210294e1aa0a40887abc7a7ee",
            "c40db5008d4a46919dbf3c447a7b7398",
            "e909c035ecbd4c57a976598adbc22335",
            "cb817c5f28284fa499757c69a6be8eb9",
            "b493bf7d3b594fee9d5102ec10aff041",
            "433f6e131fcb40129b4123457485327a",
            "6a6e88c11c2443cb992fbcb3e5ecb44d",
            "b0e5b36adf444034825e0a4e2bcb4132",
            "8191bff7846148289bd11e09b94054af",
            "5192469e00724c488549d9131e8fc7df",
            "7700d279000b42b98a4f2de4bdb4c3f9",
            "59fab10eef884d838e0d4ca7fbc491b1",
            "18737d12fd294d45bcc1c749e9dc90f0",
            "f1f1e2fbec0d4710b5d0e979e36e8468",
            "5847a7765a2c48d79a847147178a8e7d",
            "4407e850d2334c6693b1da23534bfcb8",
            "211a3660f445499bbfdaa00c42e11b99",
            "bd2d146c31fb4d3d87f43cc01fd92f0e",
            "03796fc2c1ad4ba088d2da082177eae3",
            "ce929a22288c4460a5b0a18adf01cd34",
            "f303a0c3a5244160a74bc691ee93878a",
            "e4cda1be76f84cd7aaae7dbce1d3a6f5",
            "576a6c2c18854179bccb85d716e9c803",
            "1ec85aa15d6b49b09ae3eb4c1e0be397",
            "caf0cc8111194cecaac99895f40b69bb",
            "e763fe8175ca4e4bbf1bc46bb46240ce",
            "7831383264ea4c95bd96358d27b136a2",
            "e39ac837defa408fa8a83c4ac5eeddd8",
            "8734aa6535674408832d0b97b8aa960b",
            "05d66b1fb9c94e7ba2c72169163f8fdf",
            "82158b9606004d2893ffc14e59dec07a",
            "2c638858a5d04fd3a454f06c5d923549",
            "9ddd297048a24f0982923af4a28cb6ee",
            "5917d0a5a9e34f849467366e0d2297b1",
            "77420297b7344ee09bca51d2955cf484",
            "bbeaa72b09a94866a5daaefc54844177",
            "adc55420c1304e65bd437eacfffc16a5"
          ]
        },
        "outputId": "1071311f-0b38-443b-c0af-ac8ca3049beb"
      },
      "execution_count": null,
      "outputs": [
        {
          "output_type": "display_data",
          "data": {
            "text/plain": [
              "Downloading (…)olve/main/vocab.json:   0%|          | 0.00/899k [00:00<?, ?B/s]"
            ],
            "application/vnd.jupyter.widget-view+json": {
              "version_major": 2,
              "version_minor": 0,
              "model_id": "4262eeab2d4241aca36e799425d19ab4"
            }
          },
          "metadata": {}
        },
        {
          "output_type": "display_data",
          "data": {
            "text/plain": [
              "Downloading (…)olve/main/merges.txt:   0%|          | 0.00/456k [00:00<?, ?B/s]"
            ],
            "application/vnd.jupyter.widget-view+json": {
              "version_major": 2,
              "version_minor": 0,
              "model_id": "b493bf7d3b594fee9d5102ec10aff041"
            }
          },
          "metadata": {}
        },
        {
          "output_type": "display_data",
          "data": {
            "text/plain": [
              "Downloading (…)/main/tokenizer.json:   0%|          | 0.00/1.36M [00:00<?, ?B/s]"
            ],
            "application/vnd.jupyter.widget-view+json": {
              "version_major": 2,
              "version_minor": 0,
              "model_id": "4407e850d2334c6693b1da23534bfcb8"
            }
          },
          "metadata": {}
        },
        {
          "output_type": "display_data",
          "data": {
            "text/plain": [
              "Downloading (…)lve/main/config.json:   0%|          | 0.00/481 [00:00<?, ?B/s]"
            ],
            "application/vnd.jupyter.widget-view+json": {
              "version_major": 2,
              "version_minor": 0,
              "model_id": "7831383264ea4c95bd96358d27b136a2"
            }
          },
          "metadata": {}
        }
      ]
    },
    {
      "cell_type": "code",
      "source": [
        "token_lens = []\n",
        "\n",
        "for txt in df['text_clean'].values:\n",
        "    tokens = tokenizer.encode(txt, max_length=512, truncation=True)\n",
        "    token_lens.append(len(tokens))\n",
        "    \n",
        "max_len=np.max(token_lens)"
      ],
      "metadata": {
        "execution": {
          "iopub.status.busy": "2021-12-22T21:16:30.506822Z",
          "iopub.execute_input": "2021-12-22T21:16:30.507117Z",
          "iopub.status.idle": "2021-12-22T21:16:38.608135Z",
          "shell.execute_reply.started": "2021-12-22T21:16:30.507082Z",
          "shell.execute_reply": "2021-12-22T21:16:38.60725Z"
        },
        "trusted": true,
        "id": "JwB_DmfoF_ox"
      },
      "execution_count": null,
      "outputs": []
    },
    {
      "cell_type": "code",
      "source": [
        "print(f\"MAX TOKENIZED SENTENCE LENGTH: {max_len}\")"
      ],
      "metadata": {
        "execution": {
          "iopub.status.busy": "2021-12-22T21:16:38.612489Z",
          "iopub.execute_input": "2021-12-22T21:16:38.614497Z",
          "iopub.status.idle": "2021-12-22T21:16:38.622543Z",
          "shell.execute_reply.started": "2021-12-22T21:16:38.614458Z",
          "shell.execute_reply": "2021-12-22T21:16:38.621788Z"
        },
        "trusted": true,
        "colab": {
          "base_uri": "https://localhost:8080/"
        },
        "id": "qg_pfQBWF_oy",
        "outputId": "01bf156f-77aa-44ae-8c16-0ef78bf63dae"
      },
      "execution_count": null,
      "outputs": [
        {
          "output_type": "stream",
          "name": "stdout",
          "text": [
            "MAX TOKENIZED SENTENCE LENGTH: 110\n"
          ]
        }
      ]
    },
    {
      "cell_type": "markdown",
      "source": [
        "checking the long tokenized sentences (with more than 80 tokens ):"
      ],
      "metadata": {
        "execution": {
          "iopub.status.busy": "2021-12-07T12:49:48.842045Z",
          "iopub.execute_input": "2021-12-07T12:49:48.842301Z",
          "iopub.status.idle": "2021-12-07T12:49:48.848445Z",
          "shell.execute_reply.started": "2021-12-07T12:49:48.842267Z",
          "shell.execute_reply": "2021-12-07T12:49:48.847098Z"
        },
        "id": "UPFHli8TF_oz"
      }
    },
    {
      "cell_type": "code",
      "source": [
        "token_lens = []\n",
        "\n",
        "for i,txt in enumerate(df['text_clean'].values):\n",
        "    tokens = tokenizer.encode(txt, max_length=512, truncation=True)\n",
        "    token_lens.append(len(tokens))\n",
        "    if len(tokens)>80:\n",
        "        print(f\"INDEX: {i}, TEXT: {txt}\")  "
      ],
      "metadata": {
        "execution": {
          "iopub.status.busy": "2021-12-22T21:16:38.627275Z",
          "iopub.execute_input": "2021-12-22T21:16:38.627927Z",
          "iopub.status.idle": "2021-12-22T21:16:45.918973Z",
          "shell.execute_reply.started": "2021-12-22T21:16:38.62789Z",
          "shell.execute_reply": "2021-12-22T21:16:45.918256Z"
        },
        "trusted": true,
        "colab": {
          "base_uri": "https://localhost:8080/"
        },
        "id": "N8YS-DVtF_oz",
        "outputId": "49deacf5-fe5a-440b-b36c-dfc72d059f97"
      },
      "execution_count": null,
      "outputs": [
        {
          "output_type": "stream",
          "name": "stdout",
          "text": [
            "INDEX: 1543, TEXT: check all here gt on poloniex ppc to btc gt 0 00005036 volume gt 24426 on bittrex ltc to btc gt 0 01148535 volume gt 64437 on exmo xmr to btc gt 0 01116881 volume gt 985 on hitbtc xrp to btc gt 0 00004997 volume gt 59295632\n",
            "INDEX: 4454, TEXT: wish smart contract amp distribution in 24 hrs send 0 15 eth 1 500 000 wish send to eth address 0x4c70f816764a238610af3de27157a87ebb428fc5 listing on mercatox amp coinexchange follow retweet comment eth address airdrop binance xrp xvg trx btc eth iheartbts\n",
            "INDEX: 4561, TEXT: zeroxripple send eth that i will send to the address you have deposited 0x3bf591107a6c7dcb8326d21d8a3340f33c72155d 1 eth 5000000 000 zeroxripple 0 9 eth 4500000 000 zeroxripple 0 8 eth 4000000 000 zeroxripple airdrop airdropalert bitcoin ethereum ripple coinhacker\n",
            "INDEX: 5185, TEXT: prices in brl btc 33 825 90 32 199 65 bch 1 892 81 1 651 91 btg 117 79 92 18 dgb 0 06 0 05 dsh 783 06 653 68 eth 1 086 16 1 022 88 rbtc 34 166 79 31 563 61 realt 1 00 1 00 smart 0 04 0 04 tusd 4 24 3 95 xem 0 40 0 34 xrp 1 72 1 59 zcr 0 62 0 41 zec 325 43 294 73 stratum\n",
            "INDEX: 6419, TEXT: current crypto prices btc 7912 26 usd eth 251 99 usd ltc 90 83 usd bch 416 72 usd xlm 0 1336 usd doge 0 003086 usd neo 11 93 usd xrp 0 3952 usd cann 0 001504 usd emc2 0 09734 usd xmr 88 25 usd btg 22 94 usd\n",
            "INDEX: 6522, TEXT: prices in brl btc 33 401 58 31 795 73 bch 1 861 11 1 624 24 btg 116 12 90 88 dgb 0 07 0 06 dsh 772 66 645 00 eth 1 065 90 1 003 80 rbtc 33 705 53 31 137 49 realt 1 00 1 00 smart 0 04 0 04 tusd 4 24 3 96 xem 0 39 0 34 xrp 1 72 1 59 zcr 0 62 0 41 zec 320 00 289 81 stratum\n",
            "INDEX: 6667, TEXT: wish token selfdrop send 0 015 eth 150 000 wish send to eth address 0x9ea964c35f418c54d2dee1897f3b6d2d3def538f listing on mercatox amp coinexchange follow retweet comment eth address airdrop binance xrp xvg trx btc eth bsv eos np\n",
            "INDEX: 8195, TEXT: current crypto prices btc 7969 38 usd eth 253 5 usd ltc 91 45 usd bch 413 66 usd xlm 0 1345 usd doge 0 003029 usd neo 12 04 usd xrp 0 3983 usd cann 0 001514 usd emc2 0 1004 usd xmr 91 38 usd btg 21 66 usd\n",
            "INDEX: 8315, TEXT: 0 05btc gt 20btc we need just a week join btc eth bnb eos ont xaur vtr trust pkb grs sngls gbg shift draco swt music ppc pot bsd zcl fldc exp myst gno ioc tks mue block cfi hmq crw vox bcy aby sib nmr trx\n",
            "INDEX: 9290, TEXT: criptodolar bitcoin 22may 10 05 27 am btc 7 868 44 usd 0 48 eth 252 88 usd 0 43 dash 161 64 usd 0 09 pab btc 8 131 23 pab usd btc 8 092 17 usd eur btc 7 030 36 eur ves btc 46 825 813 bs vesusd 5 773 bs ven\n",
            "INDEX: 9722, TEXT: usdcad buy 1 34300 take profit 1 34700 stop loss 1 34100 forex forexsignals forexsignal forextrading fxsignals trading money scalping forexmarket gbpusd rt retweeet eurusd gbp stockmarket news forexnews usdcad gbpusd usdtry xauusd currency bitcoin btc\n",
            "INDEX: 11585, TEXT: rt lbcc ostk digaf mgti btcs btc bch xrp stocks are on wdbg tlry psiq hiph fteg cavr spy axxa pgus hvcw blsp lvgi nhpi gifx drus ggii ubqu aapl jcp amzn acb owcp nspx fnma vyst shmp krfg leas avxl bpth stockstowatch\n",
            "INDEX: 11789, TEXT: current crypto prices btc 7995 73 usd eth 254 65 usd ltc 91 66 usd bch 415 46 usd xlm 0 1355 usd doge 0 003039 usd neo 12 16 usd xrp 0 4011 usd cann 0 001519 usd emc2 0 1001 usd xmr 90 75 usd btg 21 63 usd\n",
            "INDEX: 14201, TEXT: criptodolar bitcoin 21may 10 05 26 am btc 7 898 5 usd 0 57 eth 250 12 usd 1 06 dash 164 94 usd 0 8 pab btc 8 114 5 pab usd btc 8 212 01 usd eur btc 7 088 9 eur ves btc 46 398 121 bs vesusd 5 684 bs ven\n",
            "INDEX: 14851, TEXT: criptodolar bitcoin 22may 09 05 01 am btc 7 835 24 usd 0 25 eth 251 7 usd 0 6 dash 161 46 usd 0 22 pab btc 8 145 21 pab usd btc 8 065 usd eur btc 6 959 91 eur ves btc 46 981 091 bs vesusd 5 796 bs ven\n",
            "INDEX: 15468, TEXT: binance is the number 1 crypto exchange in the world discount on trading fees click here btc qlc dnt ada appc wpr dgb enj rvn brd ae tusd iost ppt doge bts ins iotx powr sky aion etp storj qkc edr nxs srn poe 4775199\n",
            "INDEX: 19001, TEXT: current crypto prices btc 7942 34 usd eth 252 76 usd ltc 91 34 usd bch 411 36 usd xlm 0 1347 usd doge 0 003019 usd neo 11 97 usd xrp 0 3957 usd cann 0 001509 usd emc2 0 1001 usd xmr 90 89 usd btg 21 6 usd\n",
            "INDEX: 19129, TEXT: check all here gt on exmo btc to eur gt 7119 98943309 volume gt 356 on yobit nmc to btc gt 0 00004103 volume gt 93 on cex io xrp to usd gt 0 375 volume gt 2305665 on wexnz ltc to rub gt 5788 75917 volume gt 2143\n",
            "INDEX: 21075, TEXT: bitcoin 1dkx1gjwe1nm5qnrmspx1dhhywmwppmsca ethereum 0x5fca8adb57272d4fc41e66f41fa52cea9aacce90 ltc 3pjfwtz3rvynbwjikyjzd3aeqqj5zupczo\n"
          ]
        }
      ]
    },
    {
      "cell_type": "code",
      "source": [
        "df['token_lens'] = token_lens"
      ],
      "metadata": {
        "execution": {
          "iopub.status.busy": "2021-12-22T21:16:45.920127Z",
          "iopub.execute_input": "2021-12-22T21:16:45.920514Z",
          "iopub.status.idle": "2021-12-22T21:16:45.942482Z",
          "shell.execute_reply.started": "2021-12-22T21:16:45.920472Z",
          "shell.execute_reply": "2021-12-22T21:16:45.941845Z"
        },
        "trusted": true,
        "id": "djElD_arF_o1",
        "colab": {
          "base_uri": "https://localhost:8080/"
        },
        "outputId": "4fd03079-8b2c-4324-eab4-a35bea5fe524"
      },
      "execution_count": null,
      "outputs": [
        {
          "output_type": "stream",
          "name": "stderr",
          "text": [
            "<ipython-input-29-b06175d1d9b6>:1: SettingWithCopyWarning: \n",
            "A value is trying to be set on a copy of a slice from a DataFrame.\n",
            "Try using .loc[row_indexer,col_indexer] = value instead\n",
            "\n",
            "See the caveats in the documentation: https://pandas.pydata.org/pandas-docs/stable/user_guide/indexing.html#returning-a-view-versus-a-copy\n",
            "  df['token_lens'] = token_lens\n"
          ]
        }
      ]
    },
    {
      "cell_type": "code",
      "source": [
        "df = df.sort_values(by='token_lens', ascending=False)\n",
        "df.head(20)"
      ],
      "metadata": {
        "execution": {
          "iopub.status.busy": "2021-12-22T21:16:45.943569Z",
          "iopub.execute_input": "2021-12-22T21:16:45.943812Z",
          "iopub.status.idle": "2021-12-22T21:16:45.966583Z",
          "shell.execute_reply.started": "2021-12-22T21:16:45.943779Z",
          "shell.execute_reply": "2021-12-22T21:16:45.965943Z"
        },
        "trusted": true,
        "colab": {
          "base_uri": "https://localhost:8080/",
          "height": 676
        },
        "id": "2p-PchNYF_o2",
        "outputId": "e17d9fa2-66a8-482e-a3b3-89e4737626d4"
      },
      "execution_count": null,
      "outputs": [
        {
          "output_type": "execute_result",
          "data": {
            "text/plain": [
              "                                                    text Sentiment  \\\n",
              "3379   Prices in BRL BTC 33 825 90 32 199 65 BCH 1 89...  Negative   \n",
              "7041   Prices in BRL BTC 33 401 58 31 795 73 BCH 1 86...  Negative   \n",
              "19479  RT LBCC OSTK DIGAF MGTI BTCS BTC BCH XRP STOCK...  Negative   \n",
              "2626   ZeroXRipple SEND ETH That I will send to the a...  Negative   \n",
              "12418  Check all here gt On Poloniex PPC to BTC gt 0 ...  Negative   \n",
              "16978  Check all here gt On Exmo BTC to EUR gt 7119 9...  Negative   \n",
              "18663  CriptoDolar Bitcoin 22May 10 05 27 AM BTC 7 86...  Negative   \n",
              "7016   Current Crypto Prices BTC 7912 26 USD ETH 251 ...  Negative   \n",
              "16017  CriptoDolar Bitcoin 22May 09 05 01 AM BTC 7 83...  Negative   \n",
              "1844   0 05BTC gt 20BTC We need Just a Week Join BTC ...  Negative   \n",
              "805    Current Crypto Prices BTC 7969 38 USD ETH 253 ...  Negative   \n",
              "1753   Current Crypto Prices BTC 7942 34 USD ETH 252 ...  Negative   \n",
              "11628  Current Crypto Prices BTC 7995 73 USD ETH 254 ...  Negative   \n",
              "18649  CriptoDolar Bitcoin 21May 10 05 26 AM BTC 7 89...  Negative   \n",
              "22038  Wish Token Selfdrop Send 0 015 ETH 150 000 WIS...  Negative   \n",
              "24768  USDCAD Buy 1 34300 Take Profit 1 34700 Stop Lo...  Negative   \n",
              "21375  WISH SMART CONTRACT amp DISTRIBUTION IN 24 HRS...  Negative   \n",
              "8663   Bitcoin 1DKx1GjwE1Nm5QNrMSPX1DhhYwMwpPmsCa Eth...  Negative   \n",
              "15793  Binance is the number 1 crypto exchange in the...  Negative   \n",
              "21138  Who Can Make 1687 Profit We Are Join BTC ETH N...  Negative   \n",
              "\n",
              "                                              text_clean  text_len  token_lens  \n",
              "3379   prices in brl btc 33 825 90 32 199 65 bch 1 89...        82         110  \n",
              "7041   prices in brl btc 33 401 58 31 795 73 bch 1 86...        82         110  \n",
              "19479  rt lbcc ostk digaf mgti btcs btc bch xrp stock...        43         101  \n",
              "2626   zeroxripple send eth that i will send to the a...        37          93  \n",
              "12418  check all here gt on poloniex ppc to btc gt 0 ...        48          93  \n",
              "16978  check all here gt on exmo btc to eur gt 7119 9...        49          86  \n",
              "18663  criptodolar bitcoin 22may 10 05 27 am btc 7 86...        55          86  \n",
              "7016   current crypto prices btc 7912 26 usd eth 251 ...        51          86  \n",
              "16017  criptodolar bitcoin 22may 09 05 01 am btc 7 83...        54          85  \n",
              "1844   0 05btc gt 20btc we need just a week join btc ...        47          85  \n",
              "805    current crypto prices btc 7969 38 usd eth 253 ...        51          85  \n",
              "1753   current crypto prices btc 7942 34 usd eth 252 ...        51          85  \n",
              "11628  current crypto prices btc 7995 73 usd eth 254 ...        51          85  \n",
              "18649  criptodolar bitcoin 21may 10 05 26 am btc 7 89...        55          83  \n",
              "22038  wish token selfdrop send 0 015 eth 150 000 wis...        35          83  \n",
              "24768  usdcad buy 1 34300 take profit 1 34700 stop lo...        36          83  \n",
              "21375  wish smart contract amp distribution in 24 hrs...        39          82  \n",
              "8663   bitcoin 1dkx1gjwe1nm5qnrmspx1dhhywmwppmsca eth...         6          81  \n",
              "15793  binance is the number 1 crypto exchange in the...        45          81  \n",
              "21138  who can make 1687 profit we are join btc eth n...        44          80  "
            ],
            "text/html": [
              "\n",
              "  <div id=\"df-7a112d52-5c09-4bd3-ad7f-dd9bacc5793c\">\n",
              "    <div class=\"colab-df-container\">\n",
              "      <div>\n",
              "<style scoped>\n",
              "    .dataframe tbody tr th:only-of-type {\n",
              "        vertical-align: middle;\n",
              "    }\n",
              "\n",
              "    .dataframe tbody tr th {\n",
              "        vertical-align: top;\n",
              "    }\n",
              "\n",
              "    .dataframe thead th {\n",
              "        text-align: right;\n",
              "    }\n",
              "</style>\n",
              "<table border=\"1\" class=\"dataframe\">\n",
              "  <thead>\n",
              "    <tr style=\"text-align: right;\">\n",
              "      <th></th>\n",
              "      <th>text</th>\n",
              "      <th>Sentiment</th>\n",
              "      <th>text_clean</th>\n",
              "      <th>text_len</th>\n",
              "      <th>token_lens</th>\n",
              "    </tr>\n",
              "  </thead>\n",
              "  <tbody>\n",
              "    <tr>\n",
              "      <th>3379</th>\n",
              "      <td>Prices in BRL BTC 33 825 90 32 199 65 BCH 1 89...</td>\n",
              "      <td>Negative</td>\n",
              "      <td>prices in brl btc 33 825 90 32 199 65 bch 1 89...</td>\n",
              "      <td>82</td>\n",
              "      <td>110</td>\n",
              "    </tr>\n",
              "    <tr>\n",
              "      <th>7041</th>\n",
              "      <td>Prices in BRL BTC 33 401 58 31 795 73 BCH 1 86...</td>\n",
              "      <td>Negative</td>\n",
              "      <td>prices in brl btc 33 401 58 31 795 73 bch 1 86...</td>\n",
              "      <td>82</td>\n",
              "      <td>110</td>\n",
              "    </tr>\n",
              "    <tr>\n",
              "      <th>19479</th>\n",
              "      <td>RT LBCC OSTK DIGAF MGTI BTCS BTC BCH XRP STOCK...</td>\n",
              "      <td>Negative</td>\n",
              "      <td>rt lbcc ostk digaf mgti btcs btc bch xrp stock...</td>\n",
              "      <td>43</td>\n",
              "      <td>101</td>\n",
              "    </tr>\n",
              "    <tr>\n",
              "      <th>2626</th>\n",
              "      <td>ZeroXRipple SEND ETH That I will send to the a...</td>\n",
              "      <td>Negative</td>\n",
              "      <td>zeroxripple send eth that i will send to the a...</td>\n",
              "      <td>37</td>\n",
              "      <td>93</td>\n",
              "    </tr>\n",
              "    <tr>\n",
              "      <th>12418</th>\n",
              "      <td>Check all here gt On Poloniex PPC to BTC gt 0 ...</td>\n",
              "      <td>Negative</td>\n",
              "      <td>check all here gt on poloniex ppc to btc gt 0 ...</td>\n",
              "      <td>48</td>\n",
              "      <td>93</td>\n",
              "    </tr>\n",
              "    <tr>\n",
              "      <th>16978</th>\n",
              "      <td>Check all here gt On Exmo BTC to EUR gt 7119 9...</td>\n",
              "      <td>Negative</td>\n",
              "      <td>check all here gt on exmo btc to eur gt 7119 9...</td>\n",
              "      <td>49</td>\n",
              "      <td>86</td>\n",
              "    </tr>\n",
              "    <tr>\n",
              "      <th>18663</th>\n",
              "      <td>CriptoDolar Bitcoin 22May 10 05 27 AM BTC 7 86...</td>\n",
              "      <td>Negative</td>\n",
              "      <td>criptodolar bitcoin 22may 10 05 27 am btc 7 86...</td>\n",
              "      <td>55</td>\n",
              "      <td>86</td>\n",
              "    </tr>\n",
              "    <tr>\n",
              "      <th>7016</th>\n",
              "      <td>Current Crypto Prices BTC 7912 26 USD ETH 251 ...</td>\n",
              "      <td>Negative</td>\n",
              "      <td>current crypto prices btc 7912 26 usd eth 251 ...</td>\n",
              "      <td>51</td>\n",
              "      <td>86</td>\n",
              "    </tr>\n",
              "    <tr>\n",
              "      <th>16017</th>\n",
              "      <td>CriptoDolar Bitcoin 22May 09 05 01 AM BTC 7 83...</td>\n",
              "      <td>Negative</td>\n",
              "      <td>criptodolar bitcoin 22may 09 05 01 am btc 7 83...</td>\n",
              "      <td>54</td>\n",
              "      <td>85</td>\n",
              "    </tr>\n",
              "    <tr>\n",
              "      <th>1844</th>\n",
              "      <td>0 05BTC gt 20BTC We need Just a Week Join BTC ...</td>\n",
              "      <td>Negative</td>\n",
              "      <td>0 05btc gt 20btc we need just a week join btc ...</td>\n",
              "      <td>47</td>\n",
              "      <td>85</td>\n",
              "    </tr>\n",
              "    <tr>\n",
              "      <th>805</th>\n",
              "      <td>Current Crypto Prices BTC 7969 38 USD ETH 253 ...</td>\n",
              "      <td>Negative</td>\n",
              "      <td>current crypto prices btc 7969 38 usd eth 253 ...</td>\n",
              "      <td>51</td>\n",
              "      <td>85</td>\n",
              "    </tr>\n",
              "    <tr>\n",
              "      <th>1753</th>\n",
              "      <td>Current Crypto Prices BTC 7942 34 USD ETH 252 ...</td>\n",
              "      <td>Negative</td>\n",
              "      <td>current crypto prices btc 7942 34 usd eth 252 ...</td>\n",
              "      <td>51</td>\n",
              "      <td>85</td>\n",
              "    </tr>\n",
              "    <tr>\n",
              "      <th>11628</th>\n",
              "      <td>Current Crypto Prices BTC 7995 73 USD ETH 254 ...</td>\n",
              "      <td>Negative</td>\n",
              "      <td>current crypto prices btc 7995 73 usd eth 254 ...</td>\n",
              "      <td>51</td>\n",
              "      <td>85</td>\n",
              "    </tr>\n",
              "    <tr>\n",
              "      <th>18649</th>\n",
              "      <td>CriptoDolar Bitcoin 21May 10 05 26 AM BTC 7 89...</td>\n",
              "      <td>Negative</td>\n",
              "      <td>criptodolar bitcoin 21may 10 05 26 am btc 7 89...</td>\n",
              "      <td>55</td>\n",
              "      <td>83</td>\n",
              "    </tr>\n",
              "    <tr>\n",
              "      <th>22038</th>\n",
              "      <td>Wish Token Selfdrop Send 0 015 ETH 150 000 WIS...</td>\n",
              "      <td>Negative</td>\n",
              "      <td>wish token selfdrop send 0 015 eth 150 000 wis...</td>\n",
              "      <td>35</td>\n",
              "      <td>83</td>\n",
              "    </tr>\n",
              "    <tr>\n",
              "      <th>24768</th>\n",
              "      <td>USDCAD Buy 1 34300 Take Profit 1 34700 Stop Lo...</td>\n",
              "      <td>Negative</td>\n",
              "      <td>usdcad buy 1 34300 take profit 1 34700 stop lo...</td>\n",
              "      <td>36</td>\n",
              "      <td>83</td>\n",
              "    </tr>\n",
              "    <tr>\n",
              "      <th>21375</th>\n",
              "      <td>WISH SMART CONTRACT amp DISTRIBUTION IN 24 HRS...</td>\n",
              "      <td>Negative</td>\n",
              "      <td>wish smart contract amp distribution in 24 hrs...</td>\n",
              "      <td>39</td>\n",
              "      <td>82</td>\n",
              "    </tr>\n",
              "    <tr>\n",
              "      <th>8663</th>\n",
              "      <td>Bitcoin 1DKx1GjwE1Nm5QNrMSPX1DhhYwMwpPmsCa Eth...</td>\n",
              "      <td>Negative</td>\n",
              "      <td>bitcoin 1dkx1gjwe1nm5qnrmspx1dhhywmwppmsca eth...</td>\n",
              "      <td>6</td>\n",
              "      <td>81</td>\n",
              "    </tr>\n",
              "    <tr>\n",
              "      <th>15793</th>\n",
              "      <td>Binance is the number 1 crypto exchange in the...</td>\n",
              "      <td>Negative</td>\n",
              "      <td>binance is the number 1 crypto exchange in the...</td>\n",
              "      <td>45</td>\n",
              "      <td>81</td>\n",
              "    </tr>\n",
              "    <tr>\n",
              "      <th>21138</th>\n",
              "      <td>Who Can Make 1687 Profit We Are Join BTC ETH N...</td>\n",
              "      <td>Negative</td>\n",
              "      <td>who can make 1687 profit we are join btc eth n...</td>\n",
              "      <td>44</td>\n",
              "      <td>80</td>\n",
              "    </tr>\n",
              "  </tbody>\n",
              "</table>\n",
              "</div>\n",
              "      <button class=\"colab-df-convert\" onclick=\"convertToInteractive('df-7a112d52-5c09-4bd3-ad7f-dd9bacc5793c')\"\n",
              "              title=\"Convert this dataframe to an interactive table.\"\n",
              "              style=\"display:none;\">\n",
              "        \n",
              "  <svg xmlns=\"http://www.w3.org/2000/svg\" height=\"24px\"viewBox=\"0 0 24 24\"\n",
              "       width=\"24px\">\n",
              "    <path d=\"M0 0h24v24H0V0z\" fill=\"none\"/>\n",
              "    <path d=\"M18.56 5.44l.94 2.06.94-2.06 2.06-.94-2.06-.94-.94-2.06-.94 2.06-2.06.94zm-11 1L8.5 8.5l.94-2.06 2.06-.94-2.06-.94L8.5 2.5l-.94 2.06-2.06.94zm10 10l.94 2.06.94-2.06 2.06-.94-2.06-.94-.94-2.06-.94 2.06-2.06.94z\"/><path d=\"M17.41 7.96l-1.37-1.37c-.4-.4-.92-.59-1.43-.59-.52 0-1.04.2-1.43.59L10.3 9.45l-7.72 7.72c-.78.78-.78 2.05 0 2.83L4 21.41c.39.39.9.59 1.41.59.51 0 1.02-.2 1.41-.59l7.78-7.78 2.81-2.81c.8-.78.8-2.07 0-2.86zM5.41 20L4 18.59l7.72-7.72 1.47 1.35L5.41 20z\"/>\n",
              "  </svg>\n",
              "      </button>\n",
              "      \n",
              "  <style>\n",
              "    .colab-df-container {\n",
              "      display:flex;\n",
              "      flex-wrap:wrap;\n",
              "      gap: 12px;\n",
              "    }\n",
              "\n",
              "    .colab-df-convert {\n",
              "      background-color: #E8F0FE;\n",
              "      border: none;\n",
              "      border-radius: 50%;\n",
              "      cursor: pointer;\n",
              "      display: none;\n",
              "      fill: #1967D2;\n",
              "      height: 32px;\n",
              "      padding: 0 0 0 0;\n",
              "      width: 32px;\n",
              "    }\n",
              "\n",
              "    .colab-df-convert:hover {\n",
              "      background-color: #E2EBFA;\n",
              "      box-shadow: 0px 1px 2px rgba(60, 64, 67, 0.3), 0px 1px 3px 1px rgba(60, 64, 67, 0.15);\n",
              "      fill: #174EA6;\n",
              "    }\n",
              "\n",
              "    [theme=dark] .colab-df-convert {\n",
              "      background-color: #3B4455;\n",
              "      fill: #D2E3FC;\n",
              "    }\n",
              "\n",
              "    [theme=dark] .colab-df-convert:hover {\n",
              "      background-color: #434B5C;\n",
              "      box-shadow: 0px 1px 3px 1px rgba(0, 0, 0, 0.15);\n",
              "      filter: drop-shadow(0px 1px 2px rgba(0, 0, 0, 0.3));\n",
              "      fill: #FFFFFF;\n",
              "    }\n",
              "  </style>\n",
              "\n",
              "      <script>\n",
              "        const buttonEl =\n",
              "          document.querySelector('#df-7a112d52-5c09-4bd3-ad7f-dd9bacc5793c button.colab-df-convert');\n",
              "        buttonEl.style.display =\n",
              "          google.colab.kernel.accessAllowed ? 'block' : 'none';\n",
              "\n",
              "        async function convertToInteractive(key) {\n",
              "          const element = document.querySelector('#df-7a112d52-5c09-4bd3-ad7f-dd9bacc5793c');\n",
              "          const dataTable =\n",
              "            await google.colab.kernel.invokeFunction('convertToInteractive',\n",
              "                                                     [key], {});\n",
              "          if (!dataTable) return;\n",
              "\n",
              "          const docLinkHtml = 'Like what you see? Visit the ' +\n",
              "            '<a target=\"_blank\" href=https://colab.research.google.com/notebooks/data_table.ipynb>data table notebook</a>'\n",
              "            + ' to learn more about interactive tables.';\n",
              "          element.innerHTML = '';\n",
              "          dataTable['output_type'] = 'display_data';\n",
              "          await google.colab.output.renderOutput(dataTable, element);\n",
              "          const docLink = document.createElement('div');\n",
              "          docLink.innerHTML = docLinkHtml;\n",
              "          element.appendChild(docLink);\n",
              "        }\n",
              "      </script>\n",
              "    </div>\n",
              "  </div>\n",
              "  "
            ]
          },
          "metadata": {},
          "execution_count": 30
        }
      ]
    },
    {
      "cell_type": "code",
      "source": [
        "df = df.sample(frac=1).reset_index(drop=True)"
      ],
      "metadata": {
        "execution": {
          "iopub.status.busy": "2021-12-22T21:16:45.981284Z",
          "iopub.execute_input": "2021-12-22T21:16:45.98155Z",
          "iopub.status.idle": "2021-12-22T21:16:45.995008Z",
          "shell.execute_reply.started": "2021-12-22T21:16:45.981515Z",
          "shell.execute_reply": "2021-12-22T21:16:45.994358Z"
        },
        "trusted": true,
        "id": "YhaiDODsF_o4"
      },
      "execution_count": null,
      "outputs": []
    },
    {
      "cell_type": "markdown",
      "source": [
        "## Test data deeper cleaning"
      ],
      "metadata": {
        "id": "6BqlL4dVF_o4"
      }
    },
    {
      "cell_type": "markdown",
      "source": [
        "Same operations on test set"
      ],
      "metadata": {
        "id": "5vJ_rwhhF_o5"
      }
    },
    {
      "cell_type": "code",
      "source": [
        "token_lens_test = []\n",
        "\n",
        "for txt in df_test['text_clean'].values:\n",
        "    tokens = tokenizer.encode(txt, max_length=512, truncation=True)\n",
        "    token_lens_test.append(len(tokens))\n",
        "    \n",
        "max_len=np.max(token_lens_test)"
      ],
      "metadata": {
        "execution": {
          "iopub.status.busy": "2021-12-22T21:16:45.996245Z",
          "iopub.execute_input": "2021-12-22T21:16:45.996503Z",
          "iopub.status.idle": "2021-12-22T21:16:46.749676Z",
          "shell.execute_reply.started": "2021-12-22T21:16:45.996467Z",
          "shell.execute_reply": "2021-12-22T21:16:46.748944Z"
        },
        "trusted": true,
        "id": "1xZqhbMGF_o5"
      },
      "execution_count": null,
      "outputs": []
    },
    {
      "cell_type": "code",
      "source": [
        "print(f\"MAX TOKENIZED SENTENCE LENGTH: {max_len}\")"
      ],
      "metadata": {
        "execution": {
          "iopub.status.busy": "2021-12-22T21:16:46.75107Z",
          "iopub.execute_input": "2021-12-22T21:16:46.751349Z",
          "iopub.status.idle": "2021-12-22T21:16:46.756497Z",
          "shell.execute_reply.started": "2021-12-22T21:16:46.751312Z",
          "shell.execute_reply": "2021-12-22T21:16:46.755793Z"
        },
        "trusted": true,
        "colab": {
          "base_uri": "https://localhost:8080/"
        },
        "id": "rW8H2PxSF_o6",
        "outputId": "9b874927-4c73-47a5-83b1-8021ebb6125c"
      },
      "execution_count": null,
      "outputs": [
        {
          "output_type": "stream",
          "name": "stdout",
          "text": [
            "MAX TOKENIZED SENTENCE LENGTH: 94\n"
          ]
        }
      ]
    },
    {
      "cell_type": "code",
      "source": [
        "token_lens_test = []\n",
        "\n",
        "for i,txt in enumerate(df_test['text_clean'].values):\n",
        "    tokens = tokenizer.encode(txt, max_length=512, truncation=True)\n",
        "    token_lens_test.append(len(tokens))\n",
        "    if len(tokens)>80:\n",
        "        print(f\"INDEX: {i}, TEXT: {txt}\")"
      ],
      "metadata": {
        "execution": {
          "iopub.status.busy": "2021-12-22T21:16:46.757831Z",
          "iopub.execute_input": "2021-12-22T21:16:46.758342Z",
          "iopub.status.idle": "2021-12-22T21:16:47.500654Z",
          "shell.execute_reply.started": "2021-12-22T21:16:46.758304Z",
          "shell.execute_reply": "2021-12-22T21:16:47.499983Z"
        },
        "trusted": true,
        "colab": {
          "base_uri": "https://localhost:8080/"
        },
        "id": "ROpAO5Q_F_o6",
        "outputId": "683718ac-1f6f-4096-ab04-739cd8c26972"
      },
      "execution_count": null,
      "outputs": [
        {
          "output_type": "stream",
          "name": "stdout",
          "text": [
            "INDEX: 438, TEXT: criptodolar bitcoin 21may 08 05 07 pm btc 7 957 67 usd 0 13 eth 255 34 usd 0 34 dash 166 26 usd 0 22 pab btc 8 071 47 pab usd btc 8 146 87 usd eur btc 7 245 86 eur ves btc 46 935 757 bs vesusd 5 788 bs ven\n",
            "INDEX: 645, TEXT: check all here gt on kraken xmr to eur gt 79 3 volume gt 14777 on bitfinex ltc to usd gt 90 564 volume gt 368520 on incorex eth to rub gt 17056 21 volume gt 267 on c cex grc to btc gt 0 00000109 volume gt 320366\n",
            "INDEX: 795, TEXT: nby being manipulated but bulls still jumping bids shes gonna run aapl goog intc amzn msft cmcsa pfe mu nflx nok xom dis hsy nvda unp bac wmt chk aks vz ctl fcx amat tsla jpm wft pti bidu mrk bitcoin cldx kgkg sipc psgr blta decn cote andi\n",
            "INDEX: 1635, TEXT: wish smart contract amp distribution in 24 hrs send 0 005 eth 50 000 wish send to eth address 0x4c70f816764a238610af3de27157a87ebb428fc5 listing on mercatox amp coinexchange follow retweet comment eth address airdrop iost binance xrp xvg trx btc eth np\n"
          ]
        }
      ]
    },
    {
      "cell_type": "code",
      "source": [
        "df_test['token_lens'] = token_lens_test"
      ],
      "metadata": {
        "execution": {
          "iopub.status.busy": "2021-12-22T21:16:47.501809Z",
          "iopub.execute_input": "2021-12-22T21:16:47.50205Z",
          "iopub.status.idle": "2021-12-22T21:16:47.508688Z",
          "shell.execute_reply.started": "2021-12-22T21:16:47.502016Z",
          "shell.execute_reply": "2021-12-22T21:16:47.50766Z"
        },
        "trusted": true,
        "id": "KYj5gbqCF_o7"
      },
      "execution_count": null,
      "outputs": []
    },
    {
      "cell_type": "code",
      "source": [
        "df_test = df_test.sort_values(by='token_lens', ascending=False)\n",
        "df_test.head(10) "
      ],
      "metadata": {
        "execution": {
          "iopub.status.busy": "2021-12-22T21:16:47.509929Z",
          "iopub.execute_input": "2021-12-22T21:16:47.510349Z",
          "iopub.status.idle": "2021-12-22T21:16:47.527481Z",
          "shell.execute_reply.started": "2021-12-22T21:16:47.510311Z",
          "shell.execute_reply": "2021-12-22T21:16:47.526777Z"
        },
        "trusted": true,
        "colab": {
          "base_uri": "https://localhost:8080/",
          "height": 363
        },
        "id": "_gb76zXFF_o8",
        "outputId": "18ee0f49-17db-4ec1-ec35-a882668d8375"
      },
      "execution_count": null,
      "outputs": [
        {
          "output_type": "execute_result",
          "data": {
            "text/plain": [
              "                                                    text Sentiment  \\\n",
              "6073   NBY being MANIPULATED but bulls still jumping ...  Negative   \n",
              "22278  CriptoDolar Bitcoin 21May 08 05 07 PM BTC 7 95...  Negative   \n",
              "10697  WISH SMART CONTRACT amp DISTRIBUTION IN 24 HRS...  Negative   \n",
              "13015  Check all here gt On Kraken XMR to EUR gt 79 3...  Negative   \n",
              "9252   Berita hari ini Pengkritik Bitcoin Nouriel Rou...  Negative   \n",
              "1450   crypto prices update 1h BTC 7384 74 0 19 ETH 2...  Negative   \n",
              "16722  HIJOS DE LA CHINGADA NOMAS VEN QUE BTC Y RXP S...  Negative   \n",
              "17548  BTC Bitcoin USD 7972 72 Bitcoin EUR 7143 72 Bi...  Negative   \n",
              "8196   1 ETH is worth 256 67 USD 0 03217 BTC 230 33 E...  Negative   \n",
              "18191  Make your money grow with CityOfInvestment We ...  Negative   \n",
              "\n",
              "                                              text_clean  text_len  token_lens  \n",
              "6073   nby being manipulated but bulls still jumping ...        49          94  \n",
              "22278  criptodolar bitcoin 21may 08 05 07 pm btc 7 95...        55          85  \n",
              "10697  wish smart contract amp distribution in 24 hrs...        39          81  \n",
              "13015  check all here gt on kraken xmr to eur gt 79 3...        49          81  \n",
              "9252   berita hari ini pengkritik bitcoin nouriel rou...        27          76  \n",
              "1450   crypto prices update 1h btc 7384 74 0 19 eth 2...        56          75  \n",
              "16722  hijos de la chingada nomas ven que btc y rxp s...        38          74  \n",
              "17548  btc bitcoin usd 7972 72 bitcoin eur 7143 72 bi...        30          72  \n",
              "8196   1 eth is worth 256 67 usd 0 03217 btc 230 33 e...        50          69  \n",
              "18191  make your money grow with cityofinvestment we ...        36          69  "
            ],
            "text/html": [
              "\n",
              "  <div id=\"df-3047a64b-01ba-46cd-b24c-f09f4b2c6c45\">\n",
              "    <div class=\"colab-df-container\">\n",
              "      <div>\n",
              "<style scoped>\n",
              "    .dataframe tbody tr th:only-of-type {\n",
              "        vertical-align: middle;\n",
              "    }\n",
              "\n",
              "    .dataframe tbody tr th {\n",
              "        vertical-align: top;\n",
              "    }\n",
              "\n",
              "    .dataframe thead th {\n",
              "        text-align: right;\n",
              "    }\n",
              "</style>\n",
              "<table border=\"1\" class=\"dataframe\">\n",
              "  <thead>\n",
              "    <tr style=\"text-align: right;\">\n",
              "      <th></th>\n",
              "      <th>text</th>\n",
              "      <th>Sentiment</th>\n",
              "      <th>text_clean</th>\n",
              "      <th>text_len</th>\n",
              "      <th>token_lens</th>\n",
              "    </tr>\n",
              "  </thead>\n",
              "  <tbody>\n",
              "    <tr>\n",
              "      <th>6073</th>\n",
              "      <td>NBY being MANIPULATED but bulls still jumping ...</td>\n",
              "      <td>Negative</td>\n",
              "      <td>nby being manipulated but bulls still jumping ...</td>\n",
              "      <td>49</td>\n",
              "      <td>94</td>\n",
              "    </tr>\n",
              "    <tr>\n",
              "      <th>22278</th>\n",
              "      <td>CriptoDolar Bitcoin 21May 08 05 07 PM BTC 7 95...</td>\n",
              "      <td>Negative</td>\n",
              "      <td>criptodolar bitcoin 21may 08 05 07 pm btc 7 95...</td>\n",
              "      <td>55</td>\n",
              "      <td>85</td>\n",
              "    </tr>\n",
              "    <tr>\n",
              "      <th>10697</th>\n",
              "      <td>WISH SMART CONTRACT amp DISTRIBUTION IN 24 HRS...</td>\n",
              "      <td>Negative</td>\n",
              "      <td>wish smart contract amp distribution in 24 hrs...</td>\n",
              "      <td>39</td>\n",
              "      <td>81</td>\n",
              "    </tr>\n",
              "    <tr>\n",
              "      <th>13015</th>\n",
              "      <td>Check all here gt On Kraken XMR to EUR gt 79 3...</td>\n",
              "      <td>Negative</td>\n",
              "      <td>check all here gt on kraken xmr to eur gt 79 3...</td>\n",
              "      <td>49</td>\n",
              "      <td>81</td>\n",
              "    </tr>\n",
              "    <tr>\n",
              "      <th>9252</th>\n",
              "      <td>Berita hari ini Pengkritik Bitcoin Nouriel Rou...</td>\n",
              "      <td>Negative</td>\n",
              "      <td>berita hari ini pengkritik bitcoin nouriel rou...</td>\n",
              "      <td>27</td>\n",
              "      <td>76</td>\n",
              "    </tr>\n",
              "    <tr>\n",
              "      <th>1450</th>\n",
              "      <td>crypto prices update 1h BTC 7384 74 0 19 ETH 2...</td>\n",
              "      <td>Negative</td>\n",
              "      <td>crypto prices update 1h btc 7384 74 0 19 eth 2...</td>\n",
              "      <td>56</td>\n",
              "      <td>75</td>\n",
              "    </tr>\n",
              "    <tr>\n",
              "      <th>16722</th>\n",
              "      <td>HIJOS DE LA CHINGADA NOMAS VEN QUE BTC Y RXP S...</td>\n",
              "      <td>Negative</td>\n",
              "      <td>hijos de la chingada nomas ven que btc y rxp s...</td>\n",
              "      <td>38</td>\n",
              "      <td>74</td>\n",
              "    </tr>\n",
              "    <tr>\n",
              "      <th>17548</th>\n",
              "      <td>BTC Bitcoin USD 7972 72 Bitcoin EUR 7143 72 Bi...</td>\n",
              "      <td>Negative</td>\n",
              "      <td>btc bitcoin usd 7972 72 bitcoin eur 7143 72 bi...</td>\n",
              "      <td>30</td>\n",
              "      <td>72</td>\n",
              "    </tr>\n",
              "    <tr>\n",
              "      <th>8196</th>\n",
              "      <td>1 ETH is worth 256 67 USD 0 03217 BTC 230 33 E...</td>\n",
              "      <td>Negative</td>\n",
              "      <td>1 eth is worth 256 67 usd 0 03217 btc 230 33 e...</td>\n",
              "      <td>50</td>\n",
              "      <td>69</td>\n",
              "    </tr>\n",
              "    <tr>\n",
              "      <th>18191</th>\n",
              "      <td>Make your money grow with CityOfInvestment We ...</td>\n",
              "      <td>Negative</td>\n",
              "      <td>make your money grow with cityofinvestment we ...</td>\n",
              "      <td>36</td>\n",
              "      <td>69</td>\n",
              "    </tr>\n",
              "  </tbody>\n",
              "</table>\n",
              "</div>\n",
              "      <button class=\"colab-df-convert\" onclick=\"convertToInteractive('df-3047a64b-01ba-46cd-b24c-f09f4b2c6c45')\"\n",
              "              title=\"Convert this dataframe to an interactive table.\"\n",
              "              style=\"display:none;\">\n",
              "        \n",
              "  <svg xmlns=\"http://www.w3.org/2000/svg\" height=\"24px\"viewBox=\"0 0 24 24\"\n",
              "       width=\"24px\">\n",
              "    <path d=\"M0 0h24v24H0V0z\" fill=\"none\"/>\n",
              "    <path d=\"M18.56 5.44l.94 2.06.94-2.06 2.06-.94-2.06-.94-.94-2.06-.94 2.06-2.06.94zm-11 1L8.5 8.5l.94-2.06 2.06-.94-2.06-.94L8.5 2.5l-.94 2.06-2.06.94zm10 10l.94 2.06.94-2.06 2.06-.94-2.06-.94-.94-2.06-.94 2.06-2.06.94z\"/><path d=\"M17.41 7.96l-1.37-1.37c-.4-.4-.92-.59-1.43-.59-.52 0-1.04.2-1.43.59L10.3 9.45l-7.72 7.72c-.78.78-.78 2.05 0 2.83L4 21.41c.39.39.9.59 1.41.59.51 0 1.02-.2 1.41-.59l7.78-7.78 2.81-2.81c.8-.78.8-2.07 0-2.86zM5.41 20L4 18.59l7.72-7.72 1.47 1.35L5.41 20z\"/>\n",
              "  </svg>\n",
              "      </button>\n",
              "      \n",
              "  <style>\n",
              "    .colab-df-container {\n",
              "      display:flex;\n",
              "      flex-wrap:wrap;\n",
              "      gap: 12px;\n",
              "    }\n",
              "\n",
              "    .colab-df-convert {\n",
              "      background-color: #E8F0FE;\n",
              "      border: none;\n",
              "      border-radius: 50%;\n",
              "      cursor: pointer;\n",
              "      display: none;\n",
              "      fill: #1967D2;\n",
              "      height: 32px;\n",
              "      padding: 0 0 0 0;\n",
              "      width: 32px;\n",
              "    }\n",
              "\n",
              "    .colab-df-convert:hover {\n",
              "      background-color: #E2EBFA;\n",
              "      box-shadow: 0px 1px 2px rgba(60, 64, 67, 0.3), 0px 1px 3px 1px rgba(60, 64, 67, 0.15);\n",
              "      fill: #174EA6;\n",
              "    }\n",
              "\n",
              "    [theme=dark] .colab-df-convert {\n",
              "      background-color: #3B4455;\n",
              "      fill: #D2E3FC;\n",
              "    }\n",
              "\n",
              "    [theme=dark] .colab-df-convert:hover {\n",
              "      background-color: #434B5C;\n",
              "      box-shadow: 0px 1px 3px 1px rgba(0, 0, 0, 0.15);\n",
              "      filter: drop-shadow(0px 1px 2px rgba(0, 0, 0, 0.3));\n",
              "      fill: #FFFFFF;\n",
              "    }\n",
              "  </style>\n",
              "\n",
              "      <script>\n",
              "        const buttonEl =\n",
              "          document.querySelector('#df-3047a64b-01ba-46cd-b24c-f09f4b2c6c45 button.colab-df-convert');\n",
              "        buttonEl.style.display =\n",
              "          google.colab.kernel.accessAllowed ? 'block' : 'none';\n",
              "\n",
              "        async function convertToInteractive(key) {\n",
              "          const element = document.querySelector('#df-3047a64b-01ba-46cd-b24c-f09f4b2c6c45');\n",
              "          const dataTable =\n",
              "            await google.colab.kernel.invokeFunction('convertToInteractive',\n",
              "                                                     [key], {});\n",
              "          if (!dataTable) return;\n",
              "\n",
              "          const docLinkHtml = 'Like what you see? Visit the ' +\n",
              "            '<a target=\"_blank\" href=https://colab.research.google.com/notebooks/data_table.ipynb>data table notebook</a>'\n",
              "            + ' to learn more about interactive tables.';\n",
              "          element.innerHTML = '';\n",
              "          dataTable['output_type'] = 'display_data';\n",
              "          await google.colab.output.renderOutput(dataTable, element);\n",
              "          const docLink = document.createElement('div');\n",
              "          docLink.innerHTML = docLinkHtml;\n",
              "          element.appendChild(docLink);\n",
              "        }\n",
              "      </script>\n",
              "    </div>\n",
              "  </div>\n",
              "  "
            ]
          },
          "metadata": {},
          "execution_count": 36
        }
      ]
    },
    {
      "cell_type": "code",
      "source": [
        "df_test = df_test.sample(frac=1).reset_index(drop=True)"
      ],
      "metadata": {
        "execution": {
          "iopub.status.busy": "2021-12-22T21:16:47.541138Z",
          "iopub.execute_input": "2021-12-22T21:16:47.541731Z",
          "iopub.status.idle": "2021-12-22T21:16:47.548553Z",
          "shell.execute_reply.started": "2021-12-22T21:16:47.541662Z",
          "shell.execute_reply": "2021-12-22T21:16:47.547872Z"
        },
        "trusted": true,
        "id": "-ZfN22nFF_o9"
      },
      "execution_count": null,
      "outputs": []
    },
    {
      "cell_type": "markdown",
      "source": [
        "# Sentiment column analysis"
      ],
      "metadata": {
        "id": "etTw_cEjF_o-"
      }
    },
    {
      "cell_type": "code",
      "source": [
        "df['Sentiment'].value_counts()"
      ],
      "metadata": {
        "execution": {
          "iopub.status.busy": "2021-12-22T21:16:47.549868Z",
          "iopub.execute_input": "2021-12-22T21:16:47.550374Z",
          "iopub.status.idle": "2021-12-22T21:16:47.564332Z",
          "shell.execute_reply.started": "2021-12-22T21:16:47.550336Z",
          "shell.execute_reply": "2021-12-22T21:16:47.56366Z"
        },
        "trusted": true,
        "colab": {
          "base_uri": "https://localhost:8080/"
        },
        "id": "nUf-3jewF_o-",
        "outputId": "303de597-fd06-475e-fd46-ecdaeddf515b"
      },
      "execution_count": null,
      "outputs": [
        {
          "output_type": "execute_result",
          "data": {
            "text/plain": [
              "Neutral     8531\n",
              "Positive    6736\n",
              "Negative    6518\n",
              "Name: Sentiment, dtype: int64"
            ]
          },
          "metadata": {},
          "execution_count": 38
        }
      ]
    },
    {
      "cell_type": "markdown",
      "source": [
        "Labeling the sentiments"
      ],
      "metadata": {
        "execution": {
          "iopub.status.busy": "2021-12-05T11:35:57.747932Z",
          "iopub.execute_input": "2021-12-05T11:35:57.748569Z",
          "iopub.status.idle": "2021-12-05T11:35:57.753489Z",
          "shell.execute_reply.started": "2021-12-05T11:35:57.748528Z",
          "shell.execute_reply": "2021-12-05T11:35:57.752685Z"
        },
        "id": "YSwEX4UyF_o_"
      }
    },
    {
      "cell_type": "code",
      "source": [
        "df['Sentiment'] = df['Sentiment'].map({'Negative':0,'Neutral':1,'Positive':2})"
      ],
      "metadata": {
        "execution": {
          "iopub.status.busy": "2021-12-22T21:16:47.565714Z",
          "iopub.execute_input": "2021-12-22T21:16:47.566009Z",
          "iopub.status.idle": "2021-12-22T21:16:47.580459Z",
          "shell.execute_reply.started": "2021-12-22T21:16:47.565975Z",
          "shell.execute_reply": "2021-12-22T21:16:47.579684Z"
        },
        "trusted": true,
        "id": "xBDgtIjSF_o_"
      },
      "execution_count": null,
      "outputs": []
    },
    {
      "cell_type": "code",
      "source": [
        "df_test['Sentiment'] = df_test['Sentiment'].map({'Negative':0,'Neutral':1,'Positive':2})"
      ],
      "metadata": {
        "execution": {
          "iopub.status.busy": "2021-12-22T21:16:47.581764Z",
          "iopub.execute_input": "2021-12-22T21:16:47.582551Z",
          "iopub.status.idle": "2021-12-22T21:16:47.589144Z",
          "shell.execute_reply.started": "2021-12-22T21:16:47.582474Z",
          "shell.execute_reply": "2021-12-22T21:16:47.588501Z"
        },
        "trusted": true,
        "id": "GQxljA1cF_o_"
      },
      "execution_count": null,
      "outputs": []
    },
    {
      "cell_type": "code",
      "source": [
        "df['Sentiment'].value_counts()"
      ],
      "metadata": {
        "execution": {
          "iopub.status.busy": "2021-12-22T21:16:47.591248Z",
          "iopub.execute_input": "2021-12-22T21:16:47.592996Z",
          "iopub.status.idle": "2021-12-22T21:16:47.599802Z",
          "shell.execute_reply.started": "2021-12-22T21:16:47.592966Z",
          "shell.execute_reply": "2021-12-22T21:16:47.59916Z"
        },
        "trusted": true,
        "colab": {
          "base_uri": "https://localhost:8080/"
        },
        "id": "049-ULGQF_pA",
        "outputId": "9dec22d5-8868-493b-a5df-897ccfee82d5"
      },
      "execution_count": null,
      "outputs": [
        {
          "output_type": "execute_result",
          "data": {
            "text/plain": [
              "1    8531\n",
              "2    6736\n",
              "0    6518\n",
              "Name: Sentiment, dtype: int64"
            ]
          },
          "metadata": {},
          "execution_count": 41
        }
      ]
    },
    {
      "cell_type": "code",
      "source": [
        "df"
      ],
      "metadata": {
        "colab": {
          "base_uri": "https://localhost:8080/",
          "height": 423
        },
        "id": "uvhCappAKDOI",
        "outputId": "84d68e76-8590-40a2-a7a4-7bdd77ca6a46"
      },
      "execution_count": null,
      "outputs": [
        {
          "output_type": "execute_result",
          "data": {
            "text/plain": [
              "                                                    text  Sentiment  \\\n",
              "0      Bitcoin Will Become a Basic Utility Just Like ...          1   \n",
              "1                    How many retweets for 1 Bitcoin sir          2   \n",
              "2      yeah for sure many things are over priced in t...          2   \n",
              "3      Cryptocurrency Simplified Using Crypto Is Easy...          0   \n",
              "4      RT Cotizaciones al 18 03 2018 08 00 AM Bitcoin...          1   \n",
              "...                                                  ...        ...   \n",
              "21780  Members Chinas First Central Bank Governor in ...          2   \n",
              "21781  RT Join the Byteball discussion slack Get your...          1   \n",
              "21782  Start trading now Fruity Prodeum ICO Scammers ...          1   \n",
              "21783  RT RT We re officially announcing the Bether t...          1   \n",
              "21784  RT Zapped Out Washington County Places a Morat...          1   \n",
              "\n",
              "                                              text_clean  text_len  token_lens  \n",
              "0      bitcoin will become a basic utility just like ...        12          14  \n",
              "1                    how many retweets for 1 bitcoin sir         7          11  \n",
              "2      yeah for sure many things are over priced in t...        18          20  \n",
              "3      cryptocurrency simplified using crypto is easy...        10          15  \n",
              "4      rt cotizaciones al 18 03 2018 08 00 am bitcoin...        24          39  \n",
              "...                                                  ...       ...         ...  \n",
              "21780  members chinas first central bank governor in ...        11          14  \n",
              "21781  rt join the byteball discussion slack get your...        15          20  \n",
              "21782  start trading now fruity prodeum ico scammers ...        12          19  \n",
              "21783  rt rt we re officially announcing the bether t...        15          19  \n",
              "21784  rt zapped out washington county places a morat...        11          15  \n",
              "\n",
              "[21785 rows x 5 columns]"
            ],
            "text/html": [
              "\n",
              "  <div id=\"df-9d2db999-19a2-4734-a83d-821090dd6258\">\n",
              "    <div class=\"colab-df-container\">\n",
              "      <div>\n",
              "<style scoped>\n",
              "    .dataframe tbody tr th:only-of-type {\n",
              "        vertical-align: middle;\n",
              "    }\n",
              "\n",
              "    .dataframe tbody tr th {\n",
              "        vertical-align: top;\n",
              "    }\n",
              "\n",
              "    .dataframe thead th {\n",
              "        text-align: right;\n",
              "    }\n",
              "</style>\n",
              "<table border=\"1\" class=\"dataframe\">\n",
              "  <thead>\n",
              "    <tr style=\"text-align: right;\">\n",
              "      <th></th>\n",
              "      <th>text</th>\n",
              "      <th>Sentiment</th>\n",
              "      <th>text_clean</th>\n",
              "      <th>text_len</th>\n",
              "      <th>token_lens</th>\n",
              "    </tr>\n",
              "  </thead>\n",
              "  <tbody>\n",
              "    <tr>\n",
              "      <th>0</th>\n",
              "      <td>Bitcoin Will Become a Basic Utility Just Like ...</td>\n",
              "      <td>1</td>\n",
              "      <td>bitcoin will become a basic utility just like ...</td>\n",
              "      <td>12</td>\n",
              "      <td>14</td>\n",
              "    </tr>\n",
              "    <tr>\n",
              "      <th>1</th>\n",
              "      <td>How many retweets for 1 Bitcoin sir</td>\n",
              "      <td>2</td>\n",
              "      <td>how many retweets for 1 bitcoin sir</td>\n",
              "      <td>7</td>\n",
              "      <td>11</td>\n",
              "    </tr>\n",
              "    <tr>\n",
              "      <th>2</th>\n",
              "      <td>yeah for sure many things are over priced in t...</td>\n",
              "      <td>2</td>\n",
              "      <td>yeah for sure many things are over priced in t...</td>\n",
              "      <td>18</td>\n",
              "      <td>20</td>\n",
              "    </tr>\n",
              "    <tr>\n",
              "      <th>3</th>\n",
              "      <td>Cryptocurrency Simplified Using Crypto Is Easy...</td>\n",
              "      <td>0</td>\n",
              "      <td>cryptocurrency simplified using crypto is easy...</td>\n",
              "      <td>10</td>\n",
              "      <td>15</td>\n",
              "    </tr>\n",
              "    <tr>\n",
              "      <th>4</th>\n",
              "      <td>RT Cotizaciones al 18 03 2018 08 00 AM Bitcoin...</td>\n",
              "      <td>1</td>\n",
              "      <td>rt cotizaciones al 18 03 2018 08 00 am bitcoin...</td>\n",
              "      <td>24</td>\n",
              "      <td>39</td>\n",
              "    </tr>\n",
              "    <tr>\n",
              "      <th>...</th>\n",
              "      <td>...</td>\n",
              "      <td>...</td>\n",
              "      <td>...</td>\n",
              "      <td>...</td>\n",
              "      <td>...</td>\n",
              "    </tr>\n",
              "    <tr>\n",
              "      <th>21780</th>\n",
              "      <td>Members Chinas First Central Bank Governor in ...</td>\n",
              "      <td>2</td>\n",
              "      <td>members chinas first central bank governor in ...</td>\n",
              "      <td>11</td>\n",
              "      <td>14</td>\n",
              "    </tr>\n",
              "    <tr>\n",
              "      <th>21781</th>\n",
              "      <td>RT Join the Byteball discussion slack Get your...</td>\n",
              "      <td>1</td>\n",
              "      <td>rt join the byteball discussion slack get your...</td>\n",
              "      <td>15</td>\n",
              "      <td>20</td>\n",
              "    </tr>\n",
              "    <tr>\n",
              "      <th>21782</th>\n",
              "      <td>Start trading now Fruity Prodeum ICO Scammers ...</td>\n",
              "      <td>1</td>\n",
              "      <td>start trading now fruity prodeum ico scammers ...</td>\n",
              "      <td>12</td>\n",
              "      <td>19</td>\n",
              "    </tr>\n",
              "    <tr>\n",
              "      <th>21783</th>\n",
              "      <td>RT RT We re officially announcing the Bether t...</td>\n",
              "      <td>1</td>\n",
              "      <td>rt rt we re officially announcing the bether t...</td>\n",
              "      <td>15</td>\n",
              "      <td>19</td>\n",
              "    </tr>\n",
              "    <tr>\n",
              "      <th>21784</th>\n",
              "      <td>RT Zapped Out Washington County Places a Morat...</td>\n",
              "      <td>1</td>\n",
              "      <td>rt zapped out washington county places a morat...</td>\n",
              "      <td>11</td>\n",
              "      <td>15</td>\n",
              "    </tr>\n",
              "  </tbody>\n",
              "</table>\n",
              "<p>21785 rows × 5 columns</p>\n",
              "</div>\n",
              "      <button class=\"colab-df-convert\" onclick=\"convertToInteractive('df-9d2db999-19a2-4734-a83d-821090dd6258')\"\n",
              "              title=\"Convert this dataframe to an interactive table.\"\n",
              "              style=\"display:none;\">\n",
              "        \n",
              "  <svg xmlns=\"http://www.w3.org/2000/svg\" height=\"24px\"viewBox=\"0 0 24 24\"\n",
              "       width=\"24px\">\n",
              "    <path d=\"M0 0h24v24H0V0z\" fill=\"none\"/>\n",
              "    <path d=\"M18.56 5.44l.94 2.06.94-2.06 2.06-.94-2.06-.94-.94-2.06-.94 2.06-2.06.94zm-11 1L8.5 8.5l.94-2.06 2.06-.94-2.06-.94L8.5 2.5l-.94 2.06-2.06.94zm10 10l.94 2.06.94-2.06 2.06-.94-2.06-.94-.94-2.06-.94 2.06-2.06.94z\"/><path d=\"M17.41 7.96l-1.37-1.37c-.4-.4-.92-.59-1.43-.59-.52 0-1.04.2-1.43.59L10.3 9.45l-7.72 7.72c-.78.78-.78 2.05 0 2.83L4 21.41c.39.39.9.59 1.41.59.51 0 1.02-.2 1.41-.59l7.78-7.78 2.81-2.81c.8-.78.8-2.07 0-2.86zM5.41 20L4 18.59l7.72-7.72 1.47 1.35L5.41 20z\"/>\n",
              "  </svg>\n",
              "      </button>\n",
              "      \n",
              "  <style>\n",
              "    .colab-df-container {\n",
              "      display:flex;\n",
              "      flex-wrap:wrap;\n",
              "      gap: 12px;\n",
              "    }\n",
              "\n",
              "    .colab-df-convert {\n",
              "      background-color: #E8F0FE;\n",
              "      border: none;\n",
              "      border-radius: 50%;\n",
              "      cursor: pointer;\n",
              "      display: none;\n",
              "      fill: #1967D2;\n",
              "      height: 32px;\n",
              "      padding: 0 0 0 0;\n",
              "      width: 32px;\n",
              "    }\n",
              "\n",
              "    .colab-df-convert:hover {\n",
              "      background-color: #E2EBFA;\n",
              "      box-shadow: 0px 1px 2px rgba(60, 64, 67, 0.3), 0px 1px 3px 1px rgba(60, 64, 67, 0.15);\n",
              "      fill: #174EA6;\n",
              "    }\n",
              "\n",
              "    [theme=dark] .colab-df-convert {\n",
              "      background-color: #3B4455;\n",
              "      fill: #D2E3FC;\n",
              "    }\n",
              "\n",
              "    [theme=dark] .colab-df-convert:hover {\n",
              "      background-color: #434B5C;\n",
              "      box-shadow: 0px 1px 3px 1px rgba(0, 0, 0, 0.15);\n",
              "      filter: drop-shadow(0px 1px 2px rgba(0, 0, 0, 0.3));\n",
              "      fill: #FFFFFF;\n",
              "    }\n",
              "  </style>\n",
              "\n",
              "      <script>\n",
              "        const buttonEl =\n",
              "          document.querySelector('#df-9d2db999-19a2-4734-a83d-821090dd6258 button.colab-df-convert');\n",
              "        buttonEl.style.display =\n",
              "          google.colab.kernel.accessAllowed ? 'block' : 'none';\n",
              "\n",
              "        async function convertToInteractive(key) {\n",
              "          const element = document.querySelector('#df-9d2db999-19a2-4734-a83d-821090dd6258');\n",
              "          const dataTable =\n",
              "            await google.colab.kernel.invokeFunction('convertToInteractive',\n",
              "                                                     [key], {});\n",
              "          if (!dataTable) return;\n",
              "\n",
              "          const docLinkHtml = 'Like what you see? Visit the ' +\n",
              "            '<a target=\"_blank\" href=https://colab.research.google.com/notebooks/data_table.ipynb>data table notebook</a>'\n",
              "            + ' to learn more about interactive tables.';\n",
              "          element.innerHTML = '';\n",
              "          dataTable['output_type'] = 'display_data';\n",
              "          await google.colab.output.renderOutput(dataTable, element);\n",
              "          const docLink = document.createElement('div');\n",
              "          docLink.innerHTML = docLinkHtml;\n",
              "          element.appendChild(docLink);\n",
              "        }\n",
              "      </script>\n",
              "    </div>\n",
              "  </div>\n",
              "  "
            ]
          },
          "metadata": {},
          "execution_count": 42
        }
      ]
    },
    {
      "cell_type": "markdown",
      "source": [
        "To get rid of class imbalance problem, random oversampling is done."
      ],
      "metadata": {
        "id": "QO7pA3UyF_pA"
      }
    },
    {
      "cell_type": "markdown",
      "source": [
        "## Class Balancing by RandomOverSampler"
      ],
      "metadata": {
        "id": "2vZ_f5A6F_pA"
      }
    },
    {
      "cell_type": "code",
      "source": [
        "ros = RandomOverSampler()\n",
        "train_x, train_y = ros.fit_resample(np.array(df['text_clean']).reshape(-1, 1), np.array(df['Sentiment']).reshape(-1, 1));\n",
        "train_os = pd.DataFrame(list(zip([x[0] for x in train_x], train_y)), columns = ['text_clean', 'Sentiment']);"
      ],
      "metadata": {
        "execution": {
          "iopub.status.busy": "2021-12-22T21:16:47.601159Z",
          "iopub.execute_input": "2021-12-22T21:16:47.601752Z",
          "iopub.status.idle": "2021-12-22T21:16:47.697589Z",
          "shell.execute_reply.started": "2021-12-22T21:16:47.601678Z",
          "shell.execute_reply": "2021-12-22T21:16:47.696904Z"
        },
        "trusted": true,
        "id": "TVlknLTUF_pB"
      },
      "execution_count": null,
      "outputs": []
    },
    {
      "cell_type": "code",
      "source": [
        "train_os['Sentiment'].value_counts()"
      ],
      "metadata": {
        "execution": {
          "iopub.status.busy": "2021-12-22T21:16:47.698691Z",
          "iopub.execute_input": "2021-12-22T21:16:47.698926Z",
          "iopub.status.idle": "2021-12-22T21:16:47.705998Z",
          "shell.execute_reply.started": "2021-12-22T21:16:47.698894Z",
          "shell.execute_reply": "2021-12-22T21:16:47.70527Z"
        },
        "trusted": true,
        "colab": {
          "base_uri": "https://localhost:8080/"
        },
        "id": "s0Gd-vaLF_pB",
        "outputId": "6295e8d7-d5ef-47df-d7ef-84ca27172539"
      },
      "execution_count": null,
      "outputs": [
        {
          "output_type": "execute_result",
          "data": {
            "text/plain": [
              "1    8531\n",
              "2    8531\n",
              "0    8531\n",
              "Name: Sentiment, dtype: int64"
            ]
          },
          "metadata": {},
          "execution_count": 44
        }
      ]
    },
    {
      "cell_type": "markdown",
      "source": [
        "## Train - Validation - Test split"
      ],
      "metadata": {
        "id": "nRUibL3cF_pB"
      }
    },
    {
      "cell_type": "code",
      "source": [
        "X = train_os['text_clean'].values\n",
        "y = train_os['Sentiment'].values"
      ],
      "metadata": {
        "execution": {
          "iopub.status.busy": "2021-12-22T21:16:47.713125Z",
          "iopub.execute_input": "2021-12-22T21:16:47.713316Z",
          "iopub.status.idle": "2021-12-22T21:16:47.717547Z",
          "shell.execute_reply.started": "2021-12-22T21:16:47.713294Z",
          "shell.execute_reply": "2021-12-22T21:16:47.716647Z"
        },
        "trusted": true,
        "id": "0reqsXC_F_pC"
      },
      "execution_count": null,
      "outputs": []
    },
    {
      "cell_type": "code",
      "source": [
        "X_train, X_valid, y_train, y_valid = train_test_split(X, y, test_size=0.1, stratify=y, random_state=seed)"
      ],
      "metadata": {
        "execution": {
          "iopub.status.busy": "2021-12-22T21:16:47.718981Z",
          "iopub.execute_input": "2021-12-22T21:16:47.719469Z",
          "iopub.status.idle": "2021-12-22T21:16:47.761536Z",
          "shell.execute_reply.started": "2021-12-22T21:16:47.719431Z",
          "shell.execute_reply": "2021-12-22T21:16:47.760925Z"
        },
        "trusted": true,
        "id": "2Co2omlvF_pC"
      },
      "execution_count": null,
      "outputs": []
    },
    {
      "cell_type": "code",
      "source": [
        "X_test = df_test['text_clean'].values\n",
        "y_test = df_test['Sentiment'].values"
      ],
      "metadata": {
        "execution": {
          "iopub.status.busy": "2021-12-22T21:16:47.762757Z",
          "iopub.execute_input": "2021-12-22T21:16:47.763Z",
          "iopub.status.idle": "2021-12-22T21:16:47.768878Z",
          "shell.execute_reply.started": "2021-12-22T21:16:47.762967Z",
          "shell.execute_reply": "2021-12-22T21:16:47.76812Z"
        },
        "trusted": true,
        "id": "cNawqQesF_pD"
      },
      "execution_count": null,
      "outputs": []
    },
    {
      "cell_type": "markdown",
      "source": [
        "## One hot encoding"
      ],
      "metadata": {
        "id": "dFl4NsaJF_pD"
      }
    },
    {
      "cell_type": "code",
      "source": [
        "y_train_le = y_train.copy()\n",
        "y_valid_le = y_valid.copy()\n",
        "y_test_le = y_test.copy()"
      ],
      "metadata": {
        "execution": {
          "iopub.status.busy": "2021-12-22T21:16:47.770333Z",
          "iopub.execute_input": "2021-12-22T21:16:47.770915Z",
          "iopub.status.idle": "2021-12-22T21:16:47.776791Z",
          "shell.execute_reply.started": "2021-12-22T21:16:47.770878Z",
          "shell.execute_reply": "2021-12-22T21:16:47.776179Z"
        },
        "trusted": true,
        "id": "s8lTZUpYF_pE"
      },
      "execution_count": null,
      "outputs": []
    },
    {
      "cell_type": "code",
      "source": [
        "ohe = preprocessing.OneHotEncoder()\n",
        "y_train = ohe.fit_transform(np.array(y_train).reshape(-1, 1)).toarray()\n",
        "y_valid = ohe.fit_transform(np.array(y_valid).reshape(-1, 1)).toarray()\n",
        "y_test = ohe.fit_transform(np.array(y_test).reshape(-1, 1)).toarray()"
      ],
      "metadata": {
        "execution": {
          "iopub.status.busy": "2021-12-22T21:16:47.778211Z",
          "iopub.execute_input": "2021-12-22T21:16:47.778775Z",
          "iopub.status.idle": "2021-12-22T21:16:47.791468Z",
          "shell.execute_reply.started": "2021-12-22T21:16:47.778739Z",
          "shell.execute_reply": "2021-12-22T21:16:47.790847Z"
        },
        "trusted": true,
        "id": "Njixm1UGF_pE"
      },
      "execution_count": null,
      "outputs": []
    },
    {
      "cell_type": "code",
      "source": [
        "print(f\"TRAINING DATA: {X_train.shape[0]}\\nVALIDATION DATA: {X_valid.shape[0]}\\nTESTING DATA: {X_test.shape[0]}\" )"
      ],
      "metadata": {
        "execution": {
          "iopub.status.busy": "2021-12-22T21:16:47.792606Z",
          "iopub.execute_input": "2021-12-22T21:16:47.792855Z",
          "iopub.status.idle": "2021-12-22T21:16:47.797366Z",
          "shell.execute_reply.started": "2021-12-22T21:16:47.792822Z",
          "shell.execute_reply": "2021-12-22T21:16:47.796422Z"
        },
        "trusted": true,
        "colab": {
          "base_uri": "https://localhost:8080/"
        },
        "id": "oUMuyPE7F_pF",
        "outputId": "02e01186-722a-4d85-f603-84c464144209"
      },
      "execution_count": null,
      "outputs": [
        {
          "output_type": "stream",
          "name": "stdout",
          "text": [
            "TRAINING DATA: 23033\n",
            "VALIDATION DATA: 2560\n",
            "TESTING DATA: 2423\n"
          ]
        }
      ]
    },
    {
      "cell_type": "markdown",
      "source": [
        "# RoBERTa Sentiment Analysis"
      ],
      "metadata": {
        "id": "oeC9KSbBF_pa"
      }
    },
    {
      "cell_type": "markdown",
      "source": [
        "checking for the length of the longest tokenized sentence by roberta tokenizer:"
      ],
      "metadata": {
        "id": "sX1AixdpF_pb"
      }
    },
    {
      "cell_type": "code",
      "source": [
        "token_lens = []\n",
        "\n",
        "for txt in X_train:\n",
        "    tokens = tokenizer.encode(txt, max_length=512, truncation=True)\n",
        "    token_lens.append(len(tokens))\n",
        "max_length=np.max(token_lens)\n",
        "max_length"
      ],
      "metadata": {
        "execution": {
          "iopub.status.busy": "2021-12-22T22:08:50.651296Z",
          "iopub.execute_input": "2021-12-22T22:08:50.651554Z",
          "iopub.status.idle": "2021-12-22T22:09:00.109456Z",
          "shell.execute_reply.started": "2021-12-22T22:08:50.651524Z",
          "shell.execute_reply": "2021-12-22T22:09:00.108622Z"
        },
        "trusted": true,
        "colab": {
          "base_uri": "https://localhost:8080/"
        },
        "id": "MYzfdZHxF_pb",
        "outputId": "81446780-0b01-4c06-a863-4b758f5895cf"
      },
      "execution_count": null,
      "outputs": [
        {
          "output_type": "execute_result",
          "data": {
            "text/plain": [
              "110"
            ]
          },
          "metadata": {},
          "execution_count": 51
        }
      ]
    },
    {
      "cell_type": "code",
      "source": [
        "MAX_LEN=128"
      ],
      "metadata": {
        "execution": {
          "iopub.status.busy": "2021-12-22T22:09:00.110918Z",
          "iopub.execute_input": "2021-12-22T22:09:00.111182Z",
          "iopub.status.idle": "2021-12-22T22:09:00.11522Z",
          "shell.execute_reply.started": "2021-12-22T22:09:00.111146Z",
          "shell.execute_reply": "2021-12-22T22:09:00.114446Z"
        },
        "trusted": true,
        "id": "YJ4yEmBsF_pb"
      },
      "execution_count": null,
      "outputs": []
    },
    {
      "cell_type": "markdown",
      "source": [
        "Then we can define the tokenization function"
      ],
      "metadata": {
        "id": "I61DfvJNF_pc"
      }
    },
    {
      "cell_type": "code",
      "source": [
        "def tokenize_roberta(data,max_len=MAX_LEN) :\n",
        "    input_ids = []\n",
        "    attention_masks = []\n",
        "    for i in range(len(data)):\n",
        "        encoded = tokenizer.encode_plus(\n",
        "            data[i],\n",
        "            add_special_tokens=True,\n",
        "            max_length=max_len,\n",
        "            padding='max_length',\n",
        "            return_attention_mask=True,\n",
        "        )\n",
        "        input_ids.append(encoded['input_ids'])\n",
        "        attention_masks.append(encoded['attention_mask'])\n",
        "    return np.array(input_ids),np.array(attention_masks)"
      ],
      "metadata": {
        "execution": {
          "iopub.status.busy": "2021-12-22T22:09:00.117509Z",
          "iopub.execute_input": "2021-12-22T22:09:00.11775Z",
          "iopub.status.idle": "2021-12-22T22:09:00.126043Z",
          "shell.execute_reply.started": "2021-12-22T22:09:00.117704Z",
          "shell.execute_reply": "2021-12-22T22:09:00.125367Z"
        },
        "trusted": true,
        "id": "6WTdg4XYF_pc"
      },
      "execution_count": null,
      "outputs": []
    },
    {
      "cell_type": "code",
      "source": [
        "train_input_ids, train_attention_masks = tokenize_roberta(X_train, MAX_LEN)\n",
        "val_input_ids, val_attention_masks = tokenize_roberta(X_valid, MAX_LEN)\n",
        "test_input_ids, test_attention_masks = tokenize_roberta(X_test, MAX_LEN)"
      ],
      "metadata": {
        "execution": {
          "iopub.status.busy": "2021-12-22T22:09:00.12842Z",
          "iopub.execute_input": "2021-12-22T22:09:00.128657Z",
          "iopub.status.idle": "2021-12-22T22:09:16.271659Z",
          "shell.execute_reply.started": "2021-12-22T22:09:00.128626Z",
          "shell.execute_reply": "2021-12-22T22:09:16.270814Z"
        },
        "trusted": true,
        "id": "-TfN0AQqF_pd"
      },
      "execution_count": null,
      "outputs": []
    },
    {
      "cell_type": "markdown",
      "source": [
        "# RoBERTa modeling"
      ],
      "metadata": {
        "id": "J4GI8NsZF_pe"
      }
    },
    {
      "cell_type": "code",
      "source": [
        "def create_model(roberta_model, max_len=MAX_LEN):\n",
        "    \n",
        "    opt = tf.keras.optimizers.Adam(learning_rate=1e-5)\n",
        "    loss = tf.keras.losses.CategoricalCrossentropy()\n",
        "    accuracy = tf.keras.metrics.CategoricalAccuracy()\n",
        "\n",
        "    input_ids = tf.keras.Input(shape=(max_len),dtype='int32')\n",
        "    attention_masks = tf.keras.Input(shape=(max_len),dtype='int32')\n",
        "    embedding = roberta_model([input_ids,attention_masks])[1]\n",
        "    #output = output[1]\n",
        "    output = tf.keras.layers.Dense(3, activation=\"softmax\")(embedding)\n",
        "\n",
        "    model = tf.keras.models.Model(inputs = [input_ids,attention_masks],outputs = output)\n",
        "    model.compile(opt, loss=loss, metrics=accuracy)\n",
        "    return model"
      ],
      "metadata": {
        "execution": {
          "iopub.status.busy": "2021-12-22T22:09:16.275223Z",
          "iopub.execute_input": "2021-12-22T22:09:16.27546Z",
          "iopub.status.idle": "2021-12-22T22:09:16.282419Z",
          "shell.execute_reply.started": "2021-12-22T22:09:16.275433Z",
          "shell.execute_reply": "2021-12-22T22:09:16.28167Z"
        },
        "trusted": true,
        "id": "lcwk41qjF_pe"
      },
      "execution_count": null,
      "outputs": []
    },
    {
      "cell_type": "code",
      "source": [
        "#bert_model = TFBertModel.from_pretrained('bert-base-uncased')\n",
        "#roberta_model = TFAutoModel.from_pretrained('cardiffnlp/twitter-roberta-base-sentiment-latest')\n",
        "#bert_model = TFBertModel.from_pretrained('bert-base-uncased')\n",
        "roberta_model = TFRobertaModel.from_pretrained('roberta-base')"
      ],
      "metadata": {
        "_kg_hide-output": true,
        "execution": {
          "iopub.status.busy": "2021-12-22T22:09:16.283698Z",
          "iopub.execute_input": "2021-12-22T22:09:16.284104Z",
          "iopub.status.idle": "2021-12-22T22:09:19.200534Z",
          "shell.execute_reply.started": "2021-12-22T22:09:16.284069Z",
          "shell.execute_reply": "2021-12-22T22:09:19.198861Z"
        },
        "trusted": true,
        "colab": {
          "base_uri": "https://localhost:8080/",
          "height": 160,
          "referenced_widgets": [
            "505247cc442c4e899a6266d785088411",
            "81b1e36f8c09451cb68fafb0ab6937ba",
            "1a412ec0653149cc9f3a87b8c53dbf35",
            "b7192511898b49a1b77f274202a7ffdd",
            "97927f3ef07543b7a24ab95e5abcad01",
            "6a48919924e64ba799392d4b9dcc3173",
            "e79638a8d4e64850b08da912062a6801",
            "27434947c5cc428793eabdb44c94234c",
            "1f94ec4a7a1d4cf082cfffa457579bd5",
            "02b8973ad5c247939e4e2891d592ab26",
            "c86516189da54345b66a9a2694616701"
          ]
        },
        "id": "3xdfVX5uF_pf",
        "outputId": "ac15d5fb-cd6c-407a-83a8-70a6bb217ed0"
      },
      "execution_count": null,
      "outputs": [
        {
          "output_type": "display_data",
          "data": {
            "text/plain": [
              "Downloading (…)\"tf_model.h5\";:   0%|          | 0.00/657M [00:00<?, ?B/s]"
            ],
            "application/vnd.jupyter.widget-view+json": {
              "version_major": 2,
              "version_minor": 0,
              "model_id": "505247cc442c4e899a6266d785088411"
            }
          },
          "metadata": {}
        },
        {
          "output_type": "stream",
          "name": "stderr",
          "text": [
            "Some layers from the model checkpoint at roberta-base were not used when initializing TFRobertaModel: ['lm_head']\n",
            "- This IS expected if you are initializing TFRobertaModel from the checkpoint of a model trained on another task or with another architecture (e.g. initializing a BertForSequenceClassification model from a BertForPreTraining model).\n",
            "- This IS NOT expected if you are initializing TFRobertaModel from the checkpoint of a model that you expect to be exactly identical (initializing a BertForSequenceClassification model from a BertForSequenceClassification model).\n",
            "All the layers of TFRobertaModel were initialized from the model checkpoint at roberta-base.\n",
            "If your task is similar to the task the model of the checkpoint was trained on, you can already use TFRobertaModel for predictions without further training.\n"
          ]
        }
      ]
    },
    {
      "cell_type": "code",
      "source": [
        "model = create_model(roberta_model, MAX_LEN)\n",
        "model.summary()"
      ],
      "metadata": {
        "execution": {
          "iopub.status.busy": "2021-12-22T22:09:19.203061Z",
          "iopub.execute_input": "2021-12-22T22:09:19.203495Z",
          "iopub.status.idle": "2021-12-22T22:09:21.496134Z",
          "shell.execute_reply.started": "2021-12-22T22:09:19.203453Z",
          "shell.execute_reply": "2021-12-22T22:09:21.495426Z"
        },
        "trusted": true,
        "colab": {
          "base_uri": "https://localhost:8080/"
        },
        "id": "-SOm0gbvF_pf",
        "outputId": "d594fd3e-319a-4149-c9a5-451c00b84a52"
      },
      "execution_count": null,
      "outputs": [
        {
          "output_type": "stream",
          "name": "stdout",
          "text": [
            "Model: \"model\"\n",
            "__________________________________________________________________________________________________\n",
            " Layer (type)                   Output Shape         Param #     Connected to                     \n",
            "==================================================================================================\n",
            " input_1 (InputLayer)           [(None, 128)]        0           []                               \n",
            "                                                                                                  \n",
            " input_2 (InputLayer)           [(None, 128)]        0           []                               \n",
            "                                                                                                  \n",
            " tf_roberta_model (TFRobertaMod  TFBaseModelOutputWi  124645632  ['input_1[0][0]',                \n",
            " el)                            thPoolingAndCrossAt               'input_2[0][0]']                \n",
            "                                tentions(last_hidde                                               \n",
            "                                n_state=(None, 128,                                               \n",
            "                                 768),                                                            \n",
            "                                 pooler_output=(Non                                               \n",
            "                                e, 768),                                                          \n",
            "                                 past_key_values=No                                               \n",
            "                                ne, hidden_states=N                                               \n",
            "                                one, attentions=Non                                               \n",
            "                                e, cross_attentions                                               \n",
            "                                =None)                                                            \n",
            "                                                                                                  \n",
            " dense (Dense)                  (None, 3)            2307        ['tf_roberta_model[0][1]']       \n",
            "                                                                                                  \n",
            "==================================================================================================\n",
            "Total params: 124,647,939\n",
            "Trainable params: 124,647,939\n",
            "Non-trainable params: 0\n",
            "__________________________________________________________________________________________________\n"
          ]
        }
      ]
    },
    {
      "cell_type": "code",
      "source": [
        "early_stop = tf.keras.callbacks.EarlyStopping(monitor='val_loss', patience=3)"
      ],
      "metadata": {
        "id": "grHRWVEU-Atv"
      },
      "execution_count": null,
      "outputs": []
    },
    {
      "cell_type": "code",
      "source": [
        "history = model.fit([train_input_ids,train_attention_masks], y_train, \n",
        "                    validation_data=([val_input_ids,val_attention_masks], y_valid), \n",
        "                    epochs=10, batch_size=32, callbacks=[early_stop])"
      ],
      "metadata": {
        "colab": {
          "base_uri": "https://localhost:8080/"
        },
        "id": "afic9Ono-DGa",
        "outputId": "248d3b67-90fc-47f8-8e2e-b8079968a0ed"
      },
      "execution_count": null,
      "outputs": [
        {
          "output_type": "stream",
          "name": "stdout",
          "text": [
            "Epoch 1/10\n",
            "720/720 [==============================] - 644s 813ms/step - loss: 0.6599 - categorical_accuracy: 0.7148 - val_loss: 0.4420 - val_categorical_accuracy: 0.8262\n",
            "Epoch 2/10\n",
            "720/720 [==============================] - 575s 798ms/step - loss: 0.3723 - categorical_accuracy: 0.8595 - val_loss: 0.3452 - val_categorical_accuracy: 0.8758\n",
            "Epoch 3/10\n",
            "720/720 [==============================] - 575s 798ms/step - loss: 0.2630 - categorical_accuracy: 0.9067 - val_loss: 0.3119 - val_categorical_accuracy: 0.8953\n",
            "Epoch 4/10\n",
            "720/720 [==============================] - 574s 798ms/step - loss: 0.1834 - categorical_accuracy: 0.9337 - val_loss: 0.3116 - val_categorical_accuracy: 0.9055\n",
            "Epoch 5/10\n",
            "720/720 [==============================] - 575s 798ms/step - loss: 0.1296 - categorical_accuracy: 0.9548 - val_loss: 0.3091 - val_categorical_accuracy: 0.9125\n",
            "Epoch 6/10\n",
            "720/720 [==============================] - 574s 798ms/step - loss: 0.0940 - categorical_accuracy: 0.9675 - val_loss: 0.3467 - val_categorical_accuracy: 0.9137\n",
            "Epoch 7/10\n",
            "720/720 [==============================] - 574s 798ms/step - loss: 0.0701 - categorical_accuracy: 0.9768 - val_loss: 0.3717 - val_categorical_accuracy: 0.9027\n",
            "Epoch 8/10\n",
            "720/720 [==============================] - 573s 796ms/step - loss: 0.0583 - categorical_accuracy: 0.9798 - val_loss: 0.3557 - val_categorical_accuracy: 0.9230\n"
          ]
        }
      ]
    },
    {
      "cell_type": "code",
      "source": [
        "model.save('/content/drive/MyDrive/Models/roberta-base-uncased.h5')"
      ],
      "metadata": {
        "id": "l5C3sKqZWg87"
      },
      "execution_count": null,
      "outputs": []
    },
    {
      "cell_type": "code",
      "source": [
        "# plot accuracy (train vs val)\n",
        "plt.plot(history.history['categorical_accuracy'])\n",
        "plt.plot(history.history['val_categorical_accuracy'])\n",
        "plt.title('Training Vs Validation Accuracy')\n",
        "plt.ylabel('accuracy')\n",
        "plt.xlabel('epoch')\n",
        "plt.legend(['train', 'test'], loc='upper left')\n",
        "plt.show()"
      ],
      "metadata": {
        "id": "AYNDd3icEOQU",
        "colab": {
          "base_uri": "https://localhost:8080/",
          "height": 297
        },
        "outputId": "bb82beee-caaf-4189-84ab-a7563d14a6d3"
      },
      "execution_count": null,
      "outputs": [
        {
          "output_type": "display_data",
          "data": {
            "text/plain": [
              "<Figure size 432x288 with 1 Axes>"
            ],
            "image/png": "[encoded data removed]"
          },
          "metadata": {}
        }
      ]
    },
    {
      "cell_type": "code",
      "source": [
        "# plot loss (train vs val)\n",
        "plt.plot(history.history['loss'])\n",
        "plt.plot(history.history['val_loss'])\n",
        "plt.title('Training Vs Validation Loss')\n",
        "plt.ylabel('loss')\n",
        "plt.xlabel('epoch')\n",
        "plt.legend(['train', 'test'], loc='upper left')\n",
        "plt.show()"
      ],
      "metadata": {
        "id": "MdVZqyZ6EOQX",
        "colab": {
          "base_uri": "https://localhost:8080/",
          "height": 297
        },
        "outputId": "d1f53f87-3795-489a-f7d1-6660af6c07b8"
      },
      "execution_count": null,
      "outputs": [
        {
          "output_type": "display_data",
          "data": {
            "text/plain": [
              "<Figure size 432x288 with 1 Axes>"
            ],
            "image/png": "[encoded data removed]"
          },
          "metadata": {}
        }
      ]
    },
    {
      "cell_type": "code",
      "source": [
        "'''history = model.fit([train_input_ids,train_attention_masks], y_train, \n",
        "                    validation_data=([val_input_ids,val_attention_masks], y_valid), \n",
        "                    epochs=3, batch_size=32)'''"
      ],
      "metadata": {
        "execution": {
          "iopub.status.busy": "2021-12-22T22:09:21.497524Z",
          "iopub.execute_input": "2021-12-22T22:09:21.497782Z",
          "iopub.status.idle": "2021-12-22T23:01:57.16071Z",
          "shell.execute_reply.started": "2021-12-22T22:09:21.497746Z",
          "shell.execute_reply": "2021-12-22T23:01:57.159908Z"
        },
        "trusted": true,
        "id": "KF0PyFrbF_pg",
        "colab": {
          "base_uri": "https://localhost:8080/",
          "height": 54
        },
        "outputId": "93b258eb-8361-4b75-ae4c-0dd9b7ff7c11"
      },
      "execution_count": null,
      "outputs": [
        {
          "output_type": "execute_result",
          "data": {
            "text/plain": [
              "'history = model.fit([train_input_ids,train_attention_masks], y_train, \\n                    validation_data=([val_input_ids,val_attention_masks], y_valid), \\n                    epochs=3, batch_size=32)'"
            ],
            "application/vnd.google.colaboratory.intrinsic+json": {
              "type": "string"
            }
          },
          "metadata": {},
          "execution_count": 63
        }
      ]
    },
    {
      "cell_type": "markdown",
      "source": [
        "# RoBERTa results"
      ],
      "metadata": {
        "id": "7c0tPVM_F_pg"
      }
    },
    {
      "cell_type": "code",
      "source": [
        "result_roberta = model.predict([test_input_ids,test_attention_masks])"
      ],
      "metadata": {
        "execution": {
          "iopub.status.busy": "2021-12-22T23:01:57.162528Z",
          "iopub.execute_input": "2021-12-22T23:01:57.162787Z",
          "iopub.status.idle": "2021-12-22T23:02:18.816734Z",
          "shell.execute_reply.started": "2021-12-22T23:01:57.162754Z",
          "shell.execute_reply": "2021-12-22T23:02:18.815967Z"
        },
        "trusted": true,
        "id": "Lh_LJkwPF_ph",
        "colab": {
          "base_uri": "https://localhost:8080/"
        },
        "outputId": "0b4d1cf9-7991-478d-e3b2-4a17b4ac9d45"
      },
      "execution_count": null,
      "outputs": [
        {
          "output_type": "stream",
          "name": "stdout",
          "text": [
            "76/76 [==============================] - 23s 265ms/step\n"
          ]
        }
      ]
    },
    {
      "cell_type": "code",
      "source": [
        "y_pred_roberta =  np.zeros_like(result_roberta)\n",
        "y_pred_roberta[np.arange(len(y_pred_roberta)), result_roberta.argmax(1)] = 1"
      ],
      "metadata": {
        "execution": {
          "iopub.status.busy": "2021-12-22T23:02:18.818471Z",
          "iopub.execute_input": "2021-12-22T23:02:18.818725Z",
          "iopub.status.idle": "2021-12-22T23:02:18.824354Z",
          "shell.execute_reply.started": "2021-12-22T23:02:18.818691Z",
          "shell.execute_reply": "2021-12-22T23:02:18.823634Z"
        },
        "trusted": true,
        "id": "tK6mcvczF_ph"
      },
      "execution_count": null,
      "outputs": []
    },
    {
      "cell_type": "code",
      "source": [
        "conf_matrix(y_test.argmax(1),y_pred_roberta.argmax(1),'RoBERTa Sentiment Analysis\\nConfusion Matrix')"
      ],
      "metadata": {
        "_kg_hide-input": true,
        "execution": {
          "iopub.status.busy": "2021-12-22T23:02:18.826277Z",
          "iopub.execute_input": "2021-12-22T23:02:18.826841Z",
          "iopub.status.idle": "2021-12-22T23:02:19.069944Z",
          "shell.execute_reply.started": "2021-12-22T23:02:18.826804Z",
          "shell.execute_reply": "2021-12-22T23:02:19.069179Z"
        },
        "trusted": true,
        "id": "uv0JRyMwF_pi",
        "colab": {
          "base_uri": "https://localhost:8080/",
          "height": 369
        },
        "outputId": "ada3830c-1d47-4362-dae6-a70570a69f56"
      },
      "execution_count": null,
      "outputs": [
        {
          "output_type": "display_data",
          "data": {
            "text/plain": [
              "<Figure size 360x360 with 1 Axes>"
            ],
            "image/png": "[encoded data removed]"
          },
          "metadata": {}
        }
      ]
    },
    {
      "cell_type": "code",
      "source": [
        "print('\\tClassification Report for RoBERTa:\\n\\n',classification_report(y_test,y_pred_roberta, target_names=['Negative', 'Neutral', 'Positive']))"
      ],
      "metadata": {
        "_kg_hide-input": true,
        "execution": {
          "iopub.status.busy": "2021-12-22T23:02:19.071175Z",
          "iopub.execute_input": "2021-12-22T23:02:19.071621Z",
          "iopub.status.idle": "2021-12-22T23:02:19.09548Z",
          "shell.execute_reply.started": "2021-12-22T23:02:19.071583Z",
          "shell.execute_reply": "2021-12-22T23:02:19.094654Z"
        },
        "trusted": true,
        "id": "C5FIz1AZF_pi",
        "colab": {
          "base_uri": "https://localhost:8080/"
        },
        "outputId": "d71c791b-8606-43b7-c2f1-ca70ee6cc1d8"
      },
      "execution_count": null,
      "outputs": [
        {
          "output_type": "stream",
          "name": "stdout",
          "text": [
            "\tClassification Report for RoBERTa:\n",
            "\n",
            "               precision    recall  f1-score   support\n",
            "\n",
            "    Negative       0.88      0.83      0.85       719\n",
            "     Neutral       0.90      0.93      0.91       924\n",
            "    Positive       0.90      0.91      0.91       780\n",
            "\n",
            "   micro avg       0.89      0.89      0.89      2423\n",
            "   macro avg       0.89      0.89      0.89      2423\n",
            "weighted avg       0.89      0.89      0.89      2423\n",
            " samples avg       0.89      0.89      0.89      2423\n",
            "\n"
          ]
        }
      ]
    },
    {
      "cell_type": "code",
      "source": [
        "print('Prediction Accuracy Roberta:', \"{:.2f}\".format(100*accuracy_score(y_test,y_pred_roberta))+\"%\")"
      ],
      "metadata": {
        "id": "jFuIJ0VMWQMY",
        "colab": {
          "base_uri": "https://localhost:8080/"
        },
        "outputId": "207edc43-0c50-4e7b-858e-0c9c25626c61"
      },
      "execution_count": null,
      "outputs": [
        {
          "output_type": "stream",
          "name": "stdout",
          "text": [
            "Prediction Accuracy Roberta: 89.35%\n"
          ]
        }
      ]
    }
  ]
}